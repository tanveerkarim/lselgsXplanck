{
 "cells": [
  {
   "cell_type": "markdown",
   "id": "9f690b38-6e1a-44c3-9676-7c151f333c3b",
   "metadata": {},
   "source": [
    "Testing theory power spectra generator script"
   ]
  },
  {
   "cell_type": "code",
   "execution_count": null,
   "id": "7670fc2e-d0cb-4e59-9d41-628c96b704c8",
   "metadata": {},
   "outputs": [],
   "source": [
    "import sys\n",
    "import pickle\n",
    "import camb\n",
    "import numpy as np\n",
    "import pandas as pd\n",
    "import matplotlib.pyplot as plt\n",
    "\n",
    "sys.path.insert(0,'/global/homes/t/tanveerk/SkyLens/') #path to skylens\n",
    "sys.path.insert(0,'/global/homes/t/tanveerk/SkyLens/skylens') #path to skylens\n",
    "sys.path.insert(0,'/global/homes/t/tanveerk/desi-lensing-cc/src/') #path to helper functions\n",
    "\n",
    "import healpy as hp\n",
    "#from skylens import *\n",
    "#from survey_utils import *\n",
    "import skylens\n",
    "import survey_utils\n",
    "import utils #helper functions\n",
    "\n",
    "#only for python3\n",
    "import importlib\n",
    "reload=importlib.reload\n",
    "\n",
    "from time import time\n",
    "from scipy.integrate import quad"
   ]
  }
 ],
 "metadata": {
  "kernelspec": {
   "display_name": "CosmoPower",
   "language": "python",
   "name": "cp_env"
  },
  "language_info": {
   "codemirror_mode": {
    "name": "ipython",
    "version": 3
   },
   "file_extension": ".py",
   "mimetype": "text/x-python",
   "name": "python",
   "nbconvert_exporter": "python",
   "pygments_lexer": "ipython3",
   "version": "3.7.12"
  }
 },
 "nbformat": 4,
 "nbformat_minor": 5
}
