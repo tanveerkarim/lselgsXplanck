{
 "cells": [
  {
   "cell_type": "markdown",
   "id": "b847d8fe-2c25-4b4a-a8cb-099e767dd326",
   "metadata": {},
   "source": [
    "In this notebook, we evaluate accuracy and precision of `Skylens` angular power spectra.\n",
    "- Theory: We compare the code against `CCL`, which does similar calculations.\n",
    "- Pseudo-$C_{\\ell}$: We generate a simulation with a complicated mask; we then measure the observed angular power spectra with `healpy` and compare against `Skylens`"
   ]
  },
  {
   "cell_type": "code",
   "execution_count": 1,
   "id": "2291af28-3448-46e5-9aca-806b2cb8e826",
   "metadata": {},
   "outputs": [],
   "source": [
    "#auto load changes \n",
    "%load_ext autoreload\n",
    "%autoreload 2\n",
    "\n",
    "%load_ext line_profiler"
   ]
  },
  {
   "cell_type": "code",
   "execution_count": 2,
   "id": "4fbae296-5639-4595-a491-206d6e6a2cdf",
   "metadata": {},
   "outputs": [
    {
     "name": "stdout",
     "output_type": "stream",
     "text": [
      "skylens main: /global/homes/t/tanveerk/SkyLens/skylens/__init__.py\n"
     ]
    }
   ],
   "source": [
    "import sys\n",
    "import pyccl as ccl\n",
    "import pickle\n",
    "\n",
    "import camb\n",
    "from camb import model, initialpower\n",
    "from astropy.cosmology import Planck15 as cosmo\n",
    "from astropy.cosmology import default_cosmology\n",
    "from astropy import units\n",
    "import astropy\n",
    "\n",
    "import numpy as np\n",
    "import pandas as pd\n",
    "\n",
    "sys.path.insert(0,'/global/homes/t/tanveerk/SkyLens/') #path to skylens\n",
    "sys.path.insert(0,'/global/homes/t/tanveerk/SkyLens/skylens') #path to skylens\n",
    "sys.path.insert(0,'/global/homes/t/tanveerk/lselgsXplanck/src/') #path to helper functions\n",
    "\n",
    "import skylens\n",
    "import utilsCross #helper functions\n",
    "\n",
    "import matplotlib.pyplot as plt\n",
    "plt.style.use(\"seaborn-paper\")"
   ]
  },
  {
   "cell_type": "markdown",
   "id": "872363de-1e00-47de-ab8e-e84302cae3ce",
   "metadata": {
    "tags": []
   },
   "source": [
    "## Define cosmology"
   ]
  },
  {
   "cell_type": "code",
   "execution_count": 3,
   "id": "b2b0fabc-8145-4657-94c1-93ef4ea41984",
   "metadata": {},
   "outputs": [],
   "source": [
    "from astropy.cosmology import Planck18_arXiv_v2 as cosmo_planck\n",
    "\n",
    "cosmo_fid=dict({'h':cosmo_planck.h,\n",
    "                'Omb':cosmo_planck.Ob0,\n",
    "                'Omd':cosmo_planck.Om0-cosmo_planck.Ob0,\n",
    "                's8':0.817,\n",
    "                'Om':cosmo_planck.Om0,\n",
    "                'Ase9':2.2,\n",
    "                'mnu':0,\n",
    "                'Omk':cosmo_planck.Ok0,\n",
    "                'tau':0.06,\n",
    "                'ns':0.965,\n",
    "                'OmR':cosmo_planck.Ogamma0+cosmo_planck.Onu0,\n",
    "                'w':-1,\n",
    "                'wa':0,\n",
    "                'T_cmb':cosmo_planck.Tcmb0, \n",
    "                'Neff':cosmo_planck.Neff,\n",
    "                'z_max':1090,\n",
    "                'use_astropy':True})"
   ]
  },
  {
   "cell_type": "code",
   "execution_count": 4,
   "id": "40b34d0a-27a4-45b8-bcee-008ef338888e",
   "metadata": {},
   "outputs": [],
   "source": [
    "pk_params={'non_linear':1,\n",
    "           'kmax':10,\n",
    "           'kmin':3.e-4,\n",
    "           'nk':500,\n",
    "           'scenario':'dmo', \n",
    "           'halofit_version':'takahashi',\n",
    "           'pk_func' :'camb_pk'}"
   ]
  },
  {
   "cell_type": "code",
   "execution_count": 5,
   "id": "3b3b72d3-77cc-4487-a6da-d0e6e2052028",
   "metadata": {},
   "outputs": [],
   "source": [
    "cosmo_params = cosmo_fid"
   ]
  },
  {
   "cell_type": "markdown",
   "id": "80a06c2d-2151-4f8f-b9a6-b7552a233aa6",
   "metadata": {},
   "source": [
    "# Test of Theory $C_{\\ell}$"
   ]
  },
  {
   "cell_type": "markdown",
   "id": "af41dcfe-6dbc-43c6-84ec-c8552d892ebb",
   "metadata": {},
   "source": [
    "## Setup `Skylens`\n",
    "\n",
    "In this section, we calculate both theory angular power spectra and the window convolved pseudo-$C_{\\ell}$s."
   ]
  },
  {
   "cell_type": "markdown",
   "id": "76e2d56e-c9ce-41bd-99f1-939408444db3",
   "metadata": {},
   "source": [
    "Setting up virtual dask cluster for calculations. Adjust memory and threads according to your system."
   ]
  },
  {
   "cell_type": "code",
   "execution_count": 6,
   "id": "4bd0f918-151a-4a46-bce4-62522c1afa06",
   "metadata": {},
   "outputs": [
    {
     "name": "stderr",
     "output_type": "stream",
     "text": [
      "/global/homes/t/tanveerk/.conda/envs/myenv_perlmutter/lib/python3.7/site-packages/distributed/node.py:155: UserWarning: Port 8787 is already in use.\n",
      "Perhaps you already have a cluster running?\n",
      "Hosting the HTTP server on port 43189 instead\n",
      "  http_address[\"port\"], self.http_server.port\n"
     ]
    }
   ],
   "source": [
    "from distributed import LocalCluster\n",
    "from dask.distributed import Client \n",
    "#http://distributed.readthedocs.io/en/latest/_modules/distributed/worker.html\n",
    "c=LocalCluster(n_workers=1,processes=False,memory_limit='150gb',threads_per_worker=4,\n",
    "               memory_spill_fraction=.99,memory_monitor_interval='2000ms')\n",
    "client=Client(c)"
   ]
  },
  {
   "cell_type": "markdown",
   "id": "78073758-210c-4aa1-909b-97b845e6867f",
   "metadata": {},
   "source": [
    "Import wigner files"
   ]
  },
  {
   "cell_type": "code",
   "execution_count": 7,
   "id": "41263919-01ae-46cc-9157-5ca5d8cbacf7",
   "metadata": {},
   "outputs": [],
   "source": [
    "wigner_files={} \n",
    "wigner_files[0]= '/pscratch/sd/t/tanveerk/wig3j_l3072_w6144_0_reorder.zarr/'"
   ]
  },
  {
   "cell_type": "markdown",
   "id": "261843b5-7bc1-4077-8e06-92aeb249e6f2",
   "metadata": {},
   "source": [
    "Setup parameters for map"
   ]
  },
  {
   "cell_type": "code",
   "execution_count": 8,
   "id": "e6b12d2d-5ed4-47ae-a4a4-bec3cf879bd9",
   "metadata": {},
   "outputs": [],
   "source": [
    "test = True\n",
    "\n",
    "if test:\n",
    "    NSIDE = 256\n",
    "    lmax_cl = 3 * NSIDE - 1\n",
    "    binsize = 10\n",
    "else:\n",
    "    NSIDE = 1024\n",
    "    lmax_cl = 3 * NSIDE - 1\n",
    "    binsize = 50"
   ]
  },
  {
   "cell_type": "code",
   "execution_count": 9,
   "id": "d9c270c6-784a-45c1-8956-e043ca53490a",
   "metadata": {},
   "outputs": [],
   "source": [
    "lmin_cl=0\n",
    "l0=np.arange(lmin_cl,lmax_cl)\n",
    "\n",
    "#following defines the ell bins. Using log bins in example, feel free to change.\n",
    "lmin_cl_Bins=50\n",
    "lmax_cl_Bins=lmax_cl-10\n",
    "Nl_bins=20\n",
    "#l_bins=np.int64(np.logspace(np.log10(lmin_cl_Bins),np.log10(lmax_cl_Bins),Nl_bins))\n",
    "l_bins = np.arange(lmin_cl_Bins, lmax_cl_Bins, binsize)\n",
    "#lb=np.sqrt(l_bins[1:]*l_bins[:-1])\n",
    "lb=0.5*(l_bins[1:]+l_bins[:-1])\n",
    "\n",
    "l=l0\n",
    "\n",
    "do_cov=False # if you want to get covariance. Covariance is slow and this should be false if you are calling skylens inside mcmc.\n",
    "bin_cl=True #bin the theory and covaraince. \n",
    "\n",
    "use_window=False #if you want to include the window effect. Code will return pseudo-cl and pseudo-cl covariance\n",
    "store_win=True # to store window, for some internal reasons. leave it to true.\n",
    "window_lmax=3*NSIDE - 1 #smaller value for testing. This should be 2X ell_max in the measurements.\n",
    "\n",
    "use_binned_l=False  #FIXME: to speed up computation if using pseudo-cl inside mcmc. Needs to be tested. Leave it false for now.\n",
    "\n",
    "SSV_cov=False # we donot have good model for super sample and tri-spectrum. We can chat about implementing some approximate analytical forms.\n",
    "tidal_SSV_cov=False\n",
    "Tri_cov=False \n",
    "\n",
    "bin_xi=True\n",
    "theta_bins=np.logspace(np.log10(1./60),1,20)"
   ]
  },
  {
   "cell_type": "code",
   "execution_count": 10,
   "id": "2a7a1fc5-36b1-424d-b34d-e18eb702aef3",
   "metadata": {
    "tags": []
   },
   "outputs": [],
   "source": [
    "def SkyLens_cls(nside, l,  \n",
    "                dndz_dict, gal_window_dict, gal_maskfile,\n",
    "                cmb_SN_file, cmb_window_map_arr,\n",
    "                z_cmb = 1090, zmax_cmb = 1090,\n",
    "                bg1 = None, bz1 = None, mag_fact = 0, \n",
    "                zmin_gal = 0.0, zmax_gal = 1.6, nz = 140, \n",
    "                use_window = True,\n",
    "                Win = None):\n",
    "    \"\"\"Returns Skylens object for C_ell calculation based on given maps.\n",
    "    \n",
    "    Inputs:\n",
    "        nside (int) : nside for healpy\n",
    "        l (array) : multipoles to evaluate \n",
    "        dndz_dict (dict) : dictionary containing dndz file location per tomographic bin\n",
    "        gal_window_dict (dict) : dictionary containing galaxy window function file \n",
    "                                location per tomographic bin\n",
    "        gal_maskfile (str) : Galaxy mask file location\n",
    "        cmb_SN_file (str) : CMB noise curve file location \n",
    "        cmb_window_map_arr (str) : CMB window function file location\n",
    "        z_cmb (float) : redshift of CMB \n",
    "        zmax_cmb (float) : maximum redshift where CMB lensing kernel should be integrated up to\n",
    "        bg1 (float) : linear bias term for galaxies\n",
    "        bz1 (dict) : redshift dependent galaxy bias\n",
    "        mag_fact (float) : magnification bias \n",
    "        zmin_gal (float) : min redshift for galaxy sample\n",
    "        zmax_gal (float) : max redshift for galaxy sample\n",
    "        nz (int) : number of redshifts where P(k) will be evaluated\n",
    "        use_window (bool) : whether to evaluate window function\n",
    "        Win (dict) : optional dict; pass saved window calculated before\n",
    "        \n",
    "    Returns:\n",
    "        kappa0 (dict) : Skylens dict containing Cls, pCls, coupling matrices\n",
    "    \"\"\"\n",
    "    \n",
    "    results = {}\n",
    "            \n",
    "    #tomographed redshift bins for the galaxies\n",
    "    zl_bin = utilsCross.DESI_elg_bins(l=l, nside = nside, ntomo_bins = len(gal_window_dict), \n",
    "                                 bg1 = bg1, bz1 = bz1, mag_fact = mag_fact, \n",
    "                                 dndz_arr = dndz_dict, \n",
    "                                 gal_maskfile = gal_maskfile, gal_window_arr = gal_window_dict,\n",
    "                                use_window = use_window)\n",
    "\n",
    "    np.array([cmb_window_map_file])\n",
    "    #redshift bins for cmb\n",
    "    zs_bin = utilsCross.cmb_bins_here(zs = z_cmb, l=l, nside = nside, \n",
    "                                 zmax_cmb = zmax_cmb, SN_file = cmb_SN_file, \n",
    "                                 cmb_window_map_arr = cmb_window_map_arr,\n",
    "                                use_window = use_window) # lensing source bin\n",
    "    \n",
    "    #names of maps\n",
    "    corr_kk=('kappa','kappa')\n",
    "    corr_gg=('galaxy','galaxy')\n",
    "    corr_gk=('galaxy','kappa')\n",
    "    corrs=[corr_kk, corr_gg, corr_gk]\n",
    "    \n",
    "    #tmpz1 = np.linspace(max(zmin_gal, 1e-4), zmax_gal, nz)\n",
    "    tmpz1 = np.linspace(0.01, zmax_gal + 0.5, nz)\n",
    "    #tmpz2 = np.logspace(-4, np.log10(zmax_cmb), nz) #\n",
    "    #z_PS = np.sort(np.unique(np.around(np.append(tmpz1, tmpz2), \n",
    "    #                                   decimals = 3))) #redshifts where P(k) will be evaluated\n",
    "    z_PS = tmpz1\n",
    "    print(\"z_PS: \", len(z_PS))\n",
    "    \n",
    "    if Win is not None:\n",
    "        kappa0 = skylens.Skylens(kappa_zbins=zs_bin,do_cov=do_cov,bin_cl=bin_cl,l_bins=l_bins,l=l0, \n",
    "                                 galaxy_zbins=zl_bin,\n",
    "                                       use_window=use_window,Tri_cov=Tri_cov, Win = Win,\n",
    "                                       use_binned_l=use_binned_l,wigner_files=wigner_files,\n",
    "                                       SSV_cov=SSV_cov,tidal_SSV_cov=tidal_SSV_cov,\n",
    "                                       store_win=store_win,window_lmax=window_lmax,\n",
    "                                       corrs=corrs, scheduler_info=client.scheduler_info(), log_z_PS=1,\n",
    "                                       cosmo_params = cosmo_params, z_PS=z_PS, pk_params = pk_params)\n",
    "        \n",
    "    else:\n",
    "        kappa0 = skylens.Skylens(kappa_zbins=zs_bin,do_cov=do_cov,bin_cl=bin_cl,l_bins=l_bins,l=l0, galaxy_zbins=zl_bin,\n",
    "                                       use_window=use_window,Tri_cov=Tri_cov, #Win = Win,\n",
    "                                       use_binned_l=use_binned_l,wigner_files=wigner_files,\n",
    "                                       SSV_cov=SSV_cov,tidal_SSV_cov=tidal_SSV_cov,\n",
    "                                       store_win=store_win,window_lmax=window_lmax,\n",
    "                                       corrs=corrs, scheduler_info=client.scheduler_info(), log_z_PS=1,\n",
    "                                       cosmo_params = cosmo_params, z_PS=z_PS, pk_params = pk_params)\n",
    "\n",
    "#    results['kappa0'] = kappa0\n",
    "    \n",
    "#     #calculate C_ells\n",
    "#     cl0G = kappa0.cl_tomo() \n",
    "\n",
    "#     #calculate 3x2 C_ells\n",
    "#     corr_kk = ('kappa', 'kappa')\n",
    "#     corr_gg = ('galaxy', 'galaxy')\n",
    "#     corr_kg = ('kappa', 'galaxy')\n",
    "#     bi = (0,0)\n",
    "\n",
    "#     c_ell_dict = {} #store values\n",
    "    \n",
    "#     # binned theory C_ells\n",
    "#     c_ell_dict['gg_binned'] = cl0G['cl_b'][corr_gg][bi].compute()\n",
    "#     c_ell_dict['kg_binned'] = cl0G['cl_b'][corr_kg][bi].compute()\n",
    "#     c_ell_dict['kk_binned'] = cl0G['cl_b'][corr_kk][bi].compute()\n",
    "    \n",
    "#     #unbinned theory C_ells\n",
    "#     c_ell_dict['gg'] = cl0G['cl'][corr_gg][bi].compute()\n",
    "#     c_ell_dict['kg'] = cl0G['cl'][corr_kg][bi].compute()\n",
    "#     c_ell_dict['kk'] = cl0G['cl'][corr_kk][bi].compute()\n",
    "    \n",
    "#     #unbinned theory pseudo C_ells\n",
    "#     c_ell_dict['pgg'] = cl0G['pseudo_cl'][corr_gg][bi].compute()\n",
    "#     c_ell_dict['pkg'] = cl0G['pseudo_cl'][corr_kg][bi].compute()\n",
    "#     c_ell_dict['pkk'] = cl0G['pseudo_cl'][corr_kk][bi].compute()\n",
    "    \n",
    "    return kappa0"
   ]
  },
  {
   "cell_type": "markdown",
   "id": "4081f9e3-8f23-45dc-8cf5-e8369b0bbff6",
   "metadata": {},
   "source": [
    "Location for relevant files for analysis"
   ]
  },
  {
   "cell_type": "code",
   "execution_count": 11,
   "id": "a79cee4e-ef52-447f-a2a8-f968dd9fd968",
   "metadata": {},
   "outputs": [],
   "source": [
    "wtype = 'nnp' #window type \n",
    "cmb_SN_file = '/pscratch/sd/t/tanveerk/cmb/lensing/MV/nlkk.dat'\n",
    "gal_maskfile = '/global/homes/t/tanveerk/lselgsXplanck/finalproducts/mask_bool_dr9.npy'\n",
    "cmb_window_map_file = np.array(['/global/homes/t/tanveerk/lselgsXplanck/finalproducts/mask_rotated_eq_nside_1024.npy'])\n",
    "gal_window_map_file = \"/global/homes/t/tanveerk/lselgsXplanck/finalproducts/Wg_map_nnp.npy\"\n",
    "gal_window_dict = np.array([gal_window_map_file])\n",
    "\n",
    "#dndz file\n",
    "redz_file = pd.read_csv(\"/global/homes/t/tanveerk/lselgsXplanck/finalproducts/fuji_pz_single_tomo.csv\")\n",
    "dndz = {}\n",
    "dndz['zrange'] = np.array(redz_file['Redshift_mid'])\n",
    "dndz['dndz'] = np.array(redz_file['pz'])\n",
    "zrange = dndz['zrange']"
   ]
  },
  {
   "cell_type": "code",
   "execution_count": 12,
   "id": "e4f303d9-3233-4fc1-aa64-cf6c35f07679",
   "metadata": {},
   "outputs": [],
   "source": [
    "#define cosmology object\n",
    "tmpcosmo = skylens.cosmology(cosmo_params=cosmo_params)\n",
    "\n",
    "bg1 = None\n",
    "bz1 = {}\n",
    "bz1[0] = 1./tmpcosmo.DZ_int(z=zrange)\n",
    "\n",
    "mag_fact = 0 # set magnification bias ##FIXME: need to change it based on Rongpu's method"
   ]
  },
  {
   "cell_type": "markdown",
   "id": "f1053be3-5942-4649-b25a-c1a91e46b48e",
   "metadata": {},
   "source": [
    "Calculate Skylens object"
   ]
  },
  {
   "cell_type": "code",
   "execution_count": 13,
   "id": "6ac21a5d-5859-42d0-99a5-32633ae468af",
   "metadata": {},
   "outputs": [
    {
     "name": "stdout",
     "output_type": "stream",
     "text": [
      "0.0 1.6 None 0.0030461741978670856\n"
     ]
    },
    {
     "name": "stderr",
     "output_type": "stream",
     "text": [
      "/global/homes/t/tanveerk/lselgsXplanck/src/utilsCross.py:113: RuntimeWarning: invalid value encountered in sqrt\n",
      "  window_map_noise = np.sqrt(window_map)\n"
     ]
    },
    {
     "name": "stdout",
     "output_type": "stream",
     "text": [
      "cmb yes\n",
      "processing cmb lensing window\n",
      "z_PS:  140\n",
      "Tracer utils has tracers:  ['galaxy', 'kappa']\n"
     ]
    },
    {
     "name": "stderr",
     "output_type": "stream",
     "text": [
      "/global/homes/t/tanveerk/SkyLens/skylens/tracer_utils.py:73: VisibleDeprecationWarning: Creating an ndarray from ragged nested sequences (which is a list-or-tuple of lists-or-tuples-or ndarrays with different lengths or shapes) is deprecated. If you meant to do this, you must specify 'dtype=object' when creating the ndarray.\n",
      "  z_max_all=np.array([self.z_bins[tracer]['zmax'] for tracer in self.tracers])\n",
      "/global/homes/t/tanveerk/SkyLens/skylens/angular_power_spectra.py:27: RuntimeWarning: divide by zero encountered in true_divide\n",
      "  self.cl_f=(l+0.5)**2/(l*(l+1.)) # cl correction from Kilbinger+ 2017\n"
     ]
    },
    {
     "name": "stdout",
     "output_type": "stream",
     "text": [
      "power spectra camb_pk\n",
      "True\n",
      "Win gen: step size 177 767 768.0 1\n",
      "wigner_files: {0: '/pscratch/sd/t/tanveerk/wig3j_l3072_w6144_0_reorder.zarr/'}\n",
      "wigner done dict_keys([])\n",
      "set window_cl: cl0,cl_b done 3.719329833984375e-05\n",
      "Win_cli ('kappa', 'kappa', 0, 0) ('kappa', 'kappa') (0, 0)\n",
      "Win_cli ('galaxy', 'galaxy', 0, 0) ('galaxy', 'galaxy') (0, 0)\n",
      "Win_cli ('galaxy', 'kappa', 0, 0) ('galaxy', 'kappa') (0, 0)\n",
      "set window_cl: cl done 0.0024347305297851562 302.081 0.0\n",
      "cl+cov bags done 3 0 0.22034287452697754\n",
      "set_window_cl done 13.107016801834106\n",
      "setting windows, coupling matrices  <Client: 'inproc://128.55.64.31/81215/1' processes=1 threads=4, memory=150.00 GB>\n",
      "doing lm 0\n",
      "done lm cl+cov graph 0 0.0005667209625244141 604.072 inproc://128.55.64.31/81215/3\n",
      "done lm 0 0.48371148109436035\n",
      "doing lm 177\n",
      "done lm cl+cov graph 177 0.0010044574737548828 604.072 inproc://128.55.64.31/81215/3\n",
      "done lm 177 0.479550838470459\n",
      "doing lm 354\n",
      "done lm cl+cov graph 354 0.0016374588012695312 604.072 inproc://128.55.64.31/81215/3\n",
      "done lm 354 0.47973084449768066\n",
      "doing lm 531\n",
      "done lm cl+cov graph 531 0.0007927417755126953 604.072 inproc://128.55.64.31/81215/3\n",
      "done lm 531 0.47492432594299316\n",
      "doing lm 708\n",
      "done lm cl+cov graph 708 0.0014863014221191406 604.072 inproc://128.55.64.31/81215/3\n",
      "got wig3j 708 278.035 (23, 14) 5\n",
      "got wig3j 0 834.104 (23, 14) 5\n",
      "coupling_matrix_large (59, 767)\n",
      "coupling_matrix_large (59, 767)\n",
      "coupling_matrix_large (59, 767)\n",
      "coupling_matrix_large (59, 767)\n",
      "coupling_matrix_large (59, 767)\n",
      "got wig3j 354 834.104 (24, 14) 6\n",
      "got wig3j 531 834.104 (23, 14) 5\n",
      "coupling_matrix_large (177, 767)\n",
      "coupling_matrix_large (177, 767)\n",
      "coupling_matrix_large (177, 767)\n",
      "coupling_matrix_large (177, 767)\n",
      "coupling_matrix_large (177, 767)\n",
      "coupling_matrix_large (177, 767)\n",
      "coupling_matrix_large (177, 767)\n",
      "coupling_matrix_large (177, 767)\n",
      "coupling_matrix_large (177, 767)\n",
      "coupling_matrix_large (177, 767)\n",
      "coupling_matrix_large (177, 767)\n",
      "coupling_matrix_large (177, 767)\n",
      "coupling_matrix_large (177, 767)\n",
      "coupling_matrix_large (177, 767)\n",
      "coupling_matrix_large (177, 767)\n",
      "got wig3j 177 834.104 (24, 14) 5\n",
      "coupling_matrix_large (177, 767)\n",
      "coupling_matrix_large (177, 767)\n",
      "coupling_matrix_large (177, 767)\n",
      "coupling_matrix_large (177, 767)\n",
      "coupling_matrix_large (177, 767)\n",
      "done lm 708 13.886016368865967\n",
      "Done all lm 13.886060237884521\n",
      "done combine lm 13.90530800819397\n",
      "Window done. Size: 23.563\n"
     ]
    }
   ],
   "source": [
    "kappa0 = SkyLens_cls(nside = NSIDE, l = l,  \n",
    "                dndz_dict = dndz, gal_window_dict = gal_window_dict, gal_maskfile = gal_maskfile,\n",
    "                cmb_SN_file = cmb_SN_file, cmb_window_map_arr = cmb_window_map_file,\n",
    "                z_cmb = 1090, zmax_cmb = 1090,\n",
    "                bg1 = None, bz1 = bz1, mag_fact = mag_fact, \n",
    "                zmin_gal = 0.0, zmax_gal = 1.6, nz = 140, \n",
    "                use_window = True,\n",
    "                Win = None)"
   ]
  },
  {
   "cell_type": "markdown",
   "id": "061a365e-b603-4e27-8ea5-3dfb97a1c1c7",
   "metadata": {},
   "source": [
    "Now we calculate the angular power spectra."
   ]
  },
  {
   "cell_type": "code",
   "execution_count": 14,
   "id": "fa9f6d23-c35c-477d-8429-ce46967973ff",
   "metadata": {},
   "outputs": [
    {
     "name": "stdout",
     "output_type": "stream",
     "text": [
      "scatter_dict got empty dictionary\n",
      "[('kappa', 'kappa'), ('galaxy', 'galaxy'), ('galaxy', 'kappa')]\n",
      "cl graph done\n",
      "gather_dict got empty dictionary\n"
     ]
    },
    {
     "name": "stderr",
     "output_type": "stream",
     "text": [
      "/global/homes/t/tanveerk/SkyLens/skylens/tracer_utils.py:368: RuntimeWarning: invalid value encountered in true_divide\n",
      "  kernel['gkernel_int']/=np.sum(pz_zl*dzl)\n"
     ]
    }
   ],
   "source": [
    "bi = (0,0)\n",
    "#calculate C_ells\n",
    "cl0G = kappa0.cl_tomo() \n",
    "\n",
    "#calculate 3x2 C_ells\n",
    "corr_kk = ('kappa', 'kappa')\n",
    "corr_gg = ('galaxy', 'galaxy')\n",
    "corr_kg = ('kappa', 'galaxy')\n",
    "bi = (0,0)\n",
    "\n",
    "c_ell_dict = {} #store values\n",
    "\n",
    "# binned theory C_ells\n",
    "c_ell_dict['gg_binned'] = cl0G['cl_b'][corr_gg][bi].compute()\n",
    "c_ell_dict['kg_binned'] = cl0G['cl_b'][corr_kg][bi].compute()\n",
    "c_ell_dict['kk_binned'] = cl0G['cl_b'][corr_kk][bi].compute()\n",
    "\n",
    "#unbinned theory C_ells\n",
    "c_ell_dict['gg'] = cl0G['cl'][corr_gg][bi].compute()\n",
    "c_ell_dict['kg'] = cl0G['cl'][corr_kg][bi].compute()\n",
    "c_ell_dict['kk'] = cl0G['cl'][corr_kk][bi].compute()\n",
    "\n",
    "#unbinned theory pseudo C_ells\n",
    "c_ell_dict['pgg'] = cl0G['pseudo_cl'][corr_gg][bi].compute()\n",
    "c_ell_dict['pkg'] = cl0G['pseudo_cl'][corr_kg][bi].compute()\n",
    "c_ell_dict['pkk'] = cl0G['pseudo_cl'][corr_kk][bi].compute()\n",
    "\n",
    "#binned theory pseudo C_ells\n",
    "c_ell_dict['pgg_binned'] = cl0G['pseudo_cl_b'][corr_gg][bi].compute()\n",
    "c_ell_dict['pkg_binned'] = cl0G['pseudo_cl_b'][corr_kg][bi].compute()\n",
    "c_ell_dict['pkk_binned'] = cl0G['pseudo_cl_b'][corr_kk][bi].compute()"
   ]
  },
  {
   "cell_type": "markdown",
   "id": "ef141640-5fb4-401c-94e6-f466b5b3090a",
   "metadata": {},
   "source": [
    "## `CCL`\n",
    "\n",
    "In this section, we calculate theory angular power spectra using `CCL`."
   ]
  },
  {
   "cell_type": "code",
   "execution_count": 15,
   "id": "b8a6dd02-1f40-4759-8a57-936a801913c1",
   "metadata": {},
   "outputs": [],
   "source": [
    "cosmo_params_ccl={'Omega_c':kappa0.Ang_PS.PS.cosmo_params['Omd'],\n",
    "                  'Omega_b':kappa0.Ang_PS.PS.cosmo_params['Omb'],\n",
    "                  'h':kappa0.Ang_PS.PS.cosmo_params['h'],\n",
    "                  'sigma8':None,\n",
    "                  'A_s':kappa0.Ang_PS.PS.cosmo_params['Ase9']*1.e-9,\n",
    "                  'n_s': kappa0.Ang_PS.PS.cosmo_params['ns'],\n",
    "                  'm_nu':kappa0.Ang_PS.PS.cosmo_params['mnu'],\n",
    "                 'transfer_function':'boltzmann_camb', 'matter_power_spectrum':'linear'}\n",
    "if pk_params['non_linear']==1:\n",
    "    cosmo_params_ccl['matter_power_spectrum']='halofit'\n",
    "cosmo_ccl = ccl.Cosmology(**cosmo_params_ccl)"
   ]
  },
  {
   "cell_type": "code",
   "execution_count": 37,
   "id": "572525a2-a4af-4341-abb3-d53f4b73eedc",
   "metadata": {},
   "outputs": [],
   "source": [
    "cosmo_params_ccl={'Omega_c':cosmo_params['Omd'],\n",
    "                  'Omega_b':cosmo_params['Omb'],\n",
    "                  'h':cosmo_params['h'],\n",
    "                  'sigma8':None,\n",
    "                  'A_s':cosmo_params['Ase9']*1.e-9,\n",
    "                  'n_s': cosmo_params['ns'],\n",
    "                  'm_nu':cosmo_params['mnu'],\n",
    "                  #'Omega_k':cosmo_params['Omk'],\n",
    "                  #'Omega_g':cosmo_params['OmR'],\n",
    "                  #'w0':cosmo_params['w'],\n",
    "                  #'wa':cosmo_params['wa'],\n",
    "                  #'T_CMB':cosmo_params['T_cmb'],\n",
    "                  #'Neff':cosmo_params['Neff'],\n",
    "                  'transfer_function':'boltzmann_camb', \n",
    "                  'matter_power_spectrum':'linear'}\n",
    "if pk_params['non_linear']==1:\n",
    "    cosmo_params_ccl['matter_power_spectrum']='halofit'\n",
    "    cosmo_params_ccl['extra_parameters'] = {\"camb\": {\"halofit_version\": \"takahashi\"}}\n",
    "cosmo_ccl = ccl.Cosmology(**cosmo_params_ccl)"
   ]
  },
  {
   "cell_type": "code",
   "execution_count": 16,
   "id": "03b7ce1e-a949-4aa1-abda-c962218e02cf",
   "metadata": {
    "tags": []
   },
   "outputs": [],
   "source": [
    "tracers = {}\n",
    "\n",
    "# Galaxy clustering\n",
    "tracers['g'] = ccl.NumberCountsTracer(cosmo_ccl, has_rsd=False, dndz=(dndz['zrange'], dndz['dndz']), \n",
    "                                      bias=(dndz['zrange'], bz1[0]))\n",
    "\n",
    "# CMB lensing\n",
    "tracers['k'] = ccl.CMBLensingTracer(cosmo_ccl, z_source=1090)"
   ]
  },
  {
   "cell_type": "code",
   "execution_count": 17,
   "id": "e86f4d61-5e1c-4300-bd17-f1b098a61c48",
   "metadata": {},
   "outputs": [],
   "source": [
    "ccl_ang_PS = {}\n",
    "ccl_ang_PS['gg'] = ccl.angular_cl(cosmo_ccl, tracers['g'], tracers['g'], l) #C_ell\n",
    "ccl_ang_PS['kk'] = ccl.angular_cl(cosmo_ccl, tracers['k'], tracers['k'], l) #C_ell\n",
    "ccl_ang_PS['kg'] = ccl.angular_cl(cosmo_ccl, tracers['k'], tracers['g'], l) #C_ell"
   ]
  },
  {
   "cell_type": "code",
   "execution_count": 24,
   "id": "e3a7c664-23ef-46d6-9043-01a43a0d545a",
   "metadata": {},
   "outputs": [
    {
     "name": "stderr",
     "output_type": "stream",
     "text": [
      "/global/homes/t/tanveerk/.conda/envs/myenv_perlmutter/lib/python3.7/site-packages/ipykernel_launcher.py:5: RuntimeWarning: invalid value encountered in true_divide\n",
      "  \"\"\"\n"
     ]
    },
    {
     "data": {
      "image/png": "[encoded data removed]",
      "text/plain": [
       "<Figure size 1000x700 with 1 Axes>"
      ]
     },
     "metadata": {},
     "output_type": "display_data"
    }
   ],
   "source": [
    "plt.figure(figsize = (10,7))\n",
    "plt.title(\"Comparison of Skylens and CCL\")\n",
    "\n",
    "for key in ['gg', 'kg']:\n",
    "    plt.plot(l[50:], np.abs(ccl_ang_PS[key]/c_ell_dict[key] - 1)[50:], label = key)\n",
    "\n",
    "plt.axhline(0, c = 'k', ls = '--')\n",
    "plt.ylabel(r\"$\\left| C^{\\rm CCL}_{\\ell}/C^{\\rm Skylens}_{\\ell} - 1 \\right|$\", fontsize = 15)\n",
    "plt.xlabel(r\"$\\ell$\", fontsize = 15)\n",
    "plt.legend(loc = 'best')\n",
    "plt.show()"
   ]
  },
  {
   "cell_type": "markdown",
   "id": "5a53ab5c-7de4-422d-9d76-ec9bf64d576d",
   "metadata": {},
   "source": [
    "**Observation:** There is a $\\sim 1.5\\%$ bias between Skylens and CCL in auto. This will have to investigated later on.\n",
    "Possible sources of issues may include:\n",
    "- Difference in halofit model\n",
    "- Difference in interpolation scheme; Skylens uses linear interpolation while CCL uses splines"
   ]
  },
  {
   "cell_type": "markdown",
   "id": "b2c836fc-b47d-4203-8484-e445f4290a23",
   "metadata": {},
   "source": [
    "### Further test by comparing $P(k)$"
   ]
  },
  {
   "cell_type": "code",
   "execution_count": 25,
   "id": "93d99fbc-0323-426d-8c39-51d29f8604e0",
   "metadata": {},
   "outputs": [],
   "source": [
    "z = 1.1\n",
    "skylens_pk, skylens_k = kappa0.Ang_PS.PS.camb_pk(z = np.array([z]))"
   ]
  },
  {
   "cell_type": "code",
   "execution_count": 26,
   "id": "73675bd5-f191-4b01-b3b6-ab3c100b8aef",
   "metadata": {},
   "outputs": [],
   "source": [
    "k = skylens_k*cosmo_params['h']\n",
    "a = 1/(1 + z)\n",
    "pk_nl = ccl.nonlin_matter_power(cosmo_ccl, k, a)"
   ]
  },
  {
   "cell_type": "code",
   "execution_count": 29,
   "id": "77a8540c-3b66-4a90-a517-aca7214d7286",
   "metadata": {
    "tags": []
   },
   "outputs": [
    {
     "name": "stderr",
     "output_type": "stream",
     "text": [
      "11:48:56 DEBUG:vmin 0.00012058944903640958 vmax 11.388746618996008\n",
      "11:48:56 DEBUG:ticklocs array([1.e-05, 1.e-04, 1.e-03, 1.e-02, 1.e-01, 1.e+00, 1.e+01, 1.e+02,\n",
      "       1.e+03])\n",
      "11:48:56 DEBUG:vmin 0.00012058944903640958 vmax 11.388746618996008\n",
      "11:48:56 DEBUG:ticklocs array([1.e-05, 1.e-04, 1.e-03, 1.e-02, 1.e-01, 1.e+00, 1.e+01, 1.e+02,\n",
      "       1.e+03])\n",
      "11:48:56 DEBUG:vmin 0.00012058944903640958 vmax 11.388746618996008\n",
      "11:48:56 DEBUG:ticklocs array([2.e-05, 3.e-05, 4.e-05, 5.e-05, 6.e-05, 7.e-05, 8.e-05, 9.e-05,\n",
      "       2.e-04, 3.e-04, 4.e-04, 5.e-04, 6.e-04, 7.e-04, 8.e-04, 9.e-04,\n",
      "       2.e-03, 3.e-03, 4.e-03, 5.e-03, 6.e-03, 7.e-03, 8.e-03, 9.e-03,\n",
      "       2.e-02, 3.e-02, 4.e-02, 5.e-02, 6.e-02, 7.e-02, 8.e-02, 9.e-02,\n",
      "       2.e-01, 3.e-01, 4.e-01, 5.e-01, 6.e-01, 7.e-01, 8.e-01, 9.e-01,\n",
      "       2.e+00, 3.e+00, 4.e+00, 5.e+00, 6.e+00, 7.e+00, 8.e+00, 9.e+00,\n",
      "       2.e+01, 3.e+01, 4.e+01, 5.e+01, 6.e+01, 7.e+01, 8.e+01, 9.e+01,\n",
      "       2.e+02, 3.e+02, 4.e+02, 5.e+02, 6.e+02, 7.e+02, 8.e+02, 9.e+02,\n",
      "       2.e+03, 3.e+03, 4.e+03, 5.e+03, 6.e+03, 7.e+03, 8.e+03, 9.e+03])\n",
      "11:48:56 DEBUG:vmin 0.00012058944903640958 vmax 11.388746618996008\n",
      "11:48:56 DEBUG:ticklocs array([1.e-05, 1.e-04, 1.e-03, 1.e-02, 1.e-01, 1.e+00, 1.e+01, 1.e+02,\n",
      "       1.e+03])\n",
      "11:48:56 DEBUG:vmin 0.00012058944903640958 vmax 11.388746618996008\n",
      "11:48:56 DEBUG:ticklocs array([1.e-05, 1.e-04, 1.e-03, 1.e-02, 1.e-01, 1.e+00, 1.e+01, 1.e+02,\n",
      "       1.e+03])\n",
      "11:48:56 DEBUG:vmin 0.00012058944903640958 vmax 11.388746618996008\n",
      "11:48:56 DEBUG:ticklocs array([2.e-05, 3.e-05, 4.e-05, 5.e-05, 6.e-05, 7.e-05, 8.e-05, 9.e-05,\n",
      "       2.e-04, 3.e-04, 4.e-04, 5.e-04, 6.e-04, 7.e-04, 8.e-04, 9.e-04,\n",
      "       2.e-03, 3.e-03, 4.e-03, 5.e-03, 6.e-03, 7.e-03, 8.e-03, 9.e-03,\n",
      "       2.e-02, 3.e-02, 4.e-02, 5.e-02, 6.e-02, 7.e-02, 8.e-02, 9.e-02,\n",
      "       2.e-01, 3.e-01, 4.e-01, 5.e-01, 6.e-01, 7.e-01, 8.e-01, 9.e-01,\n",
      "       2.e+00, 3.e+00, 4.e+00, 5.e+00, 6.e+00, 7.e+00, 8.e+00, 9.e+00,\n",
      "       2.e+01, 3.e+01, 4.e+01, 5.e+01, 6.e+01, 7.e+01, 8.e+01, 9.e+01,\n",
      "       2.e+02, 3.e+02, 4.e+02, 5.e+02, 6.e+02, 7.e+02, 8.e+02, 9.e+02,\n",
      "       2.e+03, 3.e+03, 4.e+03, 5.e+03, 6.e+03, 7.e+03, 8.e+03, 9.e+03])\n",
      "11:48:56 DEBUG:vmin 3.278273242245296e-06 vmax 0.003611332453033677\n",
      "11:48:56 DEBUG:ticklocs array([1.e-07, 1.e-06, 1.e-05, 1.e-04, 1.e-03, 1.e-02, 1.e-01])\n",
      "11:48:56 DEBUG:vmin 3.278273242245296e-06 vmax 0.003611332453033677\n",
      "11:48:56 DEBUG:ticklocs array([1.e-07, 1.e-06, 1.e-05, 1.e-04, 1.e-03, 1.e-02, 1.e-01])\n",
      "11:48:56 DEBUG:vmin 3.278273242245296e-06 vmax 0.003611332453033677\n",
      "11:48:56 DEBUG:ticklocs array([2.e-07, 3.e-07, 4.e-07, 5.e-07, 6.e-07, 7.e-07, 8.e-07, 9.e-07,\n",
      "       2.e-06, 3.e-06, 4.e-06, 5.e-06, 6.e-06, 7.e-06, 8.e-06, 9.e-06,\n",
      "       2.e-05, 3.e-05, 4.e-05, 5.e-05, 6.e-05, 7.e-05, 8.e-05, 9.e-05,\n",
      "       2.e-04, 3.e-04, 4.e-04, 5.e-04, 6.e-04, 7.e-04, 8.e-04, 9.e-04,\n",
      "       2.e-03, 3.e-03, 4.e-03, 5.e-03, 6.e-03, 7.e-03, 8.e-03, 9.e-03,\n",
      "       2.e-02, 3.e-02, 4.e-02, 5.e-02, 6.e-02, 7.e-02, 8.e-02, 9.e-02,\n",
      "       2.e-01, 3.e-01, 4.e-01, 5.e-01, 6.e-01, 7.e-01, 8.e-01, 9.e-01])\n",
      "11:48:56 DEBUG:vmin 3.278273242245296e-06 vmax 0.003611332453033677\n",
      "11:48:56 DEBUG:ticklocs array([1.e-07, 1.e-06, 1.e-05, 1.e-04, 1.e-03, 1.e-02, 1.e-01])\n",
      "11:48:56 DEBUG:vmin 3.278273242245296e-06 vmax 0.003611332453033677\n",
      "11:48:56 DEBUG:ticklocs array([1.e-07, 1.e-06, 1.e-05, 1.e-04, 1.e-03, 1.e-02, 1.e-01])\n",
      "11:48:56 DEBUG:vmin 3.278273242245296e-06 vmax 0.003611332453033677\n",
      "11:48:56 DEBUG:ticklocs array([2.e-07, 3.e-07, 4.e-07, 5.e-07, 6.e-07, 7.e-07, 8.e-07, 9.e-07,\n",
      "       2.e-06, 3.e-06, 4.e-06, 5.e-06, 6.e-06, 7.e-06, 8.e-06, 9.e-06,\n",
      "       2.e-05, 3.e-05, 4.e-05, 5.e-05, 6.e-05, 7.e-05, 8.e-05, 9.e-05,\n",
      "       2.e-04, 3.e-04, 4.e-04, 5.e-04, 6.e-04, 7.e-04, 8.e-04, 9.e-04,\n",
      "       2.e-03, 3.e-03, 4.e-03, 5.e-03, 6.e-03, 7.e-03, 8.e-03, 9.e-03,\n",
      "       2.e-02, 3.e-02, 4.e-02, 5.e-02, 6.e-02, 7.e-02, 8.e-02, 9.e-02,\n",
      "       2.e-01, 3.e-01, 4.e-01, 5.e-01, 6.e-01, 7.e-01, 8.e-01, 9.e-01])\n",
      "11:48:56 DEBUG:vmin 0.00012058944903640958 vmax 11.388746618996008\n",
      "11:48:56 DEBUG:ticklocs array([1.e-05, 1.e-04, 1.e-03, 1.e-02, 1.e-01, 1.e+00, 1.e+01, 1.e+02,\n",
      "       1.e+03])\n",
      "11:48:56 DEBUG:vmin 0.00012058944903640958 vmax 11.388746618996008\n",
      "11:48:56 DEBUG:ticklocs array([1.e-05, 1.e-04, 1.e-03, 1.e-02, 1.e-01, 1.e+00, 1.e+01, 1.e+02,\n",
      "       1.e+03])\n",
      "11:48:56 DEBUG:vmin 0.00012058944903640958 vmax 11.388746618996008\n",
      "11:48:56 DEBUG:ticklocs array([2.e-05, 3.e-05, 4.e-05, 5.e-05, 6.e-05, 7.e-05, 8.e-05, 9.e-05,\n",
      "       2.e-04, 3.e-04, 4.e-04, 5.e-04, 6.e-04, 7.e-04, 8.e-04, 9.e-04,\n",
      "       2.e-03, 3.e-03, 4.e-03, 5.e-03, 6.e-03, 7.e-03, 8.e-03, 9.e-03,\n",
      "       2.e-02, 3.e-02, 4.e-02, 5.e-02, 6.e-02, 7.e-02, 8.e-02, 9.e-02,\n",
      "       2.e-01, 3.e-01, 4.e-01, 5.e-01, 6.e-01, 7.e-01, 8.e-01, 9.e-01,\n",
      "       2.e+00, 3.e+00, 4.e+00, 5.e+00, 6.e+00, 7.e+00, 8.e+00, 9.e+00,\n",
      "       2.e+01, 3.e+01, 4.e+01, 5.e+01, 6.e+01, 7.e+01, 8.e+01, 9.e+01,\n",
      "       2.e+02, 3.e+02, 4.e+02, 5.e+02, 6.e+02, 7.e+02, 8.e+02, 9.e+02,\n",
      "       2.e+03, 3.e+03, 4.e+03, 5.e+03, 6.e+03, 7.e+03, 8.e+03, 9.e+03])\n",
      "11:48:56 DEBUG:vmin 0.00012058944903640958 vmax 11.388746618996008\n",
      "11:48:56 DEBUG:ticklocs array([1.e-05, 1.e-04, 1.e-03, 1.e-02, 1.e-01, 1.e+00, 1.e+01, 1.e+02,\n",
      "       1.e+03])\n",
      "11:48:56 DEBUG:vmin 0.00012058944903640958 vmax 11.388746618996008\n",
      "11:48:56 DEBUG:ticklocs array([1.e-05, 1.e-04, 1.e-03, 1.e-02, 1.e-01, 1.e+00, 1.e+01, 1.e+02,\n",
      "       1.e+03])\n",
      "11:48:56 DEBUG:vmin 0.00012058944903640958 vmax 11.388746618996008\n",
      "11:48:56 DEBUG:ticklocs array([2.e-05, 3.e-05, 4.e-05, 5.e-05, 6.e-05, 7.e-05, 8.e-05, 9.e-05,\n",
      "       2.e-04, 3.e-04, 4.e-04, 5.e-04, 6.e-04, 7.e-04, 8.e-04, 9.e-04,\n",
      "       2.e-03, 3.e-03, 4.e-03, 5.e-03, 6.e-03, 7.e-03, 8.e-03, 9.e-03,\n",
      "       2.e-02, 3.e-02, 4.e-02, 5.e-02, 6.e-02, 7.e-02, 8.e-02, 9.e-02,\n",
      "       2.e-01, 3.e-01, 4.e-01, 5.e-01, 6.e-01, 7.e-01, 8.e-01, 9.e-01,\n",
      "       2.e+00, 3.e+00, 4.e+00, 5.e+00, 6.e+00, 7.e+00, 8.e+00, 9.e+00,\n",
      "       2.e+01, 3.e+01, 4.e+01, 5.e+01, 6.e+01, 7.e+01, 8.e+01, 9.e+01,\n",
      "       2.e+02, 3.e+02, 4.e+02, 5.e+02, 6.e+02, 7.e+02, 8.e+02, 9.e+02,\n",
      "       2.e+03, 3.e+03, 4.e+03, 5.e+03, 6.e+03, 7.e+03, 8.e+03, 9.e+03])\n",
      "11:48:56 DEBUG:vmin 3.278273242245296e-06 vmax 0.003611332453033677\n",
      "11:48:56 DEBUG:ticklocs array([1.e-07, 1.e-06, 1.e-05, 1.e-04, 1.e-03, 1.e-02, 1.e-01])\n",
      "11:48:56 DEBUG:vmin 3.278273242245296e-06 vmax 0.003611332453033677\n",
      "11:48:56 DEBUG:ticklocs array([1.e-07, 1.e-06, 1.e-05, 1.e-04, 1.e-03, 1.e-02, 1.e-01])\n",
      "11:48:56 DEBUG:vmin 3.278273242245296e-06 vmax 0.003611332453033677\n",
      "11:48:56 DEBUG:ticklocs array([2.e-07, 3.e-07, 4.e-07, 5.e-07, 6.e-07, 7.e-07, 8.e-07, 9.e-07,\n",
      "       2.e-06, 3.e-06, 4.e-06, 5.e-06, 6.e-06, 7.e-06, 8.e-06, 9.e-06,\n",
      "       2.e-05, 3.e-05, 4.e-05, 5.e-05, 6.e-05, 7.e-05, 8.e-05, 9.e-05,\n",
      "       2.e-04, 3.e-04, 4.e-04, 5.e-04, 6.e-04, 7.e-04, 8.e-04, 9.e-04,\n",
      "       2.e-03, 3.e-03, 4.e-03, 5.e-03, 6.e-03, 7.e-03, 8.e-03, 9.e-03,\n",
      "       2.e-02, 3.e-02, 4.e-02, 5.e-02, 6.e-02, 7.e-02, 8.e-02, 9.e-02,\n",
      "       2.e-01, 3.e-01, 4.e-01, 5.e-01, 6.e-01, 7.e-01, 8.e-01, 9.e-01])\n",
      "11:48:56 DEBUG:vmin 3.278273242245296e-06 vmax 0.003611332453033677\n",
      "11:48:56 DEBUG:ticklocs array([1.e-07, 1.e-06, 1.e-05, 1.e-04, 1.e-03, 1.e-02, 1.e-01])\n",
      "11:48:56 DEBUG:vmin 3.278273242245296e-06 vmax 0.003611332453033677\n",
      "11:48:56 DEBUG:ticklocs array([1.e-07, 1.e-06, 1.e-05, 1.e-04, 1.e-03, 1.e-02, 1.e-01])\n",
      "11:48:56 DEBUG:vmin 3.278273242245296e-06 vmax 0.003611332453033677\n",
      "11:48:56 DEBUG:ticklocs array([2.e-07, 3.e-07, 4.e-07, 5.e-07, 6.e-07, 7.e-07, 8.e-07, 9.e-07,\n",
      "       2.e-06, 3.e-06, 4.e-06, 5.e-06, 6.e-06, 7.e-06, 8.e-06, 9.e-06,\n",
      "       2.e-05, 3.e-05, 4.e-05, 5.e-05, 6.e-05, 7.e-05, 8.e-05, 9.e-05,\n",
      "       2.e-04, 3.e-04, 4.e-04, 5.e-04, 6.e-04, 7.e-04, 8.e-04, 9.e-04,\n",
      "       2.e-03, 3.e-03, 4.e-03, 5.e-03, 6.e-03, 7.e-03, 8.e-03, 9.e-03,\n",
      "       2.e-02, 3.e-02, 4.e-02, 5.e-02, 6.e-02, 7.e-02, 8.e-02, 9.e-02,\n",
      "       2.e-01, 3.e-01, 4.e-01, 5.e-01, 6.e-01, 7.e-01, 8.e-01, 9.e-01])\n",
      "11:48:56 DEBUG:vmin 0.00012058944903640958 vmax 11.388746618996008\n",
      "11:48:56 DEBUG:ticklocs array([1.e-05, 1.e-04, 1.e-03, 1.e-02, 1.e-01, 1.e+00, 1.e+01, 1.e+02,\n",
      "       1.e+03])\n",
      "11:48:56 DEBUG:vmin 0.00012058944903640958 vmax 11.388746618996008\n",
      "11:48:56 DEBUG:ticklocs array([1.e-05, 1.e-04, 1.e-03, 1.e-02, 1.e-01, 1.e+00, 1.e+01, 1.e+02,\n",
      "       1.e+03])\n",
      "11:48:56 DEBUG:vmin 0.00012058944903640958 vmax 11.388746618996008\n",
      "11:48:56 DEBUG:ticklocs array([2.e-05, 3.e-05, 4.e-05, 5.e-05, 6.e-05, 7.e-05, 8.e-05, 9.e-05,\n",
      "       2.e-04, 3.e-04, 4.e-04, 5.e-04, 6.e-04, 7.e-04, 8.e-04, 9.e-04,\n",
      "       2.e-03, 3.e-03, 4.e-03, 5.e-03, 6.e-03, 7.e-03, 8.e-03, 9.e-03,\n",
      "       2.e-02, 3.e-02, 4.e-02, 5.e-02, 6.e-02, 7.e-02, 8.e-02, 9.e-02,\n",
      "       2.e-01, 3.e-01, 4.e-01, 5.e-01, 6.e-01, 7.e-01, 8.e-01, 9.e-01,\n",
      "       2.e+00, 3.e+00, 4.e+00, 5.e+00, 6.e+00, 7.e+00, 8.e+00, 9.e+00,\n",
      "       2.e+01, 3.e+01, 4.e+01, 5.e+01, 6.e+01, 7.e+01, 8.e+01, 9.e+01,\n",
      "       2.e+02, 3.e+02, 4.e+02, 5.e+02, 6.e+02, 7.e+02, 8.e+02, 9.e+02,\n",
      "       2.e+03, 3.e+03, 4.e+03, 5.e+03, 6.e+03, 7.e+03, 8.e+03, 9.e+03])\n",
      "11:48:56 DEBUG:vmin 0.00012058944903640958 vmax 11.388746618996008\n",
      "11:48:56 DEBUG:ticklocs array([1.e-05, 1.e-04, 1.e-03, 1.e-02, 1.e-01, 1.e+00, 1.e+01, 1.e+02,\n",
      "       1.e+03])\n",
      "11:48:56 DEBUG:vmin 0.00012058944903640958 vmax 11.388746618996008\n",
      "11:48:56 DEBUG:ticklocs array([1.e-05, 1.e-04, 1.e-03, 1.e-02, 1.e-01, 1.e+00, 1.e+01, 1.e+02,\n",
      "       1.e+03])\n",
      "11:48:56 DEBUG:vmin 0.00012058944903640958 vmax 11.388746618996008\n",
      "11:48:56 DEBUG:ticklocs array([2.e-05, 3.e-05, 4.e-05, 5.e-05, 6.e-05, 7.e-05, 8.e-05, 9.e-05,\n",
      "       2.e-04, 3.e-04, 4.e-04, 5.e-04, 6.e-04, 7.e-04, 8.e-04, 9.e-04,\n",
      "       2.e-03, 3.e-03, 4.e-03, 5.e-03, 6.e-03, 7.e-03, 8.e-03, 9.e-03,\n",
      "       2.e-02, 3.e-02, 4.e-02, 5.e-02, 6.e-02, 7.e-02, 8.e-02, 9.e-02,\n",
      "       2.e-01, 3.e-01, 4.e-01, 5.e-01, 6.e-01, 7.e-01, 8.e-01, 9.e-01,\n",
      "       2.e+00, 3.e+00, 4.e+00, 5.e+00, 6.e+00, 7.e+00, 8.e+00, 9.e+00,\n",
      "       2.e+01, 3.e+01, 4.e+01, 5.e+01, 6.e+01, 7.e+01, 8.e+01, 9.e+01,\n",
      "       2.e+02, 3.e+02, 4.e+02, 5.e+02, 6.e+02, 7.e+02, 8.e+02, 9.e+02,\n",
      "       2.e+03, 3.e+03, 4.e+03, 5.e+03, 6.e+03, 7.e+03, 8.e+03, 9.e+03])\n",
      "11:48:56 DEBUG:vmin 3.278273242245296e-06 vmax 0.003611332453033677\n",
      "11:48:56 DEBUG:ticklocs array([1.e-07, 1.e-06, 1.e-05, 1.e-04, 1.e-03, 1.e-02, 1.e-01])\n",
      "11:48:56 DEBUG:vmin 3.278273242245296e-06 vmax 0.003611332453033677\n",
      "11:48:56 DEBUG:ticklocs array([1.e-07, 1.e-06, 1.e-05, 1.e-04, 1.e-03, 1.e-02, 1.e-01])\n",
      "11:48:56 DEBUG:vmin 3.278273242245296e-06 vmax 0.003611332453033677\n",
      "11:48:56 DEBUG:ticklocs array([2.e-07, 3.e-07, 4.e-07, 5.e-07, 6.e-07, 7.e-07, 8.e-07, 9.e-07,\n",
      "       2.e-06, 3.e-06, 4.e-06, 5.e-06, 6.e-06, 7.e-06, 8.e-06, 9.e-06,\n",
      "       2.e-05, 3.e-05, 4.e-05, 5.e-05, 6.e-05, 7.e-05, 8.e-05, 9.e-05,\n",
      "       2.e-04, 3.e-04, 4.e-04, 5.e-04, 6.e-04, 7.e-04, 8.e-04, 9.e-04,\n",
      "       2.e-03, 3.e-03, 4.e-03, 5.e-03, 6.e-03, 7.e-03, 8.e-03, 9.e-03,\n",
      "       2.e-02, 3.e-02, 4.e-02, 5.e-02, 6.e-02, 7.e-02, 8.e-02, 9.e-02,\n",
      "       2.e-01, 3.e-01, 4.e-01, 5.e-01, 6.e-01, 7.e-01, 8.e-01, 9.e-01])\n",
      "11:48:56 DEBUG:vmin 3.278273242245296e-06 vmax 0.003611332453033677\n",
      "11:48:56 DEBUG:ticklocs array([1.e-07, 1.e-06, 1.e-05, 1.e-04, 1.e-03, 1.e-02, 1.e-01])\n",
      "11:48:56 DEBUG:vmin 3.278273242245296e-06 vmax 0.003611332453033677\n",
      "11:48:56 DEBUG:ticklocs array([1.e-07, 1.e-06, 1.e-05, 1.e-04, 1.e-03, 1.e-02, 1.e-01])\n",
      "11:48:56 DEBUG:vmin 3.278273242245296e-06 vmax 0.003611332453033677\n",
      "11:48:56 DEBUG:ticklocs array([2.e-07, 3.e-07, 4.e-07, 5.e-07, 6.e-07, 7.e-07, 8.e-07, 9.e-07,\n",
      "       2.e-06, 3.e-06, 4.e-06, 5.e-06, 6.e-06, 7.e-06, 8.e-06, 9.e-06,\n",
      "       2.e-05, 3.e-05, 4.e-05, 5.e-05, 6.e-05, 7.e-05, 8.e-05, 9.e-05,\n",
      "       2.e-04, 3.e-04, 4.e-04, 5.e-04, 6.e-04, 7.e-04, 8.e-04, 9.e-04,\n",
      "       2.e-03, 3.e-03, 4.e-03, 5.e-03, 6.e-03, 7.e-03, 8.e-03, 9.e-03,\n",
      "       2.e-02, 3.e-02, 4.e-02, 5.e-02, 6.e-02, 7.e-02, 8.e-02, 9.e-02,\n",
      "       2.e-01, 3.e-01, 4.e-01, 5.e-01, 6.e-01, 7.e-01, 8.e-01, 9.e-01])\n",
      "11:48:56 DEBUG:vmin 0.00012058944903640958 vmax 11.388746618996008\n",
      "11:48:56 DEBUG:ticklocs array([1.e-05, 1.e-04, 1.e-03, 1.e-02, 1.e-01, 1.e+00, 1.e+01, 1.e+02,\n",
      "       1.e+03])\n",
      "11:48:56 DEBUG:vmin 0.00012058944903640958 vmax 11.388746618996008\n",
      "11:48:56 DEBUG:ticklocs array([1.e-05, 1.e-04, 1.e-03, 1.e-02, 1.e-01, 1.e+00, 1.e+01, 1.e+02,\n",
      "       1.e+03])\n",
      "11:48:56 DEBUG:vmin 0.00012058944903640958 vmax 11.388746618996008\n",
      "11:48:56 DEBUG:ticklocs array([2.e-05, 3.e-05, 4.e-05, 5.e-05, 6.e-05, 7.e-05, 8.e-05, 9.e-05,\n",
      "       2.e-04, 3.e-04, 4.e-04, 5.e-04, 6.e-04, 7.e-04, 8.e-04, 9.e-04,\n",
      "       2.e-03, 3.e-03, 4.e-03, 5.e-03, 6.e-03, 7.e-03, 8.e-03, 9.e-03,\n",
      "       2.e-02, 3.e-02, 4.e-02, 5.e-02, 6.e-02, 7.e-02, 8.e-02, 9.e-02,\n",
      "       2.e-01, 3.e-01, 4.e-01, 5.e-01, 6.e-01, 7.e-01, 8.e-01, 9.e-01,\n",
      "       2.e+00, 3.e+00, 4.e+00, 5.e+00, 6.e+00, 7.e+00, 8.e+00, 9.e+00,\n",
      "       2.e+01, 3.e+01, 4.e+01, 5.e+01, 6.e+01, 7.e+01, 8.e+01, 9.e+01,\n",
      "       2.e+02, 3.e+02, 4.e+02, 5.e+02, 6.e+02, 7.e+02, 8.e+02, 9.e+02,\n",
      "       2.e+03, 3.e+03, 4.e+03, 5.e+03, 6.e+03, 7.e+03, 8.e+03, 9.e+03])\n",
      "11:48:56 DEBUG:vmin 0.00012058944903640958 vmax 11.388746618996008\n",
      "11:48:56 DEBUG:ticklocs array([1.e-05, 1.e-04, 1.e-03, 1.e-02, 1.e-01, 1.e+00, 1.e+01, 1.e+02,\n",
      "       1.e+03])\n",
      "11:48:56 DEBUG:vmin 0.00012058944903640958 vmax 11.388746618996008\n",
      "11:48:56 DEBUG:ticklocs array([1.e-05, 1.e-04, 1.e-03, 1.e-02, 1.e-01, 1.e+00, 1.e+01, 1.e+02,\n",
      "       1.e+03])\n",
      "11:48:56 DEBUG:vmin 0.00012058944903640958 vmax 11.388746618996008\n",
      "11:48:56 DEBUG:ticklocs array([2.e-05, 3.e-05, 4.e-05, 5.e-05, 6.e-05, 7.e-05, 8.e-05, 9.e-05,\n",
      "       2.e-04, 3.e-04, 4.e-04, 5.e-04, 6.e-04, 7.e-04, 8.e-04, 9.e-04,\n",
      "       2.e-03, 3.e-03, 4.e-03, 5.e-03, 6.e-03, 7.e-03, 8.e-03, 9.e-03,\n",
      "       2.e-02, 3.e-02, 4.e-02, 5.e-02, 6.e-02, 7.e-02, 8.e-02, 9.e-02,\n",
      "       2.e-01, 3.e-01, 4.e-01, 5.e-01, 6.e-01, 7.e-01, 8.e-01, 9.e-01,\n",
      "       2.e+00, 3.e+00, 4.e+00, 5.e+00, 6.e+00, 7.e+00, 8.e+00, 9.e+00,\n",
      "       2.e+01, 3.e+01, 4.e+01, 5.e+01, 6.e+01, 7.e+01, 8.e+01, 9.e+01,\n",
      "       2.e+02, 3.e+02, 4.e+02, 5.e+02, 6.e+02, 7.e+02, 8.e+02, 9.e+02,\n",
      "       2.e+03, 3.e+03, 4.e+03, 5.e+03, 6.e+03, 7.e+03, 8.e+03, 9.e+03])\n",
      "11:48:56 DEBUG:vmin 3.278273242245296e-06 vmax 0.003611332453033677\n",
      "11:48:56 DEBUG:ticklocs array([1.e-07, 1.e-06, 1.e-05, 1.e-04, 1.e-03, 1.e-02, 1.e-01])\n",
      "11:48:56 DEBUG:vmin 3.278273242245296e-06 vmax 0.003611332453033677\n",
      "11:48:56 DEBUG:ticklocs array([1.e-07, 1.e-06, 1.e-05, 1.e-04, 1.e-03, 1.e-02, 1.e-01])\n",
      "11:48:56 DEBUG:vmin 3.278273242245296e-06 vmax 0.003611332453033677\n",
      "11:48:56 DEBUG:ticklocs array([2.e-07, 3.e-07, 4.e-07, 5.e-07, 6.e-07, 7.e-07, 8.e-07, 9.e-07,\n",
      "       2.e-06, 3.e-06, 4.e-06, 5.e-06, 6.e-06, 7.e-06, 8.e-06, 9.e-06,\n",
      "       2.e-05, 3.e-05, 4.e-05, 5.e-05, 6.e-05, 7.e-05, 8.e-05, 9.e-05,\n",
      "       2.e-04, 3.e-04, 4.e-04, 5.e-04, 6.e-04, 7.e-04, 8.e-04, 9.e-04,\n",
      "       2.e-03, 3.e-03, 4.e-03, 5.e-03, 6.e-03, 7.e-03, 8.e-03, 9.e-03,\n",
      "       2.e-02, 3.e-02, 4.e-02, 5.e-02, 6.e-02, 7.e-02, 8.e-02, 9.e-02,\n",
      "       2.e-01, 3.e-01, 4.e-01, 5.e-01, 6.e-01, 7.e-01, 8.e-01, 9.e-01])\n",
      "11:48:56 DEBUG:vmin 3.278273242245296e-06 vmax 0.003611332453033677\n",
      "11:48:56 DEBUG:ticklocs array([1.e-07, 1.e-06, 1.e-05, 1.e-04, 1.e-03, 1.e-02, 1.e-01])\n",
      "11:48:56 DEBUG:vmin 3.278273242245296e-06 vmax 0.003611332453033677\n",
      "11:48:56 DEBUG:ticklocs array([1.e-07, 1.e-06, 1.e-05, 1.e-04, 1.e-03, 1.e-02, 1.e-01])\n",
      "11:48:56 DEBUG:vmin 3.278273242245296e-06 vmax 0.003611332453033677\n",
      "11:48:56 DEBUG:ticklocs array([2.e-07, 3.e-07, 4.e-07, 5.e-07, 6.e-07, 7.e-07, 8.e-07, 9.e-07,\n",
      "       2.e-06, 3.e-06, 4.e-06, 5.e-06, 6.e-06, 7.e-06, 8.e-06, 9.e-06,\n",
      "       2.e-05, 3.e-05, 4.e-05, 5.e-05, 6.e-05, 7.e-05, 8.e-05, 9.e-05,\n",
      "       2.e-04, 3.e-04, 4.e-04, 5.e-04, 6.e-04, 7.e-04, 8.e-04, 9.e-04,\n",
      "       2.e-03, 3.e-03, 4.e-03, 5.e-03, 6.e-03, 7.e-03, 8.e-03, 9.e-03,\n",
      "       2.e-02, 3.e-02, 4.e-02, 5.e-02, 6.e-02, 7.e-02, 8.e-02, 9.e-02,\n",
      "       2.e-01, 3.e-01, 4.e-01, 5.e-01, 6.e-01, 7.e-01, 8.e-01, 9.e-01])\n",
      "11:48:56 DEBUG:vmin 0.00012058944903640958 vmax 11.388746618996008\n",
      "11:48:56 DEBUG:ticklocs array([1.e-05, 1.e-04, 1.e-03, 1.e-02, 1.e-01, 1.e+00, 1.e+01, 1.e+02,\n",
      "       1.e+03])\n",
      "11:48:56 DEBUG:vmin 0.00012058944903640958 vmax 11.388746618996008\n",
      "11:48:56 DEBUG:ticklocs array([1.e-05, 1.e-04, 1.e-03, 1.e-02, 1.e-01, 1.e+00, 1.e+01, 1.e+02,\n",
      "       1.e+03])\n",
      "11:48:56 DEBUG:vmin 0.00012058944903640958 vmax 11.388746618996008\n",
      "11:48:56 DEBUG:ticklocs array([2.e-05, 3.e-05, 4.e-05, 5.e-05, 6.e-05, 7.e-05, 8.e-05, 9.e-05,\n",
      "       2.e-04, 3.e-04, 4.e-04, 5.e-04, 6.e-04, 7.e-04, 8.e-04, 9.e-04,\n",
      "       2.e-03, 3.e-03, 4.e-03, 5.e-03, 6.e-03, 7.e-03, 8.e-03, 9.e-03,\n",
      "       2.e-02, 3.e-02, 4.e-02, 5.e-02, 6.e-02, 7.e-02, 8.e-02, 9.e-02,\n",
      "       2.e-01, 3.e-01, 4.e-01, 5.e-01, 6.e-01, 7.e-01, 8.e-01, 9.e-01,\n",
      "       2.e+00, 3.e+00, 4.e+00, 5.e+00, 6.e+00, 7.e+00, 8.e+00, 9.e+00,\n",
      "       2.e+01, 3.e+01, 4.e+01, 5.e+01, 6.e+01, 7.e+01, 8.e+01, 9.e+01,\n",
      "       2.e+02, 3.e+02, 4.e+02, 5.e+02, 6.e+02, 7.e+02, 8.e+02, 9.e+02,\n",
      "       2.e+03, 3.e+03, 4.e+03, 5.e+03, 6.e+03, 7.e+03, 8.e+03, 9.e+03])\n",
      "11:48:56 DEBUG:vmin 0.00012058944903640958 vmax 11.388746618996008\n",
      "11:48:56 DEBUG:ticklocs array([1.e-05, 1.e-04, 1.e-03, 1.e-02, 1.e-01, 1.e+00, 1.e+01, 1.e+02,\n",
      "       1.e+03])\n",
      "11:48:56 DEBUG:vmin 0.00012058944903640958 vmax 11.388746618996008\n",
      "11:48:56 DEBUG:ticklocs array([1.e-05, 1.e-04, 1.e-03, 1.e-02, 1.e-01, 1.e+00, 1.e+01, 1.e+02,\n",
      "       1.e+03])\n",
      "11:48:56 DEBUG:vmin 0.00012058944903640958 vmax 11.388746618996008\n",
      "11:48:56 DEBUG:ticklocs array([2.e-05, 3.e-05, 4.e-05, 5.e-05, 6.e-05, 7.e-05, 8.e-05, 9.e-05,\n",
      "       2.e-04, 3.e-04, 4.e-04, 5.e-04, 6.e-04, 7.e-04, 8.e-04, 9.e-04,\n",
      "       2.e-03, 3.e-03, 4.e-03, 5.e-03, 6.e-03, 7.e-03, 8.e-03, 9.e-03,\n",
      "       2.e-02, 3.e-02, 4.e-02, 5.e-02, 6.e-02, 7.e-02, 8.e-02, 9.e-02,\n",
      "       2.e-01, 3.e-01, 4.e-01, 5.e-01, 6.e-01, 7.e-01, 8.e-01, 9.e-01,\n",
      "       2.e+00, 3.e+00, 4.e+00, 5.e+00, 6.e+00, 7.e+00, 8.e+00, 9.e+00,\n",
      "       2.e+01, 3.e+01, 4.e+01, 5.e+01, 6.e+01, 7.e+01, 8.e+01, 9.e+01,\n",
      "       2.e+02, 3.e+02, 4.e+02, 5.e+02, 6.e+02, 7.e+02, 8.e+02, 9.e+02,\n",
      "       2.e+03, 3.e+03, 4.e+03, 5.e+03, 6.e+03, 7.e+03, 8.e+03, 9.e+03])\n",
      "11:48:56 DEBUG:vmin 3.278273242245296e-06 vmax 0.003611332453033677\n",
      "11:48:56 DEBUG:ticklocs array([1.e-07, 1.e-06, 1.e-05, 1.e-04, 1.e-03, 1.e-02, 1.e-01])\n",
      "11:48:56 DEBUG:vmin 3.278273242245296e-06 vmax 0.003611332453033677\n",
      "11:48:56 DEBUG:ticklocs array([1.e-07, 1.e-06, 1.e-05, 1.e-04, 1.e-03, 1.e-02, 1.e-01])\n",
      "11:48:56 DEBUG:vmin 3.278273242245296e-06 vmax 0.003611332453033677\n",
      "11:48:56 DEBUG:ticklocs array([2.e-07, 3.e-07, 4.e-07, 5.e-07, 6.e-07, 7.e-07, 8.e-07, 9.e-07,\n",
      "       2.e-06, 3.e-06, 4.e-06, 5.e-06, 6.e-06, 7.e-06, 8.e-06, 9.e-06,\n",
      "       2.e-05, 3.e-05, 4.e-05, 5.e-05, 6.e-05, 7.e-05, 8.e-05, 9.e-05,\n",
      "       2.e-04, 3.e-04, 4.e-04, 5.e-04, 6.e-04, 7.e-04, 8.e-04, 9.e-04,\n",
      "       2.e-03, 3.e-03, 4.e-03, 5.e-03, 6.e-03, 7.e-03, 8.e-03, 9.e-03,\n",
      "       2.e-02, 3.e-02, 4.e-02, 5.e-02, 6.e-02, 7.e-02, 8.e-02, 9.e-02,\n",
      "       2.e-01, 3.e-01, 4.e-01, 5.e-01, 6.e-01, 7.e-01, 8.e-01, 9.e-01])\n",
      "11:48:56 DEBUG:vmin 3.278273242245296e-06 vmax 0.003611332453033677\n",
      "11:48:56 DEBUG:ticklocs array([1.e-07, 1.e-06, 1.e-05, 1.e-04, 1.e-03, 1.e-02, 1.e-01])\n",
      "11:48:56 DEBUG:vmin 3.278273242245296e-06 vmax 0.003611332453033677\n",
      "11:48:56 DEBUG:ticklocs array([1.e-07, 1.e-06, 1.e-05, 1.e-04, 1.e-03, 1.e-02, 1.e-01])\n",
      "11:48:56 DEBUG:vmin 3.278273242245296e-06 vmax 0.003611332453033677\n",
      "11:48:56 DEBUG:ticklocs array([2.e-07, 3.e-07, 4.e-07, 5.e-07, 6.e-07, 7.e-07, 8.e-07, 9.e-07,\n",
      "       2.e-06, 3.e-06, 4.e-06, 5.e-06, 6.e-06, 7.e-06, 8.e-06, 9.e-06,\n",
      "       2.e-05, 3.e-05, 4.e-05, 5.e-05, 6.e-05, 7.e-05, 8.e-05, 9.e-05,\n",
      "       2.e-04, 3.e-04, 4.e-04, 5.e-04, 6.e-04, 7.e-04, 8.e-04, 9.e-04,\n",
      "       2.e-03, 3.e-03, 4.e-03, 5.e-03, 6.e-03, 7.e-03, 8.e-03, 9.e-03,\n",
      "       2.e-02, 3.e-02, 4.e-02, 5.e-02, 6.e-02, 7.e-02, 8.e-02, 9.e-02,\n",
      "       2.e-01, 3.e-01, 4.e-01, 5.e-01, 6.e-01, 7.e-01, 8.e-01, 9.e-01])\n"
     ]
    },
    {
     "data": {
      "image/png": "[encoded data removed]",
      "text/plain": [
       "<Figure size 640x440 with 1 Axes>"
      ]
     },
     "metadata": {},
     "output_type": "display_data"
    }
   ],
   "source": [
    "plt.loglog(k, np.abs(((skylens_pk[0]*cosmo_params['h']**(-3))/pk_nl) - 1))\n",
    "plt.axhline(0, c = 'k', ls = '--')\n",
    "plt.ylabel(r\"$\\left| P^{\\rm CCL}_{k}/P^{\\rm Skylens}_{k} - 1 \\right|$\", fontsize = 15)\n",
    "plt.xlabel(r\"$k$\", fontsize = 15)\n",
    "plt.show()"
   ]
  },
  {
   "cell_type": "markdown",
   "id": "432dc68c-e3ab-417a-bb8d-c4744e17121c",
   "metadata": {},
   "source": [
    "# Pseudo-$C_{\\ell}$ Comparison"
   ]
  },
  {
   "cell_type": "code",
   "execution_count": 34,
   "id": "f1e2516f-b99f-4019-8ce9-a024b8050d88",
   "metadata": {},
   "outputs": [],
   "source": [
    "import healpy as hp"
   ]
  },
  {
   "cell_type": "markdown",
   "id": "ca51ed6d-ca1f-42b2-a760-3d09f90773a7",
   "metadata": {},
   "source": [
    "First, we generate correlated maps using `healpy`"
   ]
  },
  {
   "cell_type": "code",
   "execution_count": 57,
   "id": "563985b2-830e-422c-9f12-3e15480b8afc",
   "metadata": {},
   "outputs": [
    {
     "name": "stderr",
     "output_type": "stream",
     "text": [
      "/global/homes/t/tanveerk/.conda/envs/myenv_perlmutter/lib/python3.7/site-packages/healpy/sphtfunc.py:438: FutureChangeWarning: The order of the input cl's will change in a future release.\n",
      "Use new=True keyword to start using the new order.\n",
      "See documentation of healpy.synalm.\n",
      "  category=FutureChangeWarning,\n",
      "/global/homes/t/tanveerk/.conda/envs/myenv_perlmutter/lib/python3.7/site-packages/healpy/sphtfunc.py:824: UserWarning: Sigma is 0.000000 arcmin (0.000000 rad) \n",
      "  sigma * 60 * 180 / np.pi, sigma\n",
      "/global/homes/t/tanveerk/.conda/envs/myenv_perlmutter/lib/python3.7/site-packages/healpy/sphtfunc.py:829: UserWarning: -> fwhm is 0.000000 arcmin\n",
      "  sigma * 60 * 180 / np.pi * (2.0 * np.sqrt(2.0 * np.log(2.0)))\n"
     ]
    }
   ],
   "source": [
    "map_gg, map_kk = hp.synfast((c_ell_dict['gg'], c_ell_dict['kg'], c_ell_dict['kk']), nside = 1024, pol = False)"
   ]
  },
  {
   "cell_type": "markdown",
   "id": "597ad502-ca94-4928-b417-b9ba5bba5e00",
   "metadata": {},
   "source": [
    "Apply relevant masks"
   ]
  },
  {
   "cell_type": "code",
   "execution_count": 58,
   "id": "238a7799-499d-4be8-b67c-8c035110d154",
   "metadata": {},
   "outputs": [],
   "source": [
    "window_gg = np.load(gal_window_dict[0])\n",
    "mask_gg = np.load(gal_maskfile)\n",
    "window_cmb = np.load(cmb_window_map_file[0])"
   ]
  },
  {
   "cell_type": "code",
   "execution_count": 59,
   "id": "20c765db-361f-4bdf-86df-5abfe3a128a2",
   "metadata": {},
   "outputs": [],
   "source": [
    "map_gg[mask_gg] = map_gg[mask_gg] * window_gg[mask_gg] #ELGs\n",
    "map_gg[~mask_gg] = hp.UNSEEN\n",
    "map_kk = map_kk * window_cmb #CMB lensing "
   ]
  },
  {
   "cell_type": "markdown",
   "id": "bd75a9a7-f1c8-418f-bb1d-b243c7808f8e",
   "metadata": {},
   "source": [
    "Calculate observer power spectra"
   ]
  },
  {
   "cell_type": "code",
   "execution_count": 63,
   "id": "6759776c-4899-48f7-8d20-5308c49aa1b1",
   "metadata": {},
   "outputs": [],
   "source": [
    "obs_pcl = {}\n",
    "obs_pcl['gg'] = hp.anafast(map_gg, pol = False)\n",
    "obs_pcl['kk'] = hp.anafast(map_kk, pol = False)\n",
    "obs_pcl['kg'] = hp.anafast(map_gg, map_kk, pol = False)"
   ]
  },
  {
   "cell_type": "code",
   "execution_count": 72,
   "id": "d141700b-a850-4c57-bc6b-6f9cfb93ee3e",
   "metadata": {},
   "outputs": [
    {
     "name": "stdout",
     "output_type": "stream",
     "text": [
      "Mean for gg is: 0.0033783943803674535\n",
      "Mean for kk is: 4.5497231176646736e-05\n",
      "Mean for kg is: 0.0010502025059172648\n"
     ]
    },
    {
     "data": {
      "text/plain": [
       "Text(0.5, 0, '$\\\\ell$')"
      ]
     },
     "execution_count": 72,
     "metadata": {},
     "output_type": "execute_result"
    },
    {
     "name": "stderr",
     "output_type": "stream",
     "text": [
      "12:11:42 DEBUG:vmin 0.7174449145176851 vmax 1067.6777889142288\n",
      "12:11:42 DEBUG:ticklocs array([1.e-02, 1.e-01, 1.e+00, 1.e+01, 1.e+02, 1.e+03, 1.e+04, 1.e+05])\n",
      "12:11:42 DEBUG:vmin 0.7174449145176851 vmax 1067.6777889142288\n",
      "12:11:42 DEBUG:ticklocs array([1.e-02, 1.e-01, 1.e+00, 1.e+01, 1.e+02, 1.e+03, 1.e+04, 1.e+05])\n",
      "12:11:42 DEBUG:vmin 0.7174449145176851 vmax 1067.6777889142288\n",
      "12:11:42 DEBUG:ticklocs array([2.e-02, 3.e-02, 4.e-02, 5.e-02, 6.e-02, 7.e-02, 8.e-02, 9.e-02,\n",
      "       2.e-01, 3.e-01, 4.e-01, 5.e-01, 6.e-01, 7.e-01, 8.e-01, 9.e-01,\n",
      "       2.e+00, 3.e+00, 4.e+00, 5.e+00, 6.e+00, 7.e+00, 8.e+00, 9.e+00,\n",
      "       2.e+01, 3.e+01, 4.e+01, 5.e+01, 6.e+01, 7.e+01, 8.e+01, 9.e+01,\n",
      "       2.e+02, 3.e+02, 4.e+02, 5.e+02, 6.e+02, 7.e+02, 8.e+02, 9.e+02,\n",
      "       2.e+03, 3.e+03, 4.e+03, 5.e+03, 6.e+03, 7.e+03, 8.e+03, 9.e+03,\n",
      "       2.e+04, 3.e+04, 4.e+04, 5.e+04, 6.e+04, 7.e+04, 8.e+04, 9.e+04,\n",
      "       2.e+05, 3.e+05, 4.e+05, 5.e+05, 6.e+05, 7.e+05, 8.e+05, 9.e+05])\n",
      "12:11:42 DEBUG:vmin 0.7174449145176851 vmax 1067.6777889142288\n",
      "12:11:42 DEBUG:ticklocs array([1.e-02, 1.e-01, 1.e+00, 1.e+01, 1.e+02, 1.e+03, 1.e+04, 1.e+05])\n",
      "12:11:42 DEBUG:vmin 0.7174449145176851 vmax 1067.6777889142288\n",
      "12:11:42 DEBUG:ticklocs array([1.e-02, 1.e-01, 1.e+00, 1.e+01, 1.e+02, 1.e+03, 1.e+04, 1.e+05])\n",
      "12:11:42 DEBUG:vmin 0.7174449145176851 vmax 1067.6777889142288\n",
      "12:11:42 DEBUG:ticklocs array([2.e-02, 3.e-02, 4.e-02, 5.e-02, 6.e-02, 7.e-02, 8.e-02, 9.e-02,\n",
      "       2.e-01, 3.e-01, 4.e-01, 5.e-01, 6.e-01, 7.e-01, 8.e-01, 9.e-01,\n",
      "       2.e+00, 3.e+00, 4.e+00, 5.e+00, 6.e+00, 7.e+00, 8.e+00, 9.e+00,\n",
      "       2.e+01, 3.e+01, 4.e+01, 5.e+01, 6.e+01, 7.e+01, 8.e+01, 9.e+01,\n",
      "       2.e+02, 3.e+02, 4.e+02, 5.e+02, 6.e+02, 7.e+02, 8.e+02, 9.e+02,\n",
      "       2.e+03, 3.e+03, 4.e+03, 5.e+03, 6.e+03, 7.e+03, 8.e+03, 9.e+03,\n",
      "       2.e+04, 3.e+04, 4.e+04, 5.e+04, 6.e+04, 7.e+04, 8.e+04, 9.e+04,\n",
      "       2.e+05, 3.e+05, 4.e+05, 5.e+05, 6.e+05, 7.e+05, 8.e+05, 9.e+05])\n",
      "12:11:42 DEBUG:vmin 0.7174449145176851 vmax 1067.6777889142288\n",
      "12:11:42 DEBUG:ticklocs array([1.e-02, 1.e-01, 1.e+00, 1.e+01, 1.e+02, 1.e+03, 1.e+04, 1.e+05])\n",
      "12:11:42 DEBUG:vmin 0.7174449145176851 vmax 1067.6777889142288\n",
      "12:11:42 DEBUG:ticklocs array([1.e-02, 1.e-01, 1.e+00, 1.e+01, 1.e+02, 1.e+03, 1.e+04, 1.e+05])\n",
      "12:11:42 DEBUG:vmin 0.7174449145176851 vmax 1067.6777889142288\n",
      "12:11:42 DEBUG:ticklocs array([2.e-02, 3.e-02, 4.e-02, 5.e-02, 6.e-02, 7.e-02, 8.e-02, 9.e-02,\n",
      "       2.e-01, 3.e-01, 4.e-01, 5.e-01, 6.e-01, 7.e-01, 8.e-01, 9.e-01,\n",
      "       2.e+00, 3.e+00, 4.e+00, 5.e+00, 6.e+00, 7.e+00, 8.e+00, 9.e+00,\n",
      "       2.e+01, 3.e+01, 4.e+01, 5.e+01, 6.e+01, 7.e+01, 8.e+01, 9.e+01,\n",
      "       2.e+02, 3.e+02, 4.e+02, 5.e+02, 6.e+02, 7.e+02, 8.e+02, 9.e+02,\n",
      "       2.e+03, 3.e+03, 4.e+03, 5.e+03, 6.e+03, 7.e+03, 8.e+03, 9.e+03,\n",
      "       2.e+04, 3.e+04, 4.e+04, 5.e+04, 6.e+04, 7.e+04, 8.e+04, 9.e+04,\n",
      "       2.e+05, 3.e+05, 4.e+05, 5.e+05, 6.e+05, 7.e+05, 8.e+05, 9.e+05])\n",
      "12:11:42 DEBUG:vmin 0.7174449145176851 vmax 1067.6777889142288\n",
      "12:11:42 DEBUG:ticklocs array([1.e-02, 1.e-01, 1.e+00, 1.e+01, 1.e+02, 1.e+03, 1.e+04, 1.e+05])\n",
      "12:11:42 DEBUG:vmin 0.7174449145176851 vmax 1067.6777889142288\n",
      "12:11:42 DEBUG:ticklocs array([1.e-02, 1.e-01, 1.e+00, 1.e+01, 1.e+02, 1.e+03, 1.e+04, 1.e+05])\n",
      "12:11:42 DEBUG:vmin 0.7174449145176851 vmax 1067.6777889142288\n",
      "12:11:42 DEBUG:ticklocs array([2.e-02, 3.e-02, 4.e-02, 5.e-02, 6.e-02, 7.e-02, 8.e-02, 9.e-02,\n",
      "       2.e-01, 3.e-01, 4.e-01, 5.e-01, 6.e-01, 7.e-01, 8.e-01, 9.e-01,\n",
      "       2.e+00, 3.e+00, 4.e+00, 5.e+00, 6.e+00, 7.e+00, 8.e+00, 9.e+00,\n",
      "       2.e+01, 3.e+01, 4.e+01, 5.e+01, 6.e+01, 7.e+01, 8.e+01, 9.e+01,\n",
      "       2.e+02, 3.e+02, 4.e+02, 5.e+02, 6.e+02, 7.e+02, 8.e+02, 9.e+02,\n",
      "       2.e+03, 3.e+03, 4.e+03, 5.e+03, 6.e+03, 7.e+03, 8.e+03, 9.e+03,\n",
      "       2.e+04, 3.e+04, 4.e+04, 5.e+04, 6.e+04, 7.e+04, 8.e+04, 9.e+04,\n",
      "       2.e+05, 3.e+05, 4.e+05, 5.e+05, 6.e+05, 7.e+05, 8.e+05, 9.e+05])\n",
      "12:11:42 DEBUG:vmin 0.7174449145176851 vmax 1067.6777889142288\n",
      "12:11:42 DEBUG:ticklocs array([1.e-02, 1.e-01, 1.e+00, 1.e+01, 1.e+02, 1.e+03, 1.e+04, 1.e+05])\n",
      "12:11:42 DEBUG:vmin 0.7174449145176851 vmax 1067.6777889142288\n",
      "12:11:42 DEBUG:ticklocs array([1.e-02, 1.e-01, 1.e+00, 1.e+01, 1.e+02, 1.e+03, 1.e+04, 1.e+05])\n",
      "12:11:42 DEBUG:vmin 0.7174449145176851 vmax 1067.6777889142288\n",
      "12:11:42 DEBUG:ticklocs array([2.e-02, 3.e-02, 4.e-02, 5.e-02, 6.e-02, 7.e-02, 8.e-02, 9.e-02,\n",
      "       2.e-01, 3.e-01, 4.e-01, 5.e-01, 6.e-01, 7.e-01, 8.e-01, 9.e-01,\n",
      "       2.e+00, 3.e+00, 4.e+00, 5.e+00, 6.e+00, 7.e+00, 8.e+00, 9.e+00,\n",
      "       2.e+01, 3.e+01, 4.e+01, 5.e+01, 6.e+01, 7.e+01, 8.e+01, 9.e+01,\n",
      "       2.e+02, 3.e+02, 4.e+02, 5.e+02, 6.e+02, 7.e+02, 8.e+02, 9.e+02,\n",
      "       2.e+03, 3.e+03, 4.e+03, 5.e+03, 6.e+03, 7.e+03, 8.e+03, 9.e+03,\n",
      "       2.e+04, 3.e+04, 4.e+04, 5.e+04, 6.e+04, 7.e+04, 8.e+04, 9.e+04,\n",
      "       2.e+05, 3.e+05, 4.e+05, 5.e+05, 6.e+05, 7.e+05, 8.e+05, 9.e+05])\n",
      "12:11:42 DEBUG:vmin 0.7174449145176851 vmax 1067.6777889142288\n",
      "12:11:42 DEBUG:ticklocs array([1.e-02, 1.e-01, 1.e+00, 1.e+01, 1.e+02, 1.e+03, 1.e+04, 1.e+05])\n",
      "12:11:42 DEBUG:vmin 0.7174449145176851 vmax 1067.6777889142288\n",
      "12:11:42 DEBUG:ticklocs array([1.e-02, 1.e-01, 1.e+00, 1.e+01, 1.e+02, 1.e+03, 1.e+04, 1.e+05])\n",
      "12:11:42 DEBUG:vmin 0.7174449145176851 vmax 1067.6777889142288\n",
      "12:11:42 DEBUG:ticklocs array([2.e-02, 3.e-02, 4.e-02, 5.e-02, 6.e-02, 7.e-02, 8.e-02, 9.e-02,\n",
      "       2.e-01, 3.e-01, 4.e-01, 5.e-01, 6.e-01, 7.e-01, 8.e-01, 9.e-01,\n",
      "       2.e+00, 3.e+00, 4.e+00, 5.e+00, 6.e+00, 7.e+00, 8.e+00, 9.e+00,\n",
      "       2.e+01, 3.e+01, 4.e+01, 5.e+01, 6.e+01, 7.e+01, 8.e+01, 9.e+01,\n",
      "       2.e+02, 3.e+02, 4.e+02, 5.e+02, 6.e+02, 7.e+02, 8.e+02, 9.e+02,\n",
      "       2.e+03, 3.e+03, 4.e+03, 5.e+03, 6.e+03, 7.e+03, 8.e+03, 9.e+03,\n",
      "       2.e+04, 3.e+04, 4.e+04, 5.e+04, 6.e+04, 7.e+04, 8.e+04, 9.e+04,\n",
      "       2.e+05, 3.e+05, 4.e+05, 5.e+05, 6.e+05, 7.e+05, 8.e+05, 9.e+05])\n",
      "12:11:42 DEBUG:vmin 0.7174449145176851 vmax 1067.6777889142288\n",
      "12:11:42 DEBUG:ticklocs array([1.e-02, 1.e-01, 1.e+00, 1.e+01, 1.e+02, 1.e+03, 1.e+04, 1.e+05])\n",
      "12:11:42 DEBUG:vmin 0.7174449145176851 vmax 1067.6777889142288\n",
      "12:11:42 DEBUG:ticklocs array([1.e-02, 1.e-01, 1.e+00, 1.e+01, 1.e+02, 1.e+03, 1.e+04, 1.e+05])\n",
      "12:11:42 DEBUG:vmin 0.7174449145176851 vmax 1067.6777889142288\n",
      "12:11:42 DEBUG:ticklocs array([2.e-02, 3.e-02, 4.e-02, 5.e-02, 6.e-02, 7.e-02, 8.e-02, 9.e-02,\n",
      "       2.e-01, 3.e-01, 4.e-01, 5.e-01, 6.e-01, 7.e-01, 8.e-01, 9.e-01,\n",
      "       2.e+00, 3.e+00, 4.e+00, 5.e+00, 6.e+00, 7.e+00, 8.e+00, 9.e+00,\n",
      "       2.e+01, 3.e+01, 4.e+01, 5.e+01, 6.e+01, 7.e+01, 8.e+01, 9.e+01,\n",
      "       2.e+02, 3.e+02, 4.e+02, 5.e+02, 6.e+02, 7.e+02, 8.e+02, 9.e+02,\n",
      "       2.e+03, 3.e+03, 4.e+03, 5.e+03, 6.e+03, 7.e+03, 8.e+03, 9.e+03,\n",
      "       2.e+04, 3.e+04, 4.e+04, 5.e+04, 6.e+04, 7.e+04, 8.e+04, 9.e+04,\n",
      "       2.e+05, 3.e+05, 4.e+05, 5.e+05, 6.e+05, 7.e+05, 8.e+05, 9.e+05])\n",
      "12:11:42 DEBUG:vmin 0.7174449145176851 vmax 1067.6777889142288\n",
      "12:11:42 DEBUG:ticklocs array([1.e-02, 1.e-01, 1.e+00, 1.e+01, 1.e+02, 1.e+03, 1.e+04, 1.e+05])\n",
      "12:11:42 DEBUG:vmin 0.7174449145176851 vmax 1067.6777889142288\n",
      "12:11:42 DEBUG:ticklocs array([1.e-02, 1.e-01, 1.e+00, 1.e+01, 1.e+02, 1.e+03, 1.e+04, 1.e+05])\n",
      "12:11:42 DEBUG:vmin 0.7174449145176851 vmax 1067.6777889142288\n",
      "12:11:42 DEBUG:ticklocs array([2.e-02, 3.e-02, 4.e-02, 5.e-02, 6.e-02, 7.e-02, 8.e-02, 9.e-02,\n",
      "       2.e-01, 3.e-01, 4.e-01, 5.e-01, 6.e-01, 7.e-01, 8.e-01, 9.e-01,\n",
      "       2.e+00, 3.e+00, 4.e+00, 5.e+00, 6.e+00, 7.e+00, 8.e+00, 9.e+00,\n",
      "       2.e+01, 3.e+01, 4.e+01, 5.e+01, 6.e+01, 7.e+01, 8.e+01, 9.e+01,\n",
      "       2.e+02, 3.e+02, 4.e+02, 5.e+02, 6.e+02, 7.e+02, 8.e+02, 9.e+02,\n",
      "       2.e+03, 3.e+03, 4.e+03, 5.e+03, 6.e+03, 7.e+03, 8.e+03, 9.e+03,\n",
      "       2.e+04, 3.e+04, 4.e+04, 5.e+04, 6.e+04, 7.e+04, 8.e+04, 9.e+04,\n",
      "       2.e+05, 3.e+05, 4.e+05, 5.e+05, 6.e+05, 7.e+05, 8.e+05, 9.e+05])\n",
      "12:11:42 DEBUG:vmin 0.7174449145176851 vmax 1067.6777889142288\n",
      "12:11:42 DEBUG:ticklocs array([1.e-02, 1.e-01, 1.e+00, 1.e+01, 1.e+02, 1.e+03, 1.e+04, 1.e+05])\n",
      "12:11:42 DEBUG:vmin 0.7174449145176851 vmax 1067.6777889142288\n",
      "12:11:42 DEBUG:ticklocs array([1.e-02, 1.e-01, 1.e+00, 1.e+01, 1.e+02, 1.e+03, 1.e+04, 1.e+05])\n",
      "12:11:42 DEBUG:vmin 0.7174449145176851 vmax 1067.6777889142288\n",
      "12:11:42 DEBUG:ticklocs array([2.e-02, 3.e-02, 4.e-02, 5.e-02, 6.e-02, 7.e-02, 8.e-02, 9.e-02,\n",
      "       2.e-01, 3.e-01, 4.e-01, 5.e-01, 6.e-01, 7.e-01, 8.e-01, 9.e-01,\n",
      "       2.e+00, 3.e+00, 4.e+00, 5.e+00, 6.e+00, 7.e+00, 8.e+00, 9.e+00,\n",
      "       2.e+01, 3.e+01, 4.e+01, 5.e+01, 6.e+01, 7.e+01, 8.e+01, 9.e+01,\n",
      "       2.e+02, 3.e+02, 4.e+02, 5.e+02, 6.e+02, 7.e+02, 8.e+02, 9.e+02,\n",
      "       2.e+03, 3.e+03, 4.e+03, 5.e+03, 6.e+03, 7.e+03, 8.e+03, 9.e+03,\n",
      "       2.e+04, 3.e+04, 4.e+04, 5.e+04, 6.e+04, 7.e+04, 8.e+04, 9.e+04,\n",
      "       2.e+05, 3.e+05, 4.e+05, 5.e+05, 6.e+05, 7.e+05, 8.e+05, 9.e+05])\n",
      "12:11:43 DEBUG:vmin 0.7174449145176851 vmax 1067.6777889142288\n",
      "12:11:43 DEBUG:ticklocs array([1.e-02, 1.e-01, 1.e+00, 1.e+01, 1.e+02, 1.e+03, 1.e+04, 1.e+05])\n",
      "12:11:43 DEBUG:vmin 0.7174449145176851 vmax 1067.6777889142288\n",
      "12:11:43 DEBUG:ticklocs array([1.e-02, 1.e-01, 1.e+00, 1.e+01, 1.e+02, 1.e+03, 1.e+04, 1.e+05])\n",
      "12:11:43 DEBUG:vmin 0.7174449145176851 vmax 1067.6777889142288\n",
      "12:11:43 DEBUG:ticklocs array([2.e-02, 3.e-02, 4.e-02, 5.e-02, 6.e-02, 7.e-02, 8.e-02, 9.e-02,\n",
      "       2.e-01, 3.e-01, 4.e-01, 5.e-01, 6.e-01, 7.e-01, 8.e-01, 9.e-01,\n",
      "       2.e+00, 3.e+00, 4.e+00, 5.e+00, 6.e+00, 7.e+00, 8.e+00, 9.e+00,\n",
      "       2.e+01, 3.e+01, 4.e+01, 5.e+01, 6.e+01, 7.e+01, 8.e+01, 9.e+01,\n",
      "       2.e+02, 3.e+02, 4.e+02, 5.e+02, 6.e+02, 7.e+02, 8.e+02, 9.e+02,\n",
      "       2.e+03, 3.e+03, 4.e+03, 5.e+03, 6.e+03, 7.e+03, 8.e+03, 9.e+03,\n",
      "       2.e+04, 3.e+04, 4.e+04, 5.e+04, 6.e+04, 7.e+04, 8.e+04, 9.e+04,\n",
      "       2.e+05, 3.e+05, 4.e+05, 5.e+05, 6.e+05, 7.e+05, 8.e+05, 9.e+05])\n"
     ]
    },
    {
     "data": {
      "image/png": "[encoded data removed]",
      "text/plain": [
       "<Figure size 1000x700 with 1 Axes>"
      ]
     },
     "metadata": {},
     "output_type": "display_data"
    }
   ],
   "source": [
    "plt.figure(figsize = (10,7))\n",
    "\n",
    "plt.title(\"Comparison of Skylens pseudo-C_ell with healpy\")\n",
    "\n",
    "for tracer in obs_pcl:\n",
    "    plt.semilogx(np.arange(len(c_ell_dict[tracer])), \n",
    "               (obs_pcl[tracer][:len(c_ell_dict[tracer])]/c_ell_dict['p'+tracer] - 1), label = tracer)\n",
    "    print(f\"Mean for {tracer} is: {((obs_pcl[tracer][:len(c_ell_dict[tracer])]/c_ell_dict['p'+tracer])[50:] - 1).mean()}\")\n",
    "plt.legend(loc = 'best')\n",
    "plt.axhline(0, c = 'k', ls = '--')\n",
    "plt.ylabel(r\"$\\left| D^{\\rm healpy}_{\\ell}/D^{\\rm Skylens}_{\\ell} - 1 \\right|$\", fontsize = 15)\n",
    "plt.xlabel(r\"$\\ell$\", fontsize = 15)"
   ]
  },
  {
   "cell_type": "markdown",
   "id": "18d98260-0f30-48c7-b7c3-8dafd446d30d",
   "metadata": {},
   "source": [
    "**Observation:** Skylens pseudo-$C_{\\ell}$ calculation has subpercent-level precision."
   ]
  },
  {
   "cell_type": "code",
   "execution_count": null,
   "id": "57700843-7cc0-4110-a68b-218500797760",
   "metadata": {},
   "outputs": [],
   "source": []
  }
 ],
 "metadata": {
  "kernelspec": {
   "display_name": "MyEnvP",
   "language": "python",
   "name": "myenv_perlmutter"
  },
  "language_info": {
   "codemirror_mode": {
    "name": "ipython",
    "version": 3
   },
   "file_extension": ".py",
   "mimetype": "text/x-python",
   "name": "python",
   "nbconvert_exporter": "python",
   "pygments_lexer": "ipython3",
   "version": "3.7.10"
  }
 },
 "nbformat": 4,
 "nbformat_minor": 5
}
