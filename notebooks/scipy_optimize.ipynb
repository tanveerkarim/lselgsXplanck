{
 "cells": [
  {
   "cell_type": "markdown",
   "id": "180a0298-6778-4481-953d-3cfff8a1057b",
   "metadata": {},
   "source": [
    "Last Updated: December 20, 2022\n",
    "In this notebook, we run `scipy.optimize.minimize` to estimate $\\sigma_8$ based on different covariance matrices of simulations and their mean values. The goal is to see how the bias of the mean values and the increased covariances affect parameter estimation. We first set up a toy example where we set all of the cosmology to be the same and only sample over $\\sigma_8$. "
   ]
  },
  {
   "cell_type": "code",
   "execution_count": 1,
   "id": "93e001e3-20f5-4401-83bc-d84fe3e56ca7",
   "metadata": {},
   "outputs": [],
   "source": [
    "import os\n",
    "os.environ[\"OMP_NUM_THREADS\"] = \"32\" #need to be set early"
   ]
  },
  {
   "cell_type": "code",
   "execution_count": 2,
   "id": "6d4f5129-1199-4671-ad6a-d93d4f1b6afd",
   "metadata": {},
   "outputs": [],
   "source": [
    "#auto load changes \n",
    "%load_ext autoreload\n",
    "%autoreload 2\n",
    "\n",
    "%load_ext line_profiler"
   ]
  },
  {
   "cell_type": "code",
   "execution_count": 3,
   "id": "f19405a1-6c57-4430-8fc3-bdcab9068f14",
   "metadata": {},
   "outputs": [
    {
     "name": "stdout",
     "output_type": "stream",
     "text": [
      "skylens main: /global/homes/t/tanveerk/SkyLens/skylens/__init__.py\n"
     ]
    }
   ],
   "source": [
    "import numpy as np\n",
    "import pandas as pd\n",
    "import pickle\n",
    "from copy import deepcopy\n",
    "import matplotlib.pyplot as plt\n",
    "\n",
    "import sys \n",
    "sys.path.insert(0,'/global/homes/t/tanveerk/SkyLens/') #path to skylens\n",
    "sys.path.insert(0,'/global/homes/t/tanveerk/SkyLens/skylens') #path to skylens\n",
    "sys.path.insert(0,'/global/homes/t/tanveerk/lselgsXplanck/src/') #path to helper functions\n",
    "\n",
    "import skylens\n",
    "import utilsCross #helper functions"
   ]
  },
  {
   "cell_type": "code",
   "execution_count": 4,
   "id": "8e0b7125-10ca-4998-9d3e-29659f98cb3c",
   "metadata": {},
   "outputs": [],
   "source": [
    "#import multiprocessing\n",
    "from distributed import LocalCluster\n",
    "from dask.distributed import Client\n",
    "from dask.distributed import Lock"
   ]
  },
  {
   "cell_type": "markdown",
   "id": "47d70d8e-7988-4055-b39a-0d66713a5691",
   "metadata": {},
   "source": [
    "Import data"
   ]
  },
  {
   "cell_type": "code",
   "execution_count": 6,
   "id": "3def6e2f-4ed0-4a4c-981a-9912ffe4b4ae",
   "metadata": {},
   "outputs": [],
   "source": [
    "pcls_binned = pickle.load(open( \"/pscratch/sd/t/tanveerk/img-sys/stats/nnp/cov.p\", \"rb\" ) )"
   ]
  },
  {
   "cell_type": "markdown",
   "id": "01e50b44-a142-4d4d-8e00-41ed2ee68a6f",
   "metadata": {},
   "source": [
    "Calculate covariances"
   ]
  },
  {
   "cell_type": "code",
   "execution_count": 7,
   "id": "1c1d7d3d-8042-40ce-8997-1eddcab619a5",
   "metadata": {},
   "outputs": [],
   "source": [
    "covs = {} # save covariance matrices\n",
    "corrs = {} #save correlation matrices\n",
    "exps = np.array(['A', 'B', 'C']) #experiment names\n",
    "tracers = np.array(['cgg', 'ckg'])"
   ]
  },
  {
   "cell_type": "code",
   "execution_count": 8,
   "id": "15996222-2397-461c-a7b2-057689b2327f",
   "metadata": {},
   "outputs": [],
   "source": [
    "for exp in exps:\n",
    "    covs[exp] = {}\n",
    "    corrs[exp] = {}\n",
    "    \n",
    "    for tracer in tracers:\n",
    "        covs[exp][tracer] = np.cov(pcls_binned[exp][tracer].T)\n",
    "        corrs[exp][tracer] = np.corrcoef(pcls_binned[exp][tracer].T)"
   ]
  },
  {
   "cell_type": "code",
   "execution_count": 9,
   "id": "9bcccb3c-18fd-4175-b5a3-ea8b140bc391",
   "metadata": {},
   "outputs": [
    {
     "data": {
      "text/plain": [
       "<matplotlib.colorbar.Colorbar at 0x14fb6f381350>"
      ]
     },
     "execution_count": 9,
     "metadata": {},
     "output_type": "execute_result"
    },
    {
     "data": {
      "image/png": "[encoded data removed]",
      "text/plain": [
       "<Figure size 640x480 with 2 Axes>"
      ]
     },
     "metadata": {},
     "output_type": "display_data"
    }
   ],
   "source": [
    "plt.imshow(corrs['C']['cgg'] - corrs['A']['cgg'])\n",
    "plt.colorbar()"
   ]
  },
  {
   "cell_type": "markdown",
   "id": "53f39ea2-9285-48d8-9ccc-2fb728414f7c",
   "metadata": {},
   "source": [
    "## Set up theory code"
   ]
  },
  {
   "cell_type": "code",
   "execution_count": 10,
   "id": "01b6b638-a0a0-4537-9b00-ee3754ef6ba6",
   "metadata": {},
   "outputs": [
    {
     "name": "stdout",
     "output_type": "stream",
     "text": [
      "<Client: 'inproc://128.55.73.88/125067/1' processes=1 threads=4, memory=150.00 GB>\n"
     ]
    }
   ],
   "source": [
    "c=LocalCluster(n_workers=1,processes=False,memory_limit='150gb',threads_per_worker=4,\n",
    "               memory_spill_fraction=.99,memory_monitor_interval='2000ms')\n",
    "client=Client(c)\n",
    "print(client)"
   ]
  },
  {
   "cell_type": "markdown",
   "id": "b7a5504e-6150-46fa-a4f0-8c017320f58f",
   "metadata": {},
   "source": [
    "#### Skylens setup"
   ]
  },
  {
   "cell_type": "markdown",
   "id": "08941e0a-b527-4d85-8cc4-d4f661372ae8",
   "metadata": {},
   "source": [
    "Setup cosmology. For testing, we set everything to Planck18 except $A_s$. "
   ]
  },
  {
   "cell_type": "code",
   "execution_count": 11,
   "id": "942edfc7-a576-45cc-8146-96bebbd3baaa",
   "metadata": {},
   "outputs": [],
   "source": [
    "from astropy.cosmology import Planck18_arXiv_v2 as cosmo_planck\n",
    "\n",
    "cosmo_fid=dict({'h':cosmo_planck.h,\n",
    "                'Omb':cosmo_planck.Ob0,\n",
    "                'Omd':cosmo_planck.Om0-cosmo_planck.Ob0,\n",
    "                #'s8':0.817,\n",
    "                'Om':cosmo_planck.Om0,\n",
    "                #'Ase9':2.2,\n",
    "                'mnu':0,\n",
    "                'Omk':cosmo_planck.Ok0,\n",
    "                'tau':0.06,\n",
    "                'ns':0.965,\n",
    "                'OmR':cosmo_planck.Ogamma0+cosmo_planck.Onu0,\n",
    "                'w':-1,\n",
    "                'wa':0,\n",
    "                'T_cmb':cosmo_planck.Tcmb0, \n",
    "                'Neff':cosmo_planck.Neff,\n",
    "                'z_max':1090,\n",
    "                'use_astropy':True})"
   ]
  },
  {
   "cell_type": "code",
   "execution_count": 12,
   "id": "6d77cec4-f64f-4814-bb86-abd83713583e",
   "metadata": {},
   "outputs": [],
   "source": [
    "pk_params={'non_linear':1,\n",
    "           'kmax':10,\n",
    "           'kmin':3.e-4,\n",
    "           'nk':500,\n",
    "           'scenario':'dmo', \n",
    "           'halofit_version':'takahashi',\n",
    "           'pk_func' :'camb_pk'}"
   ]
  },
  {
   "cell_type": "code",
   "execution_count": 13,
   "id": "f11fa46c-c577-47c5-9d04-08cd5554632c",
   "metadata": {},
   "outputs": [],
   "source": [
    "cosmo_params = cosmo_fid"
   ]
  },
  {
   "cell_type": "markdown",
   "id": "53715fe8-7fee-4a26-a974-44b0141549f6",
   "metadata": {},
   "source": [
    "setup wigner file"
   ]
  },
  {
   "cell_type": "code",
   "execution_count": 14,
   "id": "519a2628-8b8c-4d9c-93c7-8a7eb9042530",
   "metadata": {},
   "outputs": [],
   "source": [
    "wigner_files={} \n",
    "wigner_files[0]= '/pscratch/sd/t/tanveerk/wig3j_l3072_w6144_0_reorder.zarr/'\n",
    "#wigner_files[0] = '/global/cscratch1/sd/tanveerk/wig3j_l3072_w6144_0_reorder.zarr/'"
   ]
  },
  {
   "cell_type": "markdown",
   "id": "4a86c1a6-bc62-4e18-8d58-e12ee8c4fcc0",
   "metadata": {},
   "source": [
    "Setup Skylens variables"
   ]
  },
  {
   "cell_type": "code",
   "execution_count": 15,
   "id": "4fd07371-e4d5-4a8c-98ee-8cd4f611fbcf",
   "metadata": {},
   "outputs": [],
   "source": [
    "test = True\n",
    "if test:\n",
    "    NSIDE = 256\n",
    "    lmax_cl = 3 * NSIDE - 1\n",
    "    binsize = 10\n",
    "else:\n",
    "    NSIDE = 1024\n",
    "    #lmax_cl = 3 * NSIDE - 1\n",
    "    lmax_cl = 3 * NSIDE - 1\n",
    "    binsize = 50"
   ]
  },
  {
   "cell_type": "code",
   "execution_count": 16,
   "id": "143c967f-1f59-4d02-b293-bf5a4e1d7615",
   "metadata": {},
   "outputs": [],
   "source": [
    "lmin_cl=0\n",
    "l0=np.arange(lmin_cl,lmax_cl)\n",
    "\n",
    "#following defines the ell bins. Using log bins in example, feel free to change.\n",
    "lmin_cl_Bins=50\n",
    "lmax_cl_Bins=lmax_cl-10\n",
    "Nl_bins=20\n",
    "#l_bins=np.int64(np.logspace(np.log10(lmin_cl_Bins),np.log10(lmax_cl_Bins),Nl_bins))\n",
    "l_bins = np.arange(lmin_cl_Bins, lmax_cl_Bins, binsize)\n",
    "#lb=np.sqrt(l_bins[1:]*l_bins[:-1])\n",
    "lb=0.5*(l_bins[1:]+l_bins[:-1])\n",
    "\n",
    "l=l0\n",
    "\n",
    "do_cov=False # if you want to get covariance. Covariance is slow and this should be false if you are calling skylens inside mcmc.\n",
    "bin_cl=True #bin the theory and covaraince. \n",
    "\n",
    "use_window=True #if you want to include the window effect. Code will return pseudo-cl and pseudo-cl covariance\n",
    "store_win=True # to store window, for some internal reasons. leave it to true.\n",
    "#window_lmax= 3*NSIDE - 1 #smaller value for testing. This should be 2X ell_max in the measurements.\n",
    "window_lmax = 2*NSIDE\n",
    "\n",
    "use_binned_l=False  #FIXME: to speed up computation if using pseudo-cl inside mcmc. Needs to be tested. Leave it false for now.\n",
    "\n",
    "SSV_cov=False # we donot have good model for super sample and tri-spectrum. We can chat about implementing some approximate analytical forms.\n",
    "tidal_SSV_cov=False\n",
    "Tri_cov=False \n",
    "\n",
    "bin_xi=True\n",
    "theta_bins=np.logspace(np.log10(1./60),1,20)"
   ]
  },
  {
   "cell_type": "code",
   "execution_count": 17,
   "id": "e3e84434-7a93-47d6-92e1-0ed8001f479f",
   "metadata": {},
   "outputs": [],
   "source": [
    "def SkyLens_cls(nside, l, cosmo_params, pk_params,\n",
    "                dndz_dict, gal_window_dict, gal_maskfile,\n",
    "                cmb_SN_file, cmb_window_map_arr,\n",
    "                z_cmb = 1090, zmax_cmb = 1090,\n",
    "                bg1 = None, bz1 = None, mag_fact = 0, \n",
    "                zmin_gal = 0.0, zmax_gal = 1.6, nz = 140, \n",
    "                use_window = False,\n",
    "                Win = None):\n",
    "    \"\"\"Returns Skylens object for C_ell calculation based on given maps.\n",
    "    \n",
    "    Inputs:\n",
    "        nside (int) : nside for healpy\n",
    "        l (array) : multipoles to evaluate \n",
    "        dndz_dict (dict) : dictionary containing dndz file location per tomographic bin\n",
    "        gal_window_dict (dict) : dictionary containing galaxy window function file \n",
    "                                location per tomographic bin\n",
    "        gal_maskfile (str) : Galaxy mask file location\n",
    "        cmb_SN_file (str) : CMB noise curve file location \n",
    "        cmb_window_map_arr (str) : CMB window function file location\n",
    "        z_cmb (float) : redshift of CMB \n",
    "        zmax_cmb (float) : maximum redshift where CMB lensing kernel should be integrated up to\n",
    "        bg1 (float) : linear bias term for galaxies\n",
    "        bz1 (dict) : redshift dependent galaxy bias\n",
    "        mag_fact (float) : magnification bias \n",
    "        zmin_gal (float) : min redshift for galaxy sample\n",
    "        zmax_gal (float) : max redshift for galaxy sample\n",
    "        nz (int) : number of redshifts where P(k) will be evaluated\n",
    "        use_window (bool) : whether to evaluate window function\n",
    "        Win (dict) : optional dict; pass saved window calculated before\n",
    "        \n",
    "    Returns:\n",
    "        kappa0 (dict) : Skylens dict containing Cls, pCls, coupling matrices\n",
    "    \"\"\"\n",
    "    \n",
    "    results = {}\n",
    "            \n",
    "    #tomographed redshift bins for the galaxies\n",
    "    zl_bin = utilsCross.DESI_elg_bins(l=l, nside = nside, ntomo_bins = len(gal_window_dict), \n",
    "                                 bg1 = bg1, bz1 = bz1, mag_fact = mag_fact, \n",
    "                                 dndz_arr = dndz_dict, \n",
    "                                 gal_maskfile = gal_maskfile, gal_window_arr = gal_window_dict,\n",
    "                                use_window = use_window)\n",
    "\n",
    "    np.array([cmb_window_map_file])\n",
    "    #redshift bins for cmb\n",
    "    zs_bin = utilsCross.cmb_bins_here(zs = z_cmb, l=l, nside = nside, \n",
    "                                 zmax_cmb = zmax_cmb, SN_file = cmb_SN_file, \n",
    "                                 cmb_window_map_arr = cmb_window_map_arr,\n",
    "                                use_window = use_window) # lensing source bin\n",
    "    \n",
    "    #names of maps\n",
    "    #corr_kk=('kappa','kappa')\n",
    "    corr_gg=('galaxy','galaxy')\n",
    "    corr_gk=('galaxy','kappa')\n",
    "    #corrs=[corr_kk, corr_gg, corr_gk]\n",
    "    corrs = [corr_gg, corr_gk]\n",
    "    \n",
    "    #tmpz1 = np.linspace(max(zmin_gal, 1e-4), zmax_gal, nz)\n",
    "    tmpz1 = np.linspace(0.01, zmax_gal + 0.5, nz)\n",
    "    #tmpz2 = np.logspace(-4, np.log10(zmax_cmb), nz) #\n",
    "    #z_PS = np.sort(np.unique(np.around(np.append(tmpz1, tmpz2), \n",
    "    #                                   decimals = 3))) #redshifts where P(k) will be evaluated\n",
    "    z_PS = tmpz1\n",
    "    print(\"z_PS: \", len(z_PS))\n",
    "    \n",
    "    if Win is not None:\n",
    "        kappa0 = skylens.Skylens(kappa_zbins=zs_bin,do_cov=do_cov,bin_cl=bin_cl,l_bins=l_bins,l=l0, \n",
    "                                 galaxy_zbins=zl_bin,\n",
    "                                       use_window=use_window,Tri_cov=Tri_cov, Win = Win,\n",
    "                                       use_binned_l=use_binned_l,wigner_files=wigner_files,\n",
    "                                       SSV_cov=SSV_cov,tidal_SSV_cov=tidal_SSV_cov,\n",
    "                                       store_win=store_win,window_lmax=window_lmax,\n",
    "                                       corrs=corrs, scheduler_info=client.scheduler_info(), log_z_PS=1,\n",
    "                                       cosmo_params = cosmo_params, z_PS=z_PS, pk_params = pk_params)\n",
    "        \n",
    "    else:\n",
    "        kappa0 = skylens.Skylens(kappa_zbins=zs_bin,do_cov=do_cov,bin_cl=bin_cl,l_bins=l_bins,l=l0, galaxy_zbins=zl_bin,\n",
    "                                       use_window=use_window,Tri_cov=Tri_cov, #Win = Win,\n",
    "                                       use_binned_l=use_binned_l,wigner_files=wigner_files,\n",
    "                                       SSV_cov=SSV_cov,tidal_SSV_cov=tidal_SSV_cov,\n",
    "                                       store_win=store_win,window_lmax=window_lmax,\n",
    "                                       corrs=corrs, scheduler_info=client.scheduler_info(), log_z_PS=1,\n",
    "                                       cosmo_params = cosmo_params, z_PS=z_PS, pk_params = pk_params)\n",
    "    \n",
    "    return kappa0"
   ]
  },
  {
   "cell_type": "code",
   "execution_count": 18,
   "id": "d323322a-102e-4f73-b4c2-549f6aac02d5",
   "metadata": {},
   "outputs": [],
   "source": [
    "wtype = 'nnp' #window type \n",
    "cmb_SN_file = '/pscratch/sd/t/tanveerk/cmb/lensing/MV/nlkk.dat'\n",
    "#cmb_SN_file = '/global/cscratch1/sd/tanveerk/cmb/lensing/MV/nlkk.dat'\n",
    "gal_maskfile = '/global/homes/t/tanveerk/lselgsXplanck/finalproducts/mask_bool_dr9.npy'\n",
    "cmb_window_map_file = np.array(['/global/homes/t/tanveerk/lselgsXplanck/finalproducts/mask_rotated_eq_nside_1024.npy'])\n",
    "gal_window_map_file = \"/global/homes/t/tanveerk/lselgsXplanck/finalproducts/Wg_map_nnp.npy\"\n",
    "gal_window_dict = np.array([gal_window_map_file])\n",
    "\n",
    "#dndz file\n",
    "redz_file = pd.read_csv(\"/global/homes/t/tanveerk/lselgsXplanck/finalproducts/fuji_pz_single_tomo.csv\")\n",
    "dndz = {}\n",
    "dndz['zrange'] = np.array(redz_file['Redshift_mid'])\n",
    "dndz['dndz'] = np.array(redz_file['pz'])\n",
    "zrange = dndz['zrange']"
   ]
  },
  {
   "cell_type": "markdown",
   "id": "e31fdf59-14d9-4fb6-97f3-5f065f44897c",
   "metadata": {},
   "source": [
    "Define galaxy linear bias and magnification bias"
   ]
  },
  {
   "cell_type": "code",
   "execution_count": 19,
   "id": "45216edb-9bdf-4c27-9ec8-d7513824f194",
   "metadata": {},
   "outputs": [],
   "source": [
    "cosmo_params2 = deepcopy(cosmo_params)\n",
    "cosmo_params2['Ase9'] = 2.2"
   ]
  },
  {
   "cell_type": "code",
   "execution_count": 20,
   "id": "61672437-f26d-4001-941f-9520e7792a86",
   "metadata": {},
   "outputs": [
    {
     "data": {
      "text/plain": [
       "{'h': 0.6766,\n",
       " 'Omb': 0.04897,\n",
       " 'Omd': 0.26069,\n",
       " 'Om': 0.30966,\n",
       " 'mnu': 0,\n",
       " 'Omk': 0.0,\n",
       " 'tau': 0.06,\n",
       " 'ns': 0.965,\n",
       " 'OmR': 0.0014936944554559174,\n",
       " 'w': -1,\n",
       " 'wa': 0,\n",
       " 'T_cmb': <Quantity 2.7255 K>,\n",
       " 'Neff': 3.046,\n",
       " 'z_max': 1090,\n",
       " 'use_astropy': True}"
      ]
     },
     "execution_count": 20,
     "metadata": {},
     "output_type": "execute_result"
    }
   ],
   "source": [
    "cosmo_params"
   ]
  },
  {
   "cell_type": "code",
   "execution_count": 21,
   "id": "e8b70ff7-50c6-4b5b-b132-719135d7a90b",
   "metadata": {},
   "outputs": [],
   "source": [
    "#define cosmology object\n",
    "tmpcosmo = skylens.cosmology(cosmo_params=cosmo_params2)\n",
    "\n",
    "bg1 = None\n",
    "bz1 = {}\n",
    "bz1[0] = 1./tmpcosmo.DZ_int(z=zrange)\n",
    "\n",
    "mag_fact = 2.621 # set magnification bias ##FIXME: need to change it based on Rongpu's method"
   ]
  },
  {
   "cell_type": "code",
   "execution_count": 22,
   "id": "13fd8179-4882-4eda-bab1-4d52f3f0b375",
   "metadata": {
    "tags": []
   },
   "outputs": [
    {
     "name": "stdout",
     "output_type": "stream",
     "text": [
      "0.0 3.000000000000001 None 0.0029767682558078574\n",
      "cmb yes\n",
      "processing cmb lensing window\n",
      "z_PS:  140\n"
     ]
    },
    {
     "name": "stderr",
     "output_type": "stream",
     "text": [
      "/global/homes/t/tanveerk/lselgsXplanck/src/utilsCross.py:55: RuntimeWarning: invalid value encountered in sqrt\n",
      "  window_map_noise = np.sqrt(window_map)\n",
      "/global/homes/t/tanveerk/SkyLens/skylens/tracer_utils.py:73: VisibleDeprecationWarning: Creating an ndarray from ragged nested sequences (which is a list-or-tuple of lists-or-tuples-or ndarrays with different lengths or shapes) is deprecated. If you meant to do this, you must specify 'dtype=object' when creating the ndarray.\n",
      "  z_max_all=np.array([self.z_bins[tracer]['zmax'] for tracer in self.tracers])\n"
     ]
    },
    {
     "name": "stdout",
     "output_type": "stream",
     "text": [
      "Tracer utils has tracers:  ['galaxy', 'kappa']\n"
     ]
    },
    {
     "name": "stderr",
     "output_type": "stream",
     "text": [
      "/global/homes/t/tanveerk/SkyLens/skylens/angular_power_spectra.py:27: RuntimeWarning: divide by zero encountered in true_divide\n",
      "  self.cl_f=(l+0.5)**2/(l*(l+1.)) # cl correction from Kilbinger+ 2017\n"
     ]
    },
    {
     "name": "stdout",
     "output_type": "stream",
     "text": [
      "power spectra camb_pk\n",
      "True\n",
      "Win gen: step size 265 767 513.0 1\n",
      "wigner_files: {0: '/pscratch/sd/t/tanveerk/wig3j_l3072_w6144_0_reorder.zarr/'}\n",
      "wigner done dict_keys([])\n",
      "set window_cl: cl0,cl_b done 3.790855407714844e-05\n",
      "Win_cli ('galaxy', 'galaxy', 0, 0) ('galaxy', 'galaxy') (0, 0)\n",
      "Win_cli ('galaxy', 'kappa', 0, 0) ('galaxy', 'kappa') (0, 0)\n",
      "set window_cl: cl done 0.0016946792602539062 302.079 0.0\n",
      "cl+cov bags done 2 0 0.07988691329956055\n",
      "set_window_cl done 1.5964102745056152\n",
      "setting windows, coupling matrices  <Client: 'inproc://128.55.73.88/125067/1' processes=1 threads=4, memory=150.00 GB>\n",
      "doing lm 0\n",
      "done lm cl+cov graph 0 0.00045037269592285156 604.069 inproc://128.55.73.88/125067/3\n",
      "done lm 0 0.15574336051940918\n",
      "doing lm 265\n",
      "done lm cl+cov graph 265 0.0006504058837890625 604.069 inproc://128.55.73.88/125067/3\n",
      "done lm 265 0.15528035163879395\n",
      "doing lm 530\n",
      "done lm cl+cov graph 530 0.0008387565612792969 604.069 inproc://128.55.73.88/125067/3\n",
      "coupling_matrix_large (265, 767)\n",
      "coupling_matrix_large (265, 767)\n",
      "coupling_matrix_large (265, 767)\n",
      "coupling_matrix_large (237, 767)\n",
      "coupling_matrix_large (265, 767)\n",
      "coupling_matrix_large (237, 767)\n",
      "coupling_matrix_large (265, 767)\n",
      "coupling_matrix_large (237, 767)\n",
      "coupling_matrix_large (265, 767)\n",
      "done lm 530 3.2422103881835938\n",
      "Done all lm 3.242286443710327\n",
      "done combine lm 3.2562572956085205\n",
      "Window done. Size: 14.132\n"
     ]
    }
   ],
   "source": [
    "kappa0 = SkyLens_cls(nside = NSIDE, l = l, cosmo_params=cosmo_params2, pk_params=pk_params,\n",
    "                dndz_dict = dndz, gal_window_dict = gal_window_dict, gal_maskfile = gal_maskfile,\n",
    "                cmb_SN_file = cmb_SN_file, cmb_window_map_arr = cmb_window_map_file,\n",
    "                z_cmb = 1090, zmax_cmb = 1090,\n",
    "                bg1 = None, bz1 = bz1, mag_fact = mag_fact, \n",
    "                zmin_gal = 0.0, zmax_gal = 3, nz = 140, \n",
    "                use_window = use_window,\n",
    "                Win = None)"
   ]
  },
  {
   "cell_type": "code",
   "execution_count": 23,
   "id": "8cb41c3c-979e-4b53-8b52-5a23678a3cba",
   "metadata": {},
   "outputs": [],
   "source": [
    "Win=kappa0.Win"
   ]
  },
  {
   "cell_type": "code",
   "execution_count": 24,
   "id": "e540635d-c8bd-41df-a9ca-ccafbab4f5b3",
   "metadata": {},
   "outputs": [
    {
     "data": {
      "text/plain": [
       "array([[ 2.32842909e-01, -2.56175723e-04,  1.50044779e-02, ...,\n",
       "         0.00000000e+00,  0.00000000e+00,  0.00000000e+00],\n",
       "       [-7.68527169e-04,  2.62851857e-01,  4.71207297e-05, ...,\n",
       "         0.00000000e+00,  0.00000000e+00,  0.00000000e+00],\n",
       "       [ 7.50223895e-02,  7.85345496e-05,  2.59660392e-01, ...,\n",
       "         0.00000000e+00,  0.00000000e+00,  0.00000000e+00],\n",
       "       ...,\n",
       "       [ 0.00000000e+00,  0.00000000e+00,  0.00000000e+00, ...,\n",
       "         2.54762540e-01, -1.32419849e-04,  3.15731770e-02],\n",
       "       [ 0.00000000e+00,  0.00000000e+00,  0.00000000e+00, ...,\n",
       "        -1.32593060e-04,  2.54762534e-01, -1.32419971e-04],\n",
       "       [ 0.00000000e+00,  0.00000000e+00,  0.00000000e+00, ...,\n",
       "         3.16557752e-02, -1.32592955e-04,  2.54762541e-01]])"
      ]
     },
     "execution_count": 24,
     "metadata": {},
     "output_type": "execute_result"
    }
   ],
   "source": [
    "Win['cl'][('galaxy', 'kappa')][(0, 0)]['M']"
   ]
  },
  {
   "cell_type": "code",
   "execution_count": 25,
   "id": "1f626c8d-8bbd-4bce-ab2d-85332d0593f6",
   "metadata": {},
   "outputs": [
    {
     "name": "stdout",
     "output_type": "stream",
     "text": [
      "scatter_dict got empty dictionary\n",
      "[('galaxy', 'galaxy'), ('galaxy', 'kappa')]\n",
      "cl graph done\n",
      "gather_dict got empty dictionary\n"
     ]
    }
   ],
   "source": [
    "cl0G=kappa0.cl_tomo()"
   ]
  },
  {
   "cell_type": "code",
   "execution_count": 26,
   "id": "5d16ed9f-b33d-428d-9a36-3c24a479fc35",
   "metadata": {},
   "outputs": [],
   "source": [
    "corr_kk = ('kappa', 'kappa')\n",
    "corr_gg = ('galaxy', 'galaxy')\n",
    "corr_kg = ('kappa', 'galaxy')\n",
    "bi = (0,0)"
   ]
  },
  {
   "cell_type": "code",
   "execution_count": 27,
   "id": "2e397bf5-c5ef-44d8-b101-7e57f68f5fd2",
   "metadata": {},
   "outputs": [
    {
     "data": {
      "text/plain": [
       "array([2.78970743e-06, 2.52290273e-06, 2.25703445e-06, 2.01862361e-06,\n",
       "       1.81847243e-06, 1.65771769e-06, 1.53063911e-06, 1.42865541e-06,\n",
       "       1.34263095e-06, 1.26506651e-06, 1.19068593e-06, 1.11695756e-06,\n",
       "       1.04364459e-06, 9.71863051e-07, 9.03384412e-07, 8.39917998e-07,\n",
       "       7.82667104e-07, 7.32118806e-07, 6.88091258e-07, 6.49833190e-07,\n",
       "       6.16298403e-07, 5.86377445e-07, 5.59067762e-07, 5.33602728e-07,\n",
       "       5.09489983e-07, 4.86458335e-07, 4.64482464e-07, 4.43599895e-07,\n",
       "       4.23904124e-07, 4.05487349e-07, 3.88338573e-07, 3.72457047e-07,\n",
       "       3.57720795e-07, 3.44000725e-07, 3.31163877e-07, 3.19072209e-07,\n",
       "       3.07619140e-07, 2.96732936e-07, 2.86370611e-07, 2.76511479e-07,\n",
       "       2.67150658e-07, 2.58289555e-07, 2.49925159e-07, 2.42045547e-07,\n",
       "       2.34627013e-07, 2.27635415e-07, 2.21030052e-07, 2.14765654e-07,\n",
       "       2.08799506e-07, 2.03093056e-07, 1.97614727e-07, 1.92343911e-07,\n",
       "       1.87268480e-07, 1.82381382e-07, 1.77677433e-07, 1.73159794e-07,\n",
       "       1.68832299e-07, 1.64693189e-07, 1.60731258e-07, 1.56948520e-07,\n",
       "       1.53337767e-07, 1.49884433e-07, 1.46575269e-07, 1.43398915e-07,\n",
       "       1.40344859e-07, 1.37404056e-07, 1.34561033e-07, 1.31815538e-07,\n",
       "       1.29158838e-07, 1.26584876e-07])"
      ]
     },
     "execution_count": 27,
     "metadata": {},
     "output_type": "execute_result"
    }
   ],
   "source": [
    "cl0G['cl_b'][corr_gg][bi].compute()"
   ]
  },
  {
   "cell_type": "code",
   "execution_count": 28,
   "id": "349e1364-6b42-4d39-a799-e601e8c469ed",
   "metadata": {},
   "outputs": [
    {
     "data": {
      "text/plain": [
       "array([9.01034468e-07, 8.17750624e-07, 7.34331613e-07, 6.59063230e-07,\n",
       "       5.95451102e-07, 5.43958575e-07, 5.02916931e-07, 4.69724897e-07,\n",
       "       4.41591962e-07, 4.16200610e-07, 3.91917420e-07, 3.67942383e-07,\n",
       "       3.44179209e-07, 3.20957531e-07, 2.98811877e-07, 2.78264509e-07,\n",
       "       2.59682021e-07, 2.43219633e-07, 2.28821153e-07, 2.16256454e-07,\n",
       "       2.05202331e-07, 1.95313274e-07, 1.86277444e-07, 1.77853641e-07,\n",
       "       1.69883797e-07, 1.62282460e-07, 1.55033650e-07, 1.48146808e-07,\n",
       "       1.41648150e-07, 1.35560888e-07, 1.29885800e-07, 1.24616310e-07,\n",
       "       1.19719121e-07, 1.15151845e-07, 1.10870328e-07, 1.06831630e-07,\n",
       "       1.03001980e-07, 9.93591827e-08, 9.58890546e-08, 9.25845826e-08,\n",
       "       8.94437860e-08, 8.64665242e-08, 8.36514170e-08, 8.09946191e-08,\n",
       "       7.84888897e-08, 7.61237788e-08, 7.38865202e-08, 7.17619403e-08,\n",
       "       6.97360156e-08, 6.77970877e-08, 6.59356178e-08, 6.41450102e-08,\n",
       "       6.24210844e-08, 6.07611470e-08, 5.91635575e-08, 5.76284943e-08,\n",
       "       5.61564464e-08, 5.47462972e-08, 5.33953260e-08, 5.21023413e-08,\n",
       "       5.08645274e-08, 4.96765532e-08, 4.85332095e-08, 4.74308952e-08,\n",
       "       4.63635589e-08, 4.53262521e-08, 4.43105899e-08, 4.33057649e-08,\n",
       "       4.22915581e-08, 4.12233199e-08])"
      ]
     },
     "execution_count": 28,
     "metadata": {},
     "output_type": "execute_result"
    }
   ],
   "source": [
    "cl0G['pseudo_cl_b'][corr_gg][bi].compute()"
   ]
  },
  {
   "cell_type": "code",
   "execution_count": null,
   "id": "b8a1e77f-8025-41d8-82b9-28c050128a19",
   "metadata": {},
   "outputs": [],
   "source": []
  },
  {
   "cell_type": "code",
   "execution_count": null,
   "id": "8d44765e-d9bd-4f67-b31a-2aceebb2a68d",
   "metadata": {},
   "outputs": [],
   "source": []
  },
  {
   "cell_type": "markdown",
   "id": "02c53a93-9c81-4923-aa80-6c03e4a18140",
   "metadata": {
    "tags": []
   },
   "source": [
    "## Mock data"
   ]
  },
  {
   "cell_type": "code",
   "execution_count": null,
   "id": "f1e36af3-4613-48a2-8675-8b655f792583",
   "metadata": {},
   "outputs": [],
   "source": []
  },
  {
   "cell_type": "code",
   "execution_count": null,
   "id": "a0a6d463-29d2-40fe-9cd2-d8a01f789bdc",
   "metadata": {},
   "outputs": [],
   "source": []
  },
  {
   "cell_type": "code",
   "execution_count": null,
   "id": "b71caedd-01da-4606-bc5e-359c364518ea",
   "metadata": {},
   "outputs": [],
   "source": []
  },
  {
   "cell_type": "code",
   "execution_count": null,
   "id": "e2828dee-e1c3-4acc-82b0-4a2877b8664e",
   "metadata": {},
   "outputs": [],
   "source": []
  },
  {
   "cell_type": "code",
   "execution_count": 56,
   "id": "037ab7a8-8ecf-4190-b9d7-9542983aabdc",
   "metadata": {},
   "outputs": [],
   "source": [
    "def f(x):\n",
    "    return -5*x**2 + 3"
   ]
  },
  {
   "cell_type": "code",
   "execution_count": 57,
   "id": "62bba1db-881f-483a-8b89-a8553aedf532",
   "metadata": {},
   "outputs": [
    {
     "data": {
      "text/plain": [
       "[<matplotlib.lines.Line2D at 0x1555079c3b90>]"
      ]
     },
     "execution_count": 57,
     "metadata": {},
     "output_type": "execute_result"
    },
    {
     "data": {
      "image/png": "[encoded data removed]",
      "text/plain": [
       "<Figure size 640x480 with 1 Axes>"
      ]
     },
     "metadata": {},
     "output_type": "display_data"
    }
   ],
   "source": [
    "tmpx = np.arange(-10,10, 0.5)\n",
    "plt.plot(tmpx, f(tmpx))"
   ]
  },
  {
   "cell_type": "code",
   "execution_count": 59,
   "id": "db5d2cbd-3a27-4c1b-a813-a8593fb9e480",
   "metadata": {},
   "outputs": [
    {
     "data": {
      "text/plain": [
       "      fun: -2.9999999999999996\n",
       " hess_inv: array([[0.1]])\n",
       "      jac: array([-2.98023224e-08])\n",
       "  message: 'Optimization terminated successfully.'\n",
       "     nfev: 6\n",
       "      nit: 2\n",
       "     njev: 3\n",
       "   status: 0\n",
       "  success: True\n",
       "        x: array([-8.79316039e-09])"
      ]
     },
     "execution_count": 59,
     "metadata": {},
     "output_type": "execute_result"
    }
   ],
   "source": [
    "nf = lambda x : -1 * f(x)\n",
    "minimize(fun = nf, x0 = -1.2)"
   ]
  },
  {
   "cell_type": "markdown",
   "id": "f477ddaa-15d7-4e12-bd28-dee1ec096f7b",
   "metadata": {},
   "source": [
    "## Set up likelihood"
   ]
  },
  {
   "cell_type": "code",
   "execution_count": null,
   "id": "ed35ba08-f0bd-4650-9867-79e61b732151",
   "metadata": {},
   "outputs": [],
   "source": [
    "from scipy.optimize import minimize"
   ]
  },
  {
   "cell_type": "code",
   "execution_count": null,
   "id": "7594073f-8454-41bc-bfc8-d876d8a2c897",
   "metadata": {},
   "outputs": [],
   "source": [
    "model = "
   ]
  },
  {
   "cell_type": "code",
   "execution_count": 51,
   "id": "554792d7-2c70-4f05-8579-04e5ceb30fad",
   "metadata": {},
   "outputs": [],
   "source": [
    "data = pcls_binned['A']['cgg']"
   ]
  },
  {
   "cell_type": "code",
   "execution_count": null,
   "id": "06ce6bb9-0b56-42be-8616-5f9119b2a0bf",
   "metadata": {},
   "outputs": [],
   "source": [
    "loss = model - data\n",
    "chisq = loss @ covinv @ loss"
   ]
  },
  {
   "cell_type": "code",
   "execution_count": 63,
   "id": "4526eb44-ab39-4c71-8dc6-ab8a808566e0",
   "metadata": {},
   "outputs": [],
   "source": [
    "def loglike(params, x, y):\n",
    "    a = params[0]\n",
    "    b = params[1]\n",
    "    \n",
    "    loss = np.sum((y - (-a * x**2 + b))**2)\n",
    "    \n",
    "    return loss"
   ]
  },
  {
   "cell_type": "markdown",
   "id": "09bd17f0-f3ed-45a9-a265-3594f81ffef5",
   "metadata": {
    "tags": []
   },
   "source": [
    "## Set up optmizer"
   ]
  },
  {
   "cell_type": "code",
   "execution_count": null,
   "id": "b9cfc42a-fee6-4358-afb8-1759e58c1464",
   "metadata": {},
   "outputs": [
    {
     "data": {
      "text/plain": [
       "      fun: 1.0350667841835082e-11\n",
       " hess_inv: array([[1.39752046e-05, 4.66422797e-04],\n",
       "       [4.66422797e-04, 2.80668609e-02]])\n",
       "      jac: array([ 8.35700398e-11, -1.26298971e-12])\n",
       "  message: 'Optimization terminated successfully.'\n",
       "     nfev: 27\n",
       "      nit: 7\n",
       "     njev: 9\n",
       "   status: 0\n",
       "  success: True\n",
       "        x: array([4.99999998, 2.99999942])"
      ]
     },
     "execution_count": 66,
     "metadata": {},
     "output_type": "execute_result"
    }
   ],
   "source": [
    "minimize(fun = loglike, x0 = np.array([-4.5, 2.5]), args=(tmpx, f(tmpx)))"
   ]
  }
 ],
 "metadata": {
  "kernelspec": {
   "display_name": "MyEnvP",
   "language": "python",
   "name": "myenv_perlmutter"
  },
  "language_info": {
   "codemirror_mode": {
    "name": "ipython",
    "version": 3
   },
   "file_extension": ".py",
   "mimetype": "text/x-python",
   "name": "python",
   "nbconvert_exporter": "python",
   "pygments_lexer": "ipython3",
   "version": "3.7.10"
  }
 },
 "nbformat": 4,
 "nbformat_minor": 5
}
