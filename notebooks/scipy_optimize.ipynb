{
 "cells": [
  {
   "cell_type": "markdown",
   "id": "180a0298-6778-4481-953d-3cfff8a1057b",
   "metadata": {},
   "source": [
    "Last Updated: Jan 02, 2023\n",
    "\n",
    "\n",
    "In this notebook, we run `scipy.optimize.minimize` to estimate $\\sigma_8$ based on different covariance matrices of simulations and their mean values. The goal is to see how the bias of the mean values and the increased covariances affect parameter estimation. We first set up a toy example where we set all of the cosmology to be the same and only sample over $\\sigma_8$. "
   ]
  },
  {
   "cell_type": "code",
   "execution_count": 1,
   "id": "93e001e3-20f5-4401-83bc-d84fe3e56ca7",
   "metadata": {},
   "outputs": [],
   "source": [
    "import os\n",
    "os.environ[\"OMP_NUM_THREADS\"] = \"64\" #need to be set early"
   ]
  },
  {
   "cell_type": "code",
   "execution_count": 2,
   "id": "6d4f5129-1199-4671-ad6a-d93d4f1b6afd",
   "metadata": {},
   "outputs": [],
   "source": [
    "#auto load changes \n",
    "%load_ext autoreload\n",
    "%autoreload 2\n",
    "\n",
    "%load_ext line_profiler"
   ]
  },
  {
   "cell_type": "code",
   "execution_count": 3,
   "id": "f19405a1-6c57-4430-8fc3-bdcab9068f14",
   "metadata": {},
   "outputs": [
    {
     "name": "stdout",
     "output_type": "stream",
     "text": [
      "skylens main: /global/homes/t/tanveerk/SkyLens/skylens/__init__.py\n"
     ]
    }
   ],
   "source": [
    "import numpy as np\n",
    "import pandas as pd\n",
    "import pickle\n",
    "from copy import deepcopy\n",
    "import matplotlib.pyplot as plt\n",
    "\n",
    "import sys \n",
    "sys.path.insert(0,'/global/homes/t/tanveerk/SkyLens/') #path to skylens\n",
    "sys.path.insert(0,'/global/homes/t/tanveerk/SkyLens/skylens') #path to skylens\n",
    "sys.path.insert(0,'/global/homes/t/tanveerk/lselgsXplanck/src/') #path to helper functions\n",
    "\n",
    "import skylens\n",
    "import utilsCross #helper functions\n",
    "\n",
    "from scipy.optimize import minimize"
   ]
  },
  {
   "cell_type": "code",
   "execution_count": 4,
   "id": "8e0b7125-10ca-4998-9d3e-29659f98cb3c",
   "metadata": {},
   "outputs": [],
   "source": [
    "#import multiprocessing\n",
    "from distributed import LocalCluster\n",
    "from dask.distributed import Client\n",
    "from dask.distributed import Lock"
   ]
  },
  {
   "cell_type": "markdown",
   "id": "53f39ea2-9285-48d8-9ccc-2fb728414f7c",
   "metadata": {
    "tags": []
   },
   "source": [
    "## Set up theory code"
   ]
  },
  {
   "cell_type": "code",
   "execution_count": 5,
   "id": "906129aa-eec6-4b02-9f7c-df463e994998",
   "metadata": {},
   "outputs": [
    {
     "name": "stdout",
     "output_type": "stream",
     "text": [
      "Start_client: No scheduler file, will start local cluster at  ./temp_skylens/pid39284/\n",
      "client:  <Client: 'tcp://127.0.0.1:46345' processes=2 threads=2, memory=120.00 GB>\n"
     ]
    }
   ],
   "source": [
    "ndask_workers=2\n",
    "LC,scheduler_info = skylens.start_client(ncpu=None,n_workers=ndask_workers,threads_per_worker=1,\n",
    "                               memory_limit='60gb',dashboard_address=8801,\n",
    "                               processes=True)\n",
    "client=skylens.client_get(scheduler_info=scheduler_info)\n",
    "print('client: ',client)#,dask_dir,scheduler_info)\n",
    " \n",
    "lock = None #Lock(name=\"Why_Camb_Why\",client=client)"
   ]
  },
  {
   "cell_type": "markdown",
   "id": "b7a5504e-6150-46fa-a4f0-8c017320f58f",
   "metadata": {
    "tags": []
   },
   "source": [
    "#### Skylens setup"
   ]
  },
  {
   "cell_type": "markdown",
   "id": "08941e0a-b527-4d85-8cc4-d4f661372ae8",
   "metadata": {},
   "source": [
    "Setup cosmology. For testing, we set everything to Planck18 except $A_s$. "
   ]
  },
  {
   "cell_type": "code",
   "execution_count": 6,
   "id": "942edfc7-a576-45cc-8146-96bebbd3baaa",
   "metadata": {},
   "outputs": [],
   "source": [
    "from astropy.cosmology import Planck18_arXiv_v2 as cosmo_planck\n",
    "\n",
    "cosmo_fid=dict({'h':cosmo_planck.h,\n",
    "                'Omb':cosmo_planck.Ob0,\n",
    "                'Omd':cosmo_planck.Om0-cosmo_planck.Ob0,\n",
    "                #'s8':0.817,\n",
    "                'Om':cosmo_planck.Om0,\n",
    "                #'Ase9':2.2,\n",
    "                'mnu':0,\n",
    "                'Omk':cosmo_planck.Ok0,\n",
    "                'tau':0.06,\n",
    "                'ns':0.965,\n",
    "                'OmR':cosmo_planck.Ogamma0+cosmo_planck.Onu0,\n",
    "                'w':-1,\n",
    "                'wa':0,\n",
    "                'T_cmb':cosmo_planck.Tcmb0, \n",
    "                'Neff':cosmo_planck.Neff,\n",
    "                'z_max':1090,\n",
    "                'use_astropy':True})"
   ]
  },
  {
   "cell_type": "code",
   "execution_count": 7,
   "id": "6d77cec4-f64f-4814-bb86-abd83713583e",
   "metadata": {},
   "outputs": [],
   "source": [
    "pk_params={'non_linear':1,\n",
    "           'kmax':10,\n",
    "           'kmin':3.e-4,\n",
    "           'nk':500,\n",
    "           'scenario':'dmo', \n",
    "           'halofit_version':'takahashi',\n",
    "           'pk_func' :'camb_pk'}"
   ]
  },
  {
   "cell_type": "code",
   "execution_count": 8,
   "id": "f11fa46c-c577-47c5-9d04-08cd5554632c",
   "metadata": {},
   "outputs": [],
   "source": [
    "cosmo_params = cosmo_fid"
   ]
  },
  {
   "cell_type": "markdown",
   "id": "53715fe8-7fee-4a26-a974-44b0141549f6",
   "metadata": {},
   "source": [
    "setup wigner file"
   ]
  },
  {
   "cell_type": "code",
   "execution_count": 9,
   "id": "519a2628-8b8c-4d9c-93c7-8a7eb9042530",
   "metadata": {},
   "outputs": [],
   "source": [
    "wigner_files={} \n",
    "wigner_files[0]= '/pscratch/sd/t/tanveerk/wig3j_l3072_w6144_0_reorder.zarr/'\n",
    "#wigner_files[0] = '/global/cscratch1/sd/tanveerk/wig3j_l3072_w6144_0_reorder.zarr/'"
   ]
  },
  {
   "cell_type": "markdown",
   "id": "4a86c1a6-bc62-4e18-8d58-e12ee8c4fcc0",
   "metadata": {
    "tags": []
   },
   "source": [
    "### Setup Skylens variables"
   ]
  },
  {
   "cell_type": "code",
   "execution_count": 10,
   "id": "4fd07371-e4d5-4a8c-98ee-8cd4f611fbcf",
   "metadata": {},
   "outputs": [],
   "source": [
    "test = True\n",
    "if test:\n",
    "    NSIDE = 256\n",
    "    lmax_cl = 3 * NSIDE - 1\n",
    "    binsize = 10\n",
    "else:\n",
    "    NSIDE = 1024\n",
    "    #lmax_cl = 3 * NSIDE - 1\n",
    "    lmax_cl = 3 * NSIDE - 1\n",
    "    binsize = 50"
   ]
  },
  {
   "cell_type": "code",
   "execution_count": 11,
   "id": "143c967f-1f59-4d02-b293-bf5a4e1d7615",
   "metadata": {},
   "outputs": [],
   "source": [
    "lmin_cl=0\n",
    "l0=np.arange(lmin_cl,lmax_cl)\n",
    "\n",
    "#following defines the ell bins. Using log bins in example, feel free to change.\n",
    "lmin_cl_Bins=50\n",
    "lmax_cl_Bins=lmax_cl-10\n",
    "Nl_bins=20\n",
    "#l_bins=np.int64(np.logspace(np.log10(lmin_cl_Bins),np.log10(lmax_cl_Bins),Nl_bins))\n",
    "l_bins = np.arange(lmin_cl_Bins, lmax_cl_Bins, binsize)\n",
    "#lb=np.sqrt(l_bins[1:]*l_bins[:-1])\n",
    "lb=0.5*(l_bins[1:]+l_bins[:-1])\n",
    "\n",
    "l=l0\n",
    "\n",
    "do_cov=False # if you want to get covariance. Covariance is slow and this should be false if you are calling skylens inside mcmc.\n",
    "bin_cl=True #bin the theory and covaraince. \n",
    "\n",
    "use_window=True #if you want to include the window effect. Code will return pseudo-cl and pseudo-cl covariance\n",
    "store_win=True # to store window, for some internal reasons. leave it to true.\n",
    "#window_lmax= 3*NSIDE - 1 #smaller value for testing. This should be 2X ell_max in the measurements.\n",
    "window_lmax = 2*NSIDE\n",
    "\n",
    "use_binned_l=False  #FIXME: to speed up computation if using pseudo-cl inside mcmc. Needs to be tested. Leave it false for now.\n",
    "\n",
    "SSV_cov=False # we donot have good model for super sample and tri-spectrum. We can chat about implementing some approximate analytical forms.\n",
    "tidal_SSV_cov=False\n",
    "Tri_cov=False \n",
    "\n",
    "bin_xi=True\n",
    "theta_bins=np.logspace(np.log10(1./60),1,20)"
   ]
  },
  {
   "cell_type": "code",
   "execution_count": 12,
   "id": "e3e84434-7a93-47d6-92e1-0ed8001f479f",
   "metadata": {},
   "outputs": [],
   "source": [
    "def SkyLens_cls(nside, l, cosmo_params, pk_params,\n",
    "                dndz_dict, gal_window_dict, gal_maskfile,\n",
    "                cmb_SN_file, cmb_window_map_arr,\n",
    "                z_cmb = 1090, zmax_cmb = 1090,\n",
    "                bg1 = None, bz1 = None, mag_fact = 0, \n",
    "                zmin_gal = 0.0, zmax_gal = 1.6, nz = 140, \n",
    "                use_window = False,\n",
    "                Win = None):\n",
    "    \"\"\"Returns Skylens object for C_ell calculation based on given maps.\n",
    "    \n",
    "    Inputs:\n",
    "        nside (int) : nside for healpy\n",
    "        l (array) : multipoles to evaluate \n",
    "        dndz_dict (dict) : dictionary containing dndz file location per tomographic bin\n",
    "        gal_window_dict (dict) : dictionary containing galaxy window function file \n",
    "                                location per tomographic bin\n",
    "        gal_maskfile (str) : Galaxy mask file location\n",
    "        cmb_SN_file (str) : CMB noise curve file location \n",
    "        cmb_window_map_arr (str) : CMB window function file location\n",
    "        z_cmb (float) : redshift of CMB \n",
    "        zmax_cmb (float) : maximum redshift where CMB lensing kernel should be integrated up to\n",
    "        bg1 (float) : linear bias term for galaxies\n",
    "        bz1 (dict) : redshift dependent galaxy bias\n",
    "        mag_fact (float) : magnification bias \n",
    "        zmin_gal (float) : min redshift for galaxy sample\n",
    "        zmax_gal (float) : max redshift for galaxy sample\n",
    "        nz (int) : number of redshifts where P(k) will be evaluated\n",
    "        use_window (bool) : whether to evaluate window function\n",
    "        Win (dict) : optional dict; pass saved window calculated before\n",
    "        \n",
    "    Returns:\n",
    "        kappa0 (dict) : Skylens dict containing Cls, pCls, coupling matrices\n",
    "    \"\"\"\n",
    "    \n",
    "    results = {}\n",
    "            \n",
    "    #tomographed redshift bins for the galaxies\n",
    "    zl_bin = utilsCross.DESI_elg_bins(l=l, nside = nside, ntomo_bins = len(gal_window_dict), \n",
    "                                 bg1 = bg1, bz1 = bz1, mag_fact = mag_fact, \n",
    "                                 dndz_arr = dndz_dict, \n",
    "                                 gal_maskfile = gal_maskfile, gal_window_arr = gal_window_dict,\n",
    "                                use_window = use_window)\n",
    "\n",
    "    np.array([cmb_window_map_file])\n",
    "    #redshift bins for cmb\n",
    "    zs_bin = utilsCross.cmb_bins_here(zs = z_cmb, l=l, nside = nside, \n",
    "                                 zmax_cmb = zmax_cmb, SN_file = cmb_SN_file, \n",
    "                                 cmb_window_map_arr = cmb_window_map_arr,\n",
    "                                use_window = use_window) # lensing source bin\n",
    "    \n",
    "    #names of maps\n",
    "    #corr_kk=('kappa','kappa')\n",
    "    corr_gg=('galaxy','galaxy')\n",
    "    corr_gk=('galaxy','kappa')\n",
    "    #corrs=[corr_kk, corr_gg, corr_gk]\n",
    "    corrs = [corr_gg, corr_gk]\n",
    "    \n",
    "    #tmpz1 = np.linspace(max(zmin_gal, 1e-4), zmax_gal, nz)\n",
    "    tmpz1 = np.linspace(0.01, zmax_gal + 0.5, nz)\n",
    "    #tmpz2 = np.logspace(-4, np.log10(zmax_cmb), nz) #\n",
    "    #z_PS = np.sort(np.unique(np.around(np.append(tmpz1, tmpz2), \n",
    "    #                                   decimals = 3))) #redshifts where P(k) will be evaluated\n",
    "    z_PS = tmpz1\n",
    "    print(\"z_PS: \", len(z_PS))\n",
    "    \n",
    "    if Win is not None:\n",
    "        kappa0 = skylens.Skylens(kappa_zbins=zs_bin,do_cov=do_cov,bin_cl=bin_cl,l_bins=l_bins,l=l0, \n",
    "                                 galaxy_zbins=zl_bin,\n",
    "                                       use_window=use_window,Tri_cov=Tri_cov, Win = Win,\n",
    "                                       use_binned_l=use_binned_l,wigner_files=wigner_files,\n",
    "                                       SSV_cov=SSV_cov,tidal_SSV_cov=tidal_SSV_cov,\n",
    "                                       store_win=store_win,window_lmax=window_lmax,\n",
    "                                       corrs=corrs, scheduler_info=client.scheduler_info(), log_z_PS=1,\n",
    "                                       cosmo_params = cosmo_params, z_PS=z_PS, pk_params = pk_params)\n",
    "        \n",
    "    else:\n",
    "        kappa0 = skylens.Skylens(kappa_zbins=zs_bin,do_cov=do_cov,bin_cl=bin_cl,l_bins=l_bins,l=l0, galaxy_zbins=zl_bin,\n",
    "                                       use_window=use_window,Tri_cov=Tri_cov, #Win = Win,\n",
    "                                       use_binned_l=use_binned_l,wigner_files=wigner_files,\n",
    "                                       SSV_cov=SSV_cov,tidal_SSV_cov=tidal_SSV_cov,\n",
    "                                       store_win=store_win,window_lmax=window_lmax,\n",
    "                                       corrs=corrs, scheduler_info=client.scheduler_info(), log_z_PS=1,\n",
    "                                       cosmo_params = cosmo_params, z_PS=z_PS, pk_params = pk_params)\n",
    "    \n",
    "    return kappa0"
   ]
  },
  {
   "cell_type": "markdown",
   "id": "14ccd490-abec-43cb-835a-5f75bba8aafd",
   "metadata": {
    "tags": []
   },
   "source": [
    "### Theory calculation setup"
   ]
  },
  {
   "cell_type": "code",
   "execution_count": 13,
   "id": "d323322a-102e-4f73-b4c2-549f6aac02d5",
   "metadata": {},
   "outputs": [],
   "source": [
    "wtype = 'nnp' #window type \n",
    "cmb_SN_file = '/pscratch/sd/t/tanveerk/cmb/lensing/MV/nlkk.dat'\n",
    "#cmb_SN_file = '/global/cscratch1/sd/tanveerk/cmb/lensing/MV/nlkk.dat'\n",
    "gal_maskfile = '/global/homes/t/tanveerk/lselgsXplanck/finalproducts/mask_bool_dr9.npy'\n",
    "cmb_window_map_file = np.array(['/global/homes/t/tanveerk/lselgsXplanck/finalproducts/mask_rotated_eq_nside_1024.npy'])\n",
    "gal_window_map_file = \"/global/homes/t/tanveerk/lselgsXplanck/finalproducts/Wg_map_nnp.npy\"\n",
    "gal_window_dict = np.array([gal_window_map_file])\n",
    "\n",
    "#dndz file\n",
    "redz_file = pd.read_csv(\"/global/homes/t/tanveerk/lselgsXplanck/finalproducts/fuji_pz_single_tomo.csv\")\n",
    "dndz = {}\n",
    "dndz['zrange'] = np.array(redz_file['Redshift_mid'])\n",
    "dndz['dndz'] = np.array(redz_file['pz'])\n",
    "zrange = dndz['zrange']"
   ]
  },
  {
   "cell_type": "markdown",
   "id": "e31fdf59-14d9-4fb6-97f3-5f065f44897c",
   "metadata": {},
   "source": [
    "Define galaxy linear bias and magnification bias"
   ]
  },
  {
   "cell_type": "code",
   "execution_count": 14,
   "id": "45216edb-9bdf-4c27-9ec8-d7513824f194",
   "metadata": {},
   "outputs": [],
   "source": [
    "cosmo_params2 = deepcopy(cosmo_params)\n",
    "cosmo_params2['Ase9'] = 2.2"
   ]
  },
  {
   "cell_type": "code",
   "execution_count": 15,
   "id": "c4eacc09-a5b7-4c71-bb5d-ac469ae61ad2",
   "metadata": {},
   "outputs": [],
   "source": [
    "def bz(b0, z, cosmo_params):\n",
    "    \"\"\"\n",
    "    Returns galaxy bias as a function of cosmology, and b0\n",
    "    \"\"\"\n",
    "    \n",
    "    tmpcosmo = skylens.cosmology(cosmo_params=cosmo_params)\n",
    "\n",
    "    bz1 = {}\n",
    "    bz1[0] = b0/tmpcosmo.DZ_int(z=z)\n",
    "    \n",
    "    return bz1"
   ]
  },
  {
   "cell_type": "code",
   "execution_count": 16,
   "id": "e8b70ff7-50c6-4b5b-b132-719135d7a90b",
   "metadata": {},
   "outputs": [],
   "source": [
    "#define cosmology object\n",
    "bg1 = None\n",
    "bz1 = bz(1, zrange, cosmo_params2)\n",
    "mag_fact = 2.621 # set magnification bias ##FIXME: need to change it based on Rongpu's method"
   ]
  },
  {
   "cell_type": "code",
   "execution_count": 17,
   "id": "13fd8179-4882-4eda-bab1-4d52f3f0b375",
   "metadata": {
    "tags": []
   },
   "outputs": [
    {
     "name": "stdout",
     "output_type": "stream",
     "text": [
      "0.0 3.000000000000001 None 0.0029767682558078574\n",
      "cmb yes\n",
      "processing cmb lensing window\n",
      "z_PS:  140\n"
     ]
    },
    {
     "name": "stderr",
     "output_type": "stream",
     "text": [
      "/global/homes/t/tanveerk/lselgsXplanck/src/utilsCross.py:55: RuntimeWarning: invalid value encountered in sqrt\n",
      "  window_map_noise = np.sqrt(window_map)\n"
     ]
    },
    {
     "name": "stdout",
     "output_type": "stream",
     "text": [
      "Tracer utils has tracers:  ['galaxy', 'kappa']\n"
     ]
    },
    {
     "name": "stderr",
     "output_type": "stream",
     "text": [
      "/global/homes/t/tanveerk/SkyLens/skylens/tracer_utils.py:73: VisibleDeprecationWarning: Creating an ndarray from ragged nested sequences (which is a list-or-tuple of lists-or-tuples-or ndarrays with different lengths or shapes) is deprecated. If you meant to do this, you must specify 'dtype=object' when creating the ndarray.\n",
      "  z_max_all=np.array([self.z_bins[tracer]['zmax'] for tracer in self.tracers])\n",
      "/global/homes/t/tanveerk/SkyLens/skylens/angular_power_spectra.py:27: RuntimeWarning: divide by zero encountered in true_divide\n",
      "  self.cl_f=(l+0.5)**2/(l*(l+1.)) # cl correction from Kilbinger+ 2017\n"
     ]
    },
    {
     "name": "stdout",
     "output_type": "stream",
     "text": [
      "power spectra camb_pk\n",
      "True\n",
      "Win gen: step size 265 767 513.0 2\n",
      "wigner_files: {0: '/pscratch/sd/t/tanveerk/wig3j_l3072_w6144_0_reorder.zarr/'}\n",
      "wigner done dict_keys([])\n",
      "set window_cl: cl0,cl_b done 3.457069396972656e-05\n",
      "Win_cli ('galaxy', 'galaxy', 0, 0) ('galaxy', 'galaxy') (0, 0)\n",
      "Win_cli ('galaxy', 'kappa', 0, 0) ('galaxy', 'kappa') (0, 0)\n",
      "set window_cl: cl done 4.1428539752960205 302.079 0.0\n",
      "cl+cov bags done 2 0 4.21996545791626\n",
      "set_window_cl done 5.477092266082764\n",
      "setting windows, coupling matrices  <Client: 'tcp://127.0.0.1:46345' processes=2 threads=2, memory=120.00 GB>\n",
      "doing lm 0\n",
      "done lm cl+cov graph 0 0.00047469139099121094 704.733 tcp://127.0.0.1:34249\n",
      "done lm 0 0.17464447021484375\n",
      "doing lm 265\n",
      "done lm cl+cov graph 265 0.0005927085876464844 704.733 tcp://127.0.0.1:39721\n",
      "done lm 265 0.1743910312652588\n",
      "doing lm 530\n",
      "done lm cl+cov graph 530 0.0007717609405517578 704.733 tcp://127.0.0.1:34249\n",
      "done lm 530 5.812072038650513\n",
      "Done all lm 5.812733888626099\n",
      "done combine lm 6.4825239181518555\n",
      "Window done. Size: 14.132\n"
     ]
    }
   ],
   "source": [
    "kappa0 = SkyLens_cls(nside = NSIDE, l = l, cosmo_params=cosmo_params2, pk_params=pk_params,\n",
    "                dndz_dict = dndz, gal_window_dict = gal_window_dict, gal_maskfile = gal_maskfile,\n",
    "                cmb_SN_file = cmb_SN_file, cmb_window_map_arr = cmb_window_map_file,\n",
    "                z_cmb = 1090, zmax_cmb = 1090,\n",
    "                bg1 = None, bz1 = bz1, mag_fact = mag_fact, \n",
    "                zmin_gal = 0.0, zmax_gal = 3, nz = 140, \n",
    "                use_window = use_window,\n",
    "                Win = None)"
   ]
  },
  {
   "cell_type": "markdown",
   "id": "1b1ace74-5e33-40c7-a257-1593f68a0507",
   "metadata": {},
   "source": [
    "Save Window for future use."
   ]
  },
  {
   "cell_type": "code",
   "execution_count": 18,
   "id": "25390448-522a-40bc-8aa2-67a91f886224",
   "metadata": {},
   "outputs": [],
   "source": [
    "Win = kappa0.Win\n",
    "with open('/pscratch/sd/t/tanveerk/final_data_products/Window_NSIDE256_20230102.pickle', 'wb') as handle:\n",
    "    pickle.dump(Win, handle, protocol=pickle.HIGHEST_PROTOCOL)"
   ]
  },
  {
   "cell_type": "markdown",
   "id": "ec44c051-23fc-484a-b29c-ed157c18de6a",
   "metadata": {
    "tags": []
   },
   "source": [
    "### Calculate model using `tomo_short`"
   ]
  },
  {
   "cell_type": "code",
   "execution_count": 18,
   "id": "13acfeff-2515-49a3-9f9f-388d35c82207",
   "metadata": {},
   "outputs": [],
   "source": [
    "def assign_zparams(zbins={},par_name='',par_value=None):\n",
    "    \"\"\"Updates bias based on proposal\"\"\"\n",
    "    \n",
    "    pp=par_name.split('_')\n",
    "    p_n=pp[0]\n",
    "    bin_indx=np.int(pp[1])\n",
    "    zbins[bin_indx][p_n]=par_value[0]\n",
    "    return zbins\n",
    "\n",
    "\n",
    "def get_params(proposal_params, cosmo_params, kappa0, z_bins,\n",
    "              cosmo_params_to_infer = None): #FIXME: need to get params_order user-defined\n",
    "    \"\"\"Returns parameters to pass to tomo_short\"\"\"\n",
    "    \n",
    "    tmp_cosmo_params = deepcopy(cosmo_params)\n",
    "    Ang_PS = kappa0.Ang_PS\n",
    "    zbins = deepcopy(z_bins)\n",
    "    \n",
    "    # set number of bias parameters\n",
    "    if cosmo_params_to_infer is None:\n",
    "        params_order=['bz1_{i}'.format(i=i) for i in np.arange(kappa0.tracer_utils.z_bins['galaxy']['n_bins'])]\n",
    "    else:\n",
    "        params_order=['bz1_{i}'.format(i=i) for i in np.arange(kappa0.tracer_utils.z_bins['galaxy']['n_bins'])]\n",
    "        params_order = params_order + cosmo_params_to_infer # concatenate parameters\n",
    "    \n",
    "    i=0\n",
    "    for p in params_order:\n",
    "        if cosmo_params.get(p) is not None:\n",
    "            tmp_cosmo_params[p] = proposal_params[i]\n",
    "        else:\n",
    "            proposed_bias = bz(b0 = proposal_params[i], \n",
    "                               z = zbins['galaxy']['zp'][0], #FIXME: [0] because only one bin. For multi bin need to fix\n",
    "                               cosmo_params = tmp_cosmo_params) # because of this order, cosmo params must come before b0\n",
    "            \n",
    "            zbins['galaxy']=assign_zparams(zbins=zbins['galaxy'], par_name=p, par_value = proposed_bias)\n",
    "        i+=1\n",
    "    return tmp_cosmo_params, zbins, Ang_PS\n",
    "    \n",
    "\n",
    "def get_model(proposal_params, cosmo_params, corrs, kappa0, z_bins, Win,\n",
    "             WT, WT_binned, cl_bin_utils, xi_bin_utils = None,\n",
    "             cosmo_params_to_infer = None):\n",
    "    \"\"\"\n",
    "    Returns pseudo C_ell given input parameters\n",
    "    \n",
    "    Args\n",
    "    ----\n",
    "        proposal_params: proposal parameters - cosmological parameters must come before bias parameters \n",
    "        cosmo_params: all parameters\n",
    "        corrs: tracers to evaluate\n",
    "        kappa0: Skylens object\n",
    "        z_bins: Skylens galaxy object to be updated for new bias proposals\n",
    "        Win: Skylens Window object\n",
    "        WT:\n",
    "        WT_binned:\n",
    "        cl_bin_utils:\n",
    "        cosmo_params_to_infer: Besides galaxy bias, what other parameters to infer, e..g, A_s\n",
    "    \n",
    "    Returns\n",
    "    ------\n",
    "        model: pseudo-C_ells consisting of the corrs\n",
    "    \"\"\"\n",
    "    \n",
    "    cosmo_params_updated, z_bins_updated, Ang_PS = get_params(proposal_params, cosmo_params, kappa0, z_bins,\n",
    "                                             cosmo_params_to_infer=cosmo_params_to_infer)\n",
    "    \n",
    "    model = kappa0.tomo_short(cosmo_params = cosmo_params_updated,\n",
    "                              corrs = corrs,\n",
    "                             z_bins = z_bins_updated,\n",
    "                             Ang_PS = Ang_PS,\n",
    "                             Win = Win,\n",
    "                             WT = WT,\n",
    "                             WT_binned = WT_binned,\n",
    "                             cl_bin_utils = cl_bin_utils,\n",
    "                             xi_bin_utils = xi_bin_utils)#,pk_lock=pk_lock)\n",
    "    \n",
    "    return model"
   ]
  },
  {
   "cell_type": "markdown",
   "id": "64959d74-3a80-4563-8b86-c887748baa20",
   "metadata": {},
   "source": [
    "Relevant Skylens parameters"
   ]
  },
  {
   "cell_type": "code",
   "execution_count": 19,
   "id": "ec5ed7df-9fd9-471b-bbc2-e738e1241eda",
   "metadata": {},
   "outputs": [],
   "source": [
    "zs_bin1 = deepcopy(client.gather(kappa0.tracer_utils.z_bins))\n",
    "\n",
    "del_k=['window','window_cl']\n",
    "for k in del_k:\n",
    "    if zs_bin1['galaxy'].get(k) is not None:\n",
    "        del zs_bin1['galaxy'][k]\n",
    "    for i in np.arange(zs_bin1['galaxy']['n_bins']):\n",
    "        if zs_bin1['galaxy'][i].get(k) is not None:\n",
    "            del zs_bin1['galaxy'][i][k]"
   ]
  },
  {
   "cell_type": "code",
   "execution_count": 20,
   "id": "3aea40af-5d1c-4744-9424-a33c88ba3179",
   "metadata": {},
   "outputs": [],
   "source": [
    "Win=kappa0.Win\n",
    "WT = None\n",
    "WT_binned = None\n",
    "cl_bin_utils = client.gather(kappa0.cl_bin_utils)"
   ]
  },
  {
   "cell_type": "code",
   "execution_count": 21,
   "id": "54a7dee1-bd37-4e88-aed3-9d179c44522f",
   "metadata": {},
   "outputs": [],
   "source": [
    "corr_gg=('galaxy','galaxy')\n",
    "corr_gk=('galaxy','kappa')\n",
    "#corrs=[corr_kk, corr_gg, corr_gk]\n",
    "corrs = [corr_gg, corr_gk]"
   ]
  },
  {
   "cell_type": "markdown",
   "id": "fd9e0745-3884-41bd-8a62-5d6afe9232a9",
   "metadata": {},
   "source": [
    "## Setup data"
   ]
  },
  {
   "cell_type": "markdown",
   "id": "82efb58c-4de5-429b-b11f-647a3bf1f984",
   "metadata": {},
   "source": [
    "### Load data"
   ]
  },
  {
   "cell_type": "code",
   "execution_count": 22,
   "id": "422144c8-dbc4-40d8-8de2-f692e7e7426a",
   "metadata": {},
   "outputs": [],
   "source": [
    "#declare window type and variable names\n",
    "wintype = 'nnp'\n",
    "exp_names = np.array(['A', 'B', 'C'])#, 'D', 'E', 'F'])\n",
    "spectra = ['cgg', 'ckg']#, 'ckk']"
   ]
  },
  {
   "cell_type": "code",
   "execution_count": 23,
   "id": "828b6abf-0d87-46d2-b9f6-eb4ec0c8b21b",
   "metadata": {},
   "outputs": [],
   "source": [
    "#initalize dictionaries and arrays to save values\n",
    "n_window = {}\n",
    "pcls = {}\n",
    "\n",
    "for exp in exp_names:\n",
    "    n_window[exp] = np.zeros(1000)\n",
    "    pcls[exp] = {}\n",
    "    for spectrum in spectra:\n",
    "        pcls[exp][spectrum] = np.zeros((1000, 1024))"
   ]
  },
  {
   "cell_type": "code",
   "execution_count": 24,
   "id": "9abc8b56-c79d-4e01-87aa-8baea258db00",
   "metadata": {},
   "outputs": [],
   "source": [
    "count = 0\n",
    "for h in range(10):\n",
    "    stats = pickle.load(open( \"/pscratch/sd/t/tanveerk/img-sys/stats/\" + wintype + \"/test_\" + \n",
    "                              str(h) + \"try_.npy\", \"rb\" ))\n",
    "    \n",
    "    for i in range(len(stats['pcls'])):\n",
    "        for j in range(5):\n",
    "            idx = h * 100 + i * 5 + j                \n",
    "            for k in exp_names:\n",
    "                n_window[k][idx] = stats['window_noise'][i][j][k]\n",
    "                for spectrum in spectra:\n",
    "                    pcls[k][spectrum][idx] = stats['pcls'][i][j][spectrum][k]#[:1024]\n",
    "            count += 1"
   ]
  },
  {
   "cell_type": "markdown",
   "id": "89cc8854-8312-41ad-8aeb-08f099a7f06f",
   "metadata": {},
   "source": [
    "### Bin data same way as theory"
   ]
  },
  {
   "cell_type": "code",
   "execution_count": 25,
   "id": "954a73d2-1664-49e3-9780-d7711737de1f",
   "metadata": {},
   "outputs": [],
   "source": [
    "#calculate binned cls\n",
    "cl_bu = cl_bin_utils #this contains all the relevant binning info\n",
    "pclgg = skylens.bin_1d((pcls['A']['cgg'].mean(axis = 0) - n_window['A'].mean())[:3 * NSIDE - 1], bin_utils=cl_bu)\n",
    "#pclkk = bin_1d(pcls['A']['ckk'].mean(axis = 0), bin_utils=cl_bu)\n",
    "pclkg = skylens.bin_1d(pcls['A']['ckg'].mean(axis = 0)[:3 * NSIDE - 1], bin_utils=cl_bu)\n",
    "data = np.concatenate((pclgg, pclkg))#, pclgg))\n",
    "\n",
    "#bin for making covariance\n",
    "pclgg_binned_arr = skylens.bin_1d((pcls['A']['cgg'] - n_window['A'].mean())[:,:3 * NSIDE - 1], bin_utils=cl_bu)\n",
    "#pclkk_binned_arr = bin_1d(pcls['A']['ckk'], bin_utils=cl_bu)\n",
    "pclkg_binned_arr = skylens.bin_1d(pcls['A']['ckg'][:,:3 * NSIDE - 1], bin_utils=cl_bu)\n",
    "\n",
    "#covariance matrix\n",
    "#cov = np.cov((pcls['A'] - fsky*nwindows['A'].mean()).T)\n",
    "cov = np.cov(np.concatenate((pclgg_binned_arr, pclkg_binned_arr), axis = 1).T)\n",
    "#_, cov = bin_mat(np.arange(1024), cov, np.arange(25, 1014, 100)) #bin covariance\n",
    "cov_inv = np.linalg.inv(cov)"
   ]
  },
  {
   "cell_type": "code",
   "execution_count": 27,
   "id": "21aa76f1-49dd-440b-95d2-4b8e6b4e86c3",
   "metadata": {},
   "outputs": [
    {
     "data": {
      "text/plain": [
       "Text(0.5, 1.0, 'Binned correlation matrix [$C_{gg}, C_{\\\\kappa g}$]')"
      ]
     },
     "execution_count": 27,
     "metadata": {},
     "output_type": "execute_result"
    },
    {
     "data": {
      "image/png": "[encoded data removed]",
      "text/plain": [
       "<Figure size 640x480 with 1 Axes>"
      ]
     },
     "metadata": {},
     "output_type": "display_data"
    }
   ],
   "source": [
    "plt.imshow(np.corrcoef(np.concatenate((pclgg_binned_arr, pclkg_binned_arr), axis = 1).T))\n",
    "plt.title(r\"Binned correlation matrix [$C_{gg}, C_{\\kappa g}$]\")"
   ]
  },
  {
   "cell_type": "markdown",
   "id": "6e5211af-5c35-452f-99b0-9ec01ca8db05",
   "metadata": {},
   "source": [
    "## Inference step\n",
    "\n",
    " - In this step we define the Gaussian likelihood and solve for the different simulations. \n",
    " - The idea is to run the inference step $1000$ times for each simulation and see how the MLE clusters. "
   ]
  },
  {
   "cell_type": "markdown",
   "id": "e2a1dc30-a327-43ea-8309-49e5e68df465",
   "metadata": {},
   "source": [
    "### Define $\\chi^2$"
   ]
  },
  {
   "cell_type": "code",
   "execution_count": 28,
   "id": "2d79f003-588f-426a-aef7-71b80fb24cfa",
   "metadata": {},
   "outputs": [],
   "source": [
    "def chisq(proposal_params, data, cov_inv, cosmo_params, corrs, kappa0, z_bins, Win,\n",
    "         WT, WT_binned, cl_bin_utils, xi_bin_utils = None, \n",
    "         cosmo_params_to_infer = None):\n",
    "    \"\"\"\n",
    "    Returns the Chi^2 based on a Gaussian likelihood.\n",
    "    \"\"\"\n",
    "    \n",
    "    model = get_model(proposal_params = proposal_params,\n",
    "                      cosmo_params = cosmo_params,\n",
    "                      corrs = corrs, kappa0 = kappa0, \n",
    "                      z_bins = z_bins, Win = Win,\n",
    "                      WT = WT, WT_binned = WT_binned,\n",
    "                      cl_bin_utils = cl_bin_utils,\n",
    "                      xi_bin_utils = xi_bin_utils,\n",
    "                     cosmo_params_to_infer=cosmo_params_to_infer)\n",
    "    \n",
    "    loss = data - model\n",
    "    chisq = -0.5 * loss@cov_inv@loss\n",
    "    \n",
    "    return -1*chisq#, model"
   ]
  },
  {
   "cell_type": "markdown",
   "id": "16adceaa-ea40-4b15-b06a-8490050372d3",
   "metadata": {
    "jp-MarkdownHeadingCollapsed": true,
    "tags": []
   },
   "source": [
    "### Check how `tomo_short` works\n",
    "\n",
    "Here we see that updating `Ase9` does not change `tomo_short`. So what is happening?"
   ]
  },
  {
   "cell_type": "code",
   "execution_count": 33,
   "id": "b64c1c30-e4de-4f12-8770-62384d937ce3",
   "metadata": {},
   "outputs": [],
   "source": [
    "cosmo_params3 = deepcopy(cosmo_params2)\n",
    "cosmo_params3['Ase9'] = 2.1"
   ]
  },
  {
   "cell_type": "code",
   "execution_count": 34,
   "id": "b6980f29-59de-437d-ad8a-20839ff37f70",
   "metadata": {},
   "outputs": [
    {
     "data": {
      "text/plain": [
       "2.1"
      ]
     },
     "execution_count": 34,
     "metadata": {},
     "output_type": "execute_result"
    }
   ],
   "source": [
    "cosmo_params3['Ase9']"
   ]
  },
  {
   "cell_type": "code",
   "execution_count": 35,
   "id": "d33eacdd-206a-4710-bcb1-189088819bd9",
   "metadata": {},
   "outputs": [
    {
     "data": {
      "text/plain": [
       "2.2"
      ]
     },
     "execution_count": 35,
     "metadata": {},
     "output_type": "execute_result"
    }
   ],
   "source": [
    "cosmo_params2['Ase9']"
   ]
  },
  {
   "cell_type": "code",
   "execution_count": 38,
   "id": "a328e541-c398-4728-8374-7d4f6923ff26",
   "metadata": {},
   "outputs": [],
   "source": [
    "tmpAng_PS = kappa0.Ang_PS"
   ]
  },
  {
   "cell_type": "code",
   "execution_count": 39,
   "id": "022ae17c-aff2-4364-b532-da35f0ca1940",
   "metadata": {},
   "outputs": [
    {
     "name": "stderr",
     "output_type": "stream",
     "text": [
      "/global/homes/t/tanveerk/SkyLens/skylens/tracer_utils.py:368: RuntimeWarning: invalid value encountered in true_divide\n",
      "  kernel['gkernel_int']/=np.sum(pz_zl*dzl)\n"
     ]
    }
   ],
   "source": [
    "tmp22 = kappa0.tomo_short(cosmo_params = cosmo_params3,\n",
    "                              corrs = corrs,\n",
    "                             z_bins = zs_bin1,\n",
    "                             Ang_PS = tmpAng_PS,\n",
    "                             Win = Win,\n",
    "                             WT = WT,\n",
    "                             WT_binned = WT_binned,\n",
    "                             cl_bin_utils = cl_bin_utils,\n",
    "                             xi_bin_utils = None)"
   ]
  },
  {
   "cell_type": "code",
   "execution_count": 40,
   "id": "2b4d9f1d-093a-4ca6-9d6a-f63e4e76745e",
   "metadata": {},
   "outputs": [],
   "source": [
    "tmp104 = kappa0.tomo_short(cosmo_params = cosmo_params2,\n",
    "                              corrs = corrs,\n",
    "                             z_bins = zs_bin1,\n",
    "                             Ang_PS = tmpAng_PS,\n",
    "                             Win = Win,\n",
    "                             WT = WT,\n",
    "                             WT_binned = WT_binned,\n",
    "                             cl_bin_utils = cl_bin_utils,\n",
    "                             xi_bin_utils = None)"
   ]
  },
  {
   "cell_type": "code",
   "execution_count": 41,
   "id": "b394fe47-c710-4dc3-be7a-2fd67e3639bd",
   "metadata": {},
   "outputs": [
    {
     "data": {
      "text/plain": [
       "array([1., 1., 1., 1., 1., 1., 1., 1., 1., 1., 1., 1., 1., 1., 1., 1., 1.,\n",
       "       1., 1., 1., 1., 1., 1., 1., 1., 1., 1., 1., 1., 1., 1., 1., 1., 1.,\n",
       "       1., 1., 1., 1., 1., 1., 1., 1., 1., 1., 1., 1., 1., 1., 1., 1., 1.,\n",
       "       1., 1., 1., 1., 1., 1., 1., 1., 1., 1., 1., 1., 1., 1., 1., 1., 1.,\n",
       "       1., 1., 1., 1., 1., 1., 1., 1., 1., 1., 1., 1., 1., 1., 1., 1., 1.,\n",
       "       1., 1., 1., 1., 1., 1., 1., 1., 1., 1., 1., 1., 1., 1., 1., 1., 1.,\n",
       "       1., 1., 1., 1., 1., 1., 1., 1., 1., 1., 1., 1., 1., 1., 1., 1., 1.,\n",
       "       1., 1., 1., 1., 1., 1., 1., 1., 1., 1., 1., 1., 1., 1., 1., 1., 1.,\n",
       "       1., 1., 1., 1.])"
      ]
     },
     "execution_count": 41,
     "metadata": {},
     "output_type": "execute_result"
    }
   ],
   "source": [
    "tmp22/tmp104"
   ]
  },
  {
   "cell_type": "markdown",
   "id": "861c906f-c330-4f17-9154-401ffb37cd03",
   "metadata": {
    "jp-MarkdownHeadingCollapsed": true,
    "tags": []
   },
   "source": [
    "### Run sample inference with $b_0$ and $A_s$ parameters"
   ]
  },
  {
   "cell_type": "markdown",
   "id": "fdb228e3-7059-4de9-add2-f6f1ea924374",
   "metadata": {},
   "source": [
    "Run inference on $b_0$"
   ]
  },
  {
   "cell_type": "code",
   "execution_count": 30,
   "id": "d31fd21f-0ca6-42f4-b177-88e3ad006777",
   "metadata": {},
   "outputs": [],
   "source": [
    "x0 = np.array([1.05])"
   ]
  },
  {
   "cell_type": "code",
   "execution_count": 35,
   "id": "062051c5-b9e0-48f2-b2c1-488f89408033",
   "metadata": {},
   "outputs": [
    {
     "name": "stderr",
     "output_type": "stream",
     "text": [
      "/global/homes/t/tanveerk/.conda/envs/myenv_perlmutter/lib/python3.7/site-packages/ipykernel_launcher.py:6: DeprecationWarning: `np.int` is a deprecated alias for the builtin `int`. To silence this warning, use `int` by itself. Doing this will not modify any behavior and is safe. When replacing `np.int`, you may wish to use e.g. `np.int64` or `np.int32` to specify the precision. If you wish to review your current use, check the release note link for additional information.\n",
      "Deprecated in NumPy 1.20; for more details and guidance: https://numpy.org/devdocs/release/1.20.0-notes.html#deprecations\n",
      "  \n"
     ]
    },
    {
     "name": "stdout",
     "output_type": "stream",
     "text": [
      "36.2 ms ± 278 µs per loop (mean ± std. dev. of 7 runs, 10 loops each)\n"
     ]
    }
   ],
   "source": [
    "%%timeit \n",
    "chisq(x0, data, cov_inv, cosmo_params2, corrs, kappa0, zs_bin1, Win, WT, WT_binned, cl_bin_utils, None, None)"
   ]
  },
  {
   "cell_type": "code",
   "execution_count": 32,
   "id": "7c497653-0960-4f22-9d78-05daa030293d",
   "metadata": {},
   "outputs": [
    {
     "name": "stderr",
     "output_type": "stream",
     "text": [
      "/global/homes/t/tanveerk/.conda/envs/myenv_perlmutter/lib/python3.7/site-packages/ipykernel_launcher.py:6: DeprecationWarning: `np.int` is a deprecated alias for the builtin `int`. To silence this warning, use `int` by itself. Doing this will not modify any behavior and is safe. When replacing `np.int`, you may wish to use e.g. `np.int64` or `np.int32` to specify the precision. If you wish to review your current use, check the release note link for additional information.\n",
      "Deprecated in NumPy 1.20; for more details and guidance: https://numpy.org/devdocs/release/1.20.0-notes.html#deprecations\n",
      "  \n"
     ]
    },
    {
     "name": "stdout",
     "output_type": "stream",
     "text": [
      "863 ms ± 976 µs per loop (mean ± std. dev. of 7 runs, 1 loop each)\n"
     ]
    }
   ],
   "source": [
    "%%timeit\n",
    "\n",
    "minimize(fun = chisq, x0 = x0, \n",
    "         args=(data, cov_inv, cosmo_params2, corrs, kappa0, zs_bin1, Win,\n",
    "              WT, WT_binned, cl_bin_utils, None, None),\n",
    "        bounds=((0.9, 1.1),))"
   ]
  },
  {
   "cell_type": "markdown",
   "id": "379231ff-2b84-4436-9cd9-c47fdb6176b6",
   "metadata": {},
   "source": [
    "Run inference on $b_0$ and $A_s$"
   ]
  },
  {
   "cell_type": "code",
   "execution_count": 87,
   "id": "fb29fe16-2bbe-4538-9974-4675e8a179eb",
   "metadata": {},
   "outputs": [],
   "source": [
    "x0 = np.array([1., 2.19])"
   ]
  },
  {
   "cell_type": "code",
   "execution_count": 88,
   "id": "7a3aa7d0-8c29-42fc-a47f-d35501782929",
   "metadata": {},
   "outputs": [
    {
     "name": "stderr",
     "output_type": "stream",
     "text": [
      "/global/homes/t/tanveerk/.conda/envs/myenv_perlmutter/lib/python3.7/site-packages/ipykernel_launcher.py:6: DeprecationWarning: `np.int` is a deprecated alias for the builtin `int`. To silence this warning, use `int` by itself. Doing this will not modify any behavior and is safe. When replacing `np.int`, you may wish to use e.g. `np.int64` or `np.int32` to specify the precision. If you wish to review your current use, check the release note link for additional information.\n",
      "Deprecated in NumPy 1.20; for more details and guidance: https://numpy.org/devdocs/release/1.20.0-notes.html#deprecations\n",
      "  \n",
      "/global/homes/t/tanveerk/SkyLens/skylens/tracer_utils.py:368: RuntimeWarning: invalid value encountered in true_divide\n",
      "  kernel['gkernel_int']/=np.sum(pz_zl*dzl)\n"
     ]
    },
    {
     "name": "stdout",
     "output_type": "stream",
     "text": [
      "CPU times: user 17min 29s, sys: 8min 15s, total: 25min 45s\n",
      "Wall time: 2min 4s\n"
     ]
    },
    {
     "data": {
      "text/plain": [
       "      fun: 4.277064950937694\n",
       " hess_inv: <2x2 LbfgsInvHessProduct with dtype=float64>\n",
       "      jac: array([ 0.25357663, 11.12220518])\n",
       "  message: b'CONVERGENCE: REL_REDUCTION_OF_F_<=_FACTR*EPSMCH'\n",
       "     nfev: 177\n",
       "      nit: 12\n",
       "     njev: 59\n",
       "   status: 0\n",
       "  success: True\n",
       "        x: array([1.00981575, 2.19361737])"
      ]
     },
     "execution_count": 88,
     "metadata": {},
     "output_type": "execute_result"
    }
   ],
   "source": [
    "%time minimize(fun = chisq, x0 = x0, args=(data, cov_inv, cosmo_params2, corrs, kappa0, zs_bin1, Win,WT, WT_binned, cl_bin_utils, None, ['Ase9']),bounds = ((0.95, 1.05), (2.17, 2.21)))"
   ]
  },
  {
   "cell_type": "code",
   "execution_count": 89,
   "id": "5cda81c8-3e08-4347-8982-5c9876bbfbda",
   "metadata": {},
   "outputs": [
    {
     "name": "stderr",
     "output_type": "stream",
     "text": [
      "/global/homes/t/tanveerk/.conda/envs/myenv_perlmutter/lib/python3.7/site-packages/ipykernel_launcher.py:6: DeprecationWarning: `np.int` is a deprecated alias for the builtin `int`. To silence this warning, use `int` by itself. Doing this will not modify any behavior and is safe. When replacing `np.int`, you may wish to use e.g. `np.int64` or `np.int32` to specify the precision. If you wish to review your current use, check the release note link for additional information.\n",
      "Deprecated in NumPy 1.20; for more details and guidance: https://numpy.org/devdocs/release/1.20.0-notes.html#deprecations\n",
      "  \n",
      "/global/homes/t/tanveerk/.conda/envs/myenv_perlmutter/lib/python3.7/site-packages/ipykernel_launcher.py:6: DeprecationWarning: `np.int` is a deprecated alias for the builtin `int`. To silence this warning, use `int` by itself. Doing this will not modify any behavior and is safe. When replacing `np.int`, you may wish to use e.g. `np.int64` or `np.int32` to specify the precision. If you wish to review your current use, check the release note link for additional information.\n",
      "Deprecated in NumPy 1.20; for more details and guidance: https://numpy.org/devdocs/release/1.20.0-notes.html#deprecations\n",
      "  \n",
      "/global/homes/t/tanveerk/SkyLens/skylens/tracer_utils.py:368: RuntimeWarning: invalid value encountered in true_divide\n",
      "  kernel['gkernel_int']/=np.sum(pz_zl*dzl)\n",
      "/global/homes/t/tanveerk/.conda/envs/myenv_perlmutter/lib/python3.7/site-packages/ipykernel_launcher.py:6: DeprecationWarning: `np.int` is a deprecated alias for the builtin `int`. To silence this warning, use `int` by itself. Doing this will not modify any behavior and is safe. When replacing `np.int`, you may wish to use e.g. `np.int64` or `np.int32` to specify the precision. If you wish to review your current use, check the release note link for additional information.\n",
      "Deprecated in NumPy 1.20; for more details and guidance: https://numpy.org/devdocs/release/1.20.0-notes.html#deprecations\n",
      "  \n",
      "/global/homes/t/tanveerk/SkyLens/skylens/tracer_utils.py:368: RuntimeWarning: invalid value encountered in true_divide\n",
      "  kernel['gkernel_int']/=np.sum(pz_zl*dzl)\n",
      "/global/homes/t/tanveerk/.conda/envs/myenv_perlmutter/lib/python3.7/site-packages/ipykernel_launcher.py:6: DeprecationWarning: `np.int` is a deprecated alias for the builtin `int`. To silence this warning, use `int` by itself. Doing this will not modify any behavior and is safe. When replacing `np.int`, you may wish to use e.g. `np.int64` or `np.int32` to specify the precision. If you wish to review your current use, check the release note link for additional information.\n",
      "Deprecated in NumPy 1.20; for more details and guidance: https://numpy.org/devdocs/release/1.20.0-notes.html#deprecations\n",
      "  \n",
      "/global/homes/t/tanveerk/SkyLens/skylens/tracer_utils.py:368: RuntimeWarning: invalid value encountered in true_divide\n",
      "  kernel['gkernel_int']/=np.sum(pz_zl*dzl)\n",
      "/global/homes/t/tanveerk/.conda/envs/myenv_perlmutter/lib/python3.7/site-packages/ipykernel_launcher.py:6: DeprecationWarning: `np.int` is a deprecated alias for the builtin `int`. To silence this warning, use `int` by itself. Doing this will not modify any behavior and is safe. When replacing `np.int`, you may wish to use e.g. `np.int64` or `np.int32` to specify the precision. If you wish to review your current use, check the release note link for additional information.\n",
      "Deprecated in NumPy 1.20; for more details and guidance: https://numpy.org/devdocs/release/1.20.0-notes.html#deprecations\n",
      "  \n",
      "/global/homes/t/tanveerk/SkyLens/skylens/tracer_utils.py:368: RuntimeWarning: invalid value encountered in true_divide\n",
      "  kernel['gkernel_int']/=np.sum(pz_zl*dzl)\n",
      "/global/homes/t/tanveerk/.conda/envs/myenv_perlmutter/lib/python3.7/site-packages/ipykernel_launcher.py:6: DeprecationWarning: `np.int` is a deprecated alias for the builtin `int`. To silence this warning, use `int` by itself. Doing this will not modify any behavior and is safe. When replacing `np.int`, you may wish to use e.g. `np.int64` or `np.int32` to specify the precision. If you wish to review your current use, check the release note link for additional information.\n",
      "Deprecated in NumPy 1.20; for more details and guidance: https://numpy.org/devdocs/release/1.20.0-notes.html#deprecations\n",
      "  \n",
      "/global/homes/t/tanveerk/SkyLens/skylens/tracer_utils.py:368: RuntimeWarning: invalid value encountered in true_divide\n",
      "  kernel['gkernel_int']/=np.sum(pz_zl*dzl)\n"
     ]
    },
    {
     "name": "stdout",
     "output_type": "stream",
     "text": [
      "CPU times: user 50min 24s, sys: 23min 51s, total: 1h 14min 16s\n",
      "Wall time: 5min 56s\n"
     ]
    },
    {
     "data": {
      "text/plain": [
       "      fun: 4.298359791127828\n",
       " hess_inv: array([[ 4.49058460e-06, -2.11264414e-07],\n",
       "       [-2.11264414e-07,  2.90402410e-07]])\n",
       "      jac: array([0.43318009, 4.47056466])\n",
       "  message: 'Desired error not necessarily achieved due to precision loss.'\n",
       "     nfev: 509\n",
       "      nit: 10\n",
       "     njev: 165\n",
       "   status: 2\n",
       "  success: False\n",
       "        x: array([1.01038604, 2.19135253])"
      ]
     },
     "execution_count": 89,
     "metadata": {},
     "output_type": "execute_result"
    }
   ],
   "source": [
    "%time minimize(fun = chisq, x0 = x0, args=(data, cov_inv, cosmo_params2, corrs, kappa0, zs_bin1, Win,WT, WT_binned, cl_bin_utils, None, ['Ase9']))"
   ]
  },
  {
   "cell_type": "markdown",
   "id": "b03bb099-ead4-47b4-936c-7cdce73e20cf",
   "metadata": {},
   "source": [
    "## Run inference on all simulations"
   ]
  },
  {
   "cell_type": "markdown",
   "id": "71c503e5-cb73-4c6f-b637-c874488d8d0b",
   "metadata": {
    "jp-MarkdownHeadingCollapsed": true,
    "tags": []
   },
   "source": [
    "### Inference over $b_0$"
   ]
  },
  {
   "cell_type": "code",
   "execution_count": 79,
   "id": "11fc817c-3f12-49da-ba7d-183d4d0fe904",
   "metadata": {},
   "outputs": [],
   "source": [
    "x0 = np.array([1.05])"
   ]
  },
  {
   "cell_type": "code",
   "execution_count": 80,
   "id": "adafa6fa-e75a-4c71-bfec-aee11e72c580",
   "metadata": {},
   "outputs": [
    {
     "name": "stderr",
     "output_type": "stream",
     "text": [
      "/global/homes/t/tanveerk/.conda/envs/myenv_perlmutter/lib/python3.7/site-packages/ipykernel_launcher.py:6: DeprecationWarning: `np.int` is a deprecated alias for the builtin `int`. To silence this warning, use `int` by itself. Doing this will not modify any behavior and is safe. When replacing `np.int`, you may wish to use e.g. `np.int64` or `np.int32` to specify the precision. If you wish to review your current use, check the release note link for additional information.\n",
      "Deprecated in NumPy 1.20; for more details and guidance: https://numpy.org/devdocs/release/1.20.0-notes.html#deprecations\n",
      "  \n"
     ]
    }
   ],
   "source": [
    "NSIMS = 1000\n",
    "bias_estimated = {}\n",
    "\n",
    "for exp in exp_names:\n",
    "    bias_estimated[exp] = np.zeros(NSIMS)\n",
    "    \n",
    "    for i in range(NSIMS):\n",
    "        pclgg = skylens.bin_1d((pcls[exp]['cgg'].mean(axis = 0) - n_window[exp].mean())[:3 * NSIDE - 1], bin_utils=cl_bu)\n",
    "        pclkg = skylens.bin_1d(pcls[exp]['ckg'].mean(axis = 0)[:3 * NSIDE - 1], bin_utils=cl_bu)\n",
    "        data_sim = np.concatenate((pclgg, pclkg))\n",
    "    \n",
    "        bias_estimated[exp][i] = minimize(fun = chisq, x0 = x0, \n",
    "                                 args=(data_sim, cov_inv, cosmo_params2, corrs, kappa0, zs_bin1, Win,\n",
    "                                       WT, WT_binned, cl_bin_utils, None, None))['x']"
   ]
  },
  {
   "cell_type": "markdown",
   "id": "cb1dd41a-72f5-4268-bb83-e0a610e8ec0b",
   "metadata": {},
   "source": [
    "### Inference over $b_0$ and $A_s$"
   ]
  },
  {
   "cell_type": "code",
   "execution_count": 29,
   "id": "fd133d2d-0824-498b-a775-4af254545cbc",
   "metadata": {},
   "outputs": [],
   "source": [
    "x0 = np.array([1.05, 2.25])"
   ]
  },
  {
   "cell_type": "code",
   "execution_count": 30,
   "id": "91d75b7c-0ec6-4ece-9223-78c593f3d8c0",
   "metadata": {},
   "outputs": [],
   "source": [
    "from time import time"
   ]
  },
  {
   "cell_type": "code",
   "execution_count": null,
   "id": "f1e36af3-4613-48a2-8675-8b655f792583",
   "metadata": {},
   "outputs": [
    {
     "name": "stderr",
     "output_type": "stream",
     "text": [
      "/global/homes/t/tanveerk/.conda/envs/myenv_perlmutter/lib/python3.7/site-packages/ipykernel_launcher.py:6: DeprecationWarning: `np.int` is a deprecated alias for the builtin `int`. To silence this warning, use `int` by itself. Doing this will not modify any behavior and is safe. When replacing `np.int`, you may wish to use e.g. `np.int64` or `np.int32` to specify the precision. If you wish to review your current use, check the release note link for additional information.\n",
      "Deprecated in NumPy 1.20; for more details and guidance: https://numpy.org/devdocs/release/1.20.0-notes.html#deprecations\n",
      "  \n",
      "/global/homes/t/tanveerk/SkyLens/skylens/tracer_utils.py:368: RuntimeWarning: invalid value encountered in true_divide\n",
      "  kernel['gkernel_int']/=np.sum(pz_zl*dzl)\n"
     ]
    }
   ],
   "source": [
    "NSIMS = 50\n",
    "bias_estimated = {}\n",
    "\n",
    "start = time()\n",
    "\n",
    "for exp in ['A', 'C']:\n",
    "    bias_estimated[exp] = np.zeros((NSIMS, 2))\n",
    "    \n",
    "    for i in range(NSIMS):\n",
    "        pclgg = skylens.bin_1d((pcls[exp]['cgg'].mean(axis = 0) - n_window[exp].mean())[:3 * NSIDE - 1], bin_utils=cl_bu)\n",
    "        pclkg = skylens.bin_1d(pcls[exp]['ckg'].mean(axis = 0)[:3 * NSIDE - 1], bin_utils=cl_bu)\n",
    "        data_sim = np.concatenate((pclgg, pclkg))\n",
    "    \n",
    "        bias_estimated[exp][i] = minimize(fun = chisq, x0 = x0, \n",
    "                                          args=(data, cov_inv, cosmo_params2, corrs, kappa0, \n",
    "                                                zs_bin1, Win,WT, WT_binned, \n",
    "                                                cl_bin_utils, None, ['Ase9']),\n",
    "                                          bounds = ((0.95, 1.05), (2.15, 2.25)))['x']\n",
    "        \n",
    "print(f\"Time took {time() - start} seconds.\")"
   ]
  },
  {
   "cell_type": "code",
   "execution_count": 33,
   "id": "4023e955-6fc4-456c-8b11-8a8b134add5b",
   "metadata": {},
   "outputs": [
    {
     "data": {
      "text/plain": [
       "{'A': array([[1.00978479, 2.19361701],\n",
       "        [1.00978479, 2.19361701]]),\n",
       " 'B': array([[1.00978479, 2.19361701],\n",
       "        [1.00978479, 2.19361701]]),\n",
       " 'C': array([[1.00978479, 2.19361701],\n",
       "        [1.00978479, 2.19361701]])}"
      ]
     },
     "execution_count": 33,
     "metadata": {},
     "output_type": "execute_result"
    }
   ],
   "source": [
    "bias_estimated"
   ]
  },
  {
   "cell_type": "code",
   "execution_count": null,
   "id": "fe52b23b-6ebb-407a-bd86-6da49df76cde",
   "metadata": {},
   "outputs": [],
   "source": []
  }
 ],
 "metadata": {
  "kernelspec": {
   "display_name": "MyEnvP",
   "language": "python",
   "name": "myenv_perlmutter"
  },
  "language_info": {
   "codemirror_mode": {
    "name": "ipython",
    "version": 3
   },
   "file_extension": ".py",
   "mimetype": "text/x-python",
   "name": "python",
   "nbconvert_exporter": "python",
   "pygments_lexer": "ipython3",
   "version": "3.7.10"
  }
 },
 "nbformat": 4,
 "nbformat_minor": 5
}
