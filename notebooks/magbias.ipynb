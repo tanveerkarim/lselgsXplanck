{
 "cells": [
  {
   "cell_type": "markdown",
   "id": "d29ea70b-2a07-4c7e-898d-1cf79f687036",
   "metadata": {},
   "source": [
    "Magnification bias analysis of ELG sample using Rongpu Zhao's method."
   ]
  },
  {
   "cell_type": "code",
   "execution_count": 15,
   "id": "6ca11bd8-54b2-4ce5-9957-454dfdb541d0",
   "metadata": {},
   "outputs": [],
   "source": [
    "import numpy as np\n",
    "import healpy as hp\n",
    "from astropy.io import fits\n",
    "from copy import deepcopy\n",
    "import pickle\n",
    "import pandas as pd\n",
    "import fitsio\n",
    "from scipy.interpolate import interp1d\n",
    "import sklearn\n",
    "from joblib import dump, load\n",
    "import time \n",
    "\n",
    "import matplotlib.pyplot as plt \n",
    "plt.style.use(\"seaborn-talk\")"
   ]
  },
  {
   "cell_type": "code",
   "execution_count": 2,
   "id": "9a79f5bd-e302-4775-a52e-af040c43ef67",
   "metadata": {},
   "outputs": [],
   "source": [
    "# need this since pandas can't read these files \n",
    "import pickle5 as pickle\n",
    "with open(\"/pscratch/sd/t/tanveerk/final_data_products/elgXplanck/dr9_elg_sv3_selected_features.pkl\", \"rb\") as fh:\n",
    "    photoz_features = pickle.load(fh)"
   ]
  },
  {
   "cell_type": "markdown",
   "id": "803b6f75-95c1-492d-8fec-21a718a2c3b1",
   "metadata": {},
   "source": [
    "First we sub-select ELGs from the main sample by subtracting $0.1$ along all magnitudes. We do this to ensure that for a flux-limited sample, we are counting all the possible objects. If we keep our measurement to the flux-limit, then when we magnify, we will not know how many fainter objects will make it to our sample. "
   ]
  },
  {
   "cell_type": "code",
   "execution_count": 3,
   "id": "2cedffef-3477-4e2f-906f-4ed00134a449",
   "metadata": {},
   "outputs": [],
   "source": [
    "# features that need to be used for sub-selection\n",
    "features_mag = np.array(['MAG_G', 'MAG_R', 'MAG_Z', 'gfib', 'rfib', 'zfib'])"
   ]
  },
  {
   "cell_type": "code",
   "execution_count": 4,
   "id": "615f0f81-24f8-4c48-985a-e97429b13d7f",
   "metadata": {},
   "outputs": [
    {
     "data": {
      "text/html": [
       "<div>\n",
       "<style scoped>\n",
       "    .dataframe tbody tr th:only-of-type {\n",
       "        vertical-align: middle;\n",
       "    }\n",
       "\n",
       "    .dataframe tbody tr th {\n",
       "        vertical-align: top;\n",
       "    }\n",
       "\n",
       "    .dataframe thead th {\n",
       "        text-align: right;\n",
       "    }\n",
       "</style>\n",
       "<table border=\"1\" class=\"dataframe\">\n",
       "  <thead>\n",
       "    <tr style=\"text-align: right;\">\n",
       "      <th></th>\n",
       "      <th>r-z</th>\n",
       "      <th>g-r</th>\n",
       "      <th>MAG_G</th>\n",
       "      <th>MAG_R</th>\n",
       "      <th>MAG_Z</th>\n",
       "      <th>gfib</th>\n",
       "      <th>rfib</th>\n",
       "      <th>zfib</th>\n",
       "      <th>SHAPE_R</th>\n",
       "      <th>targetid</th>\n",
       "      <th>morphtype</th>\n",
       "    </tr>\n",
       "  </thead>\n",
       "  <tbody>\n",
       "    <tr>\n",
       "      <th>0</th>\n",
       "      <td>0.31367493</td>\n",
       "      <td>0.20127678</td>\n",
       "      <td>23.01813</td>\n",
       "      <td>22.816853</td>\n",
       "      <td>22.503178</td>\n",
       "      <td>23.29049</td>\n",
       "      <td>23.08921</td>\n",
       "      <td>22.775537</td>\n",
       "      <td>0.0</td>\n",
       "      <td>39633547257970726</td>\n",
       "      <td>PSF</td>\n",
       "    </tr>\n",
       "    <tr>\n",
       "      <th>1</th>\n",
       "      <td>1.0291519</td>\n",
       "      <td>-0.10413742</td>\n",
       "      <td>23.33529</td>\n",
       "      <td>23.439428</td>\n",
       "      <td>22.410276</td>\n",
       "      <td>24.043419</td>\n",
       "      <td>24.147556</td>\n",
       "      <td>23.118404</td>\n",
       "      <td>0.48742554</td>\n",
       "      <td>39633547257970732</td>\n",
       "      <td>REX</td>\n",
       "    </tr>\n",
       "    <tr>\n",
       "      <th>2</th>\n",
       "      <td>0.8038616</td>\n",
       "      <td>-0.38212013</td>\n",
       "      <td>23.738085</td>\n",
       "      <td>24.120205</td>\n",
       "      <td>23.316343</td>\n",
       "      <td>24.00934</td>\n",
       "      <td>24.39146</td>\n",
       "      <td>23.587599</td>\n",
       "      <td>0.0</td>\n",
       "      <td>39633547257970738</td>\n",
       "      <td>PSF</td>\n",
       "    </tr>\n",
       "    <tr>\n",
       "      <th>3</th>\n",
       "      <td>0.7879257</td>\n",
       "      <td>0.31860352</td>\n",
       "      <td>23.511257</td>\n",
       "      <td>23.192654</td>\n",
       "      <td>22.404728</td>\n",
       "      <td>23.783386</td>\n",
       "      <td>23.464783</td>\n",
       "      <td>22.676857</td>\n",
       "      <td>0.0</td>\n",
       "      <td>39633547257970792</td>\n",
       "      <td>PSF</td>\n",
       "    </tr>\n",
       "    <tr>\n",
       "      <th>4</th>\n",
       "      <td>0.9754276</td>\n",
       "      <td>0.32086945</td>\n",
       "      <td>23.389309</td>\n",
       "      <td>23.06844</td>\n",
       "      <td>22.093012</td>\n",
       "      <td>23.81644</td>\n",
       "      <td>23.495571</td>\n",
       "      <td>22.520144</td>\n",
       "      <td>0.26444468</td>\n",
       "      <td>39633547257970945</td>\n",
       "      <td>REX</td>\n",
       "    </tr>\n",
       "  </tbody>\n",
       "</table>\n",
       "</div>"
      ],
      "text/plain": [
       "          r-z          g-r      MAG_G      MAG_R      MAG_Z       gfib  \\\n",
       "0  0.31367493   0.20127678   23.01813  22.816853  22.503178   23.29049   \n",
       "1   1.0291519  -0.10413742   23.33529  23.439428  22.410276  24.043419   \n",
       "2   0.8038616  -0.38212013  23.738085  24.120205  23.316343   24.00934   \n",
       "3   0.7879257   0.31860352  23.511257  23.192654  22.404728  23.783386   \n",
       "4   0.9754276   0.32086945  23.389309   23.06844  22.093012   23.81644   \n",
       "\n",
       "        rfib       zfib     SHAPE_R           targetid morphtype  \n",
       "0   23.08921  22.775537         0.0  39633547257970726       PSF  \n",
       "1  24.147556  23.118404  0.48742554  39633547257970732       REX  \n",
       "2   24.39146  23.587599         0.0  39633547257970738       PSF  \n",
       "3  23.464783  22.676857         0.0  39633547257970792       PSF  \n",
       "4  23.495571  22.520144  0.26444468  39633547257970945       REX  "
      ]
     },
     "execution_count": 4,
     "metadata": {},
     "output_type": "execute_result"
    }
   ],
   "source": [
    "photoz_features.head()"
   ]
  },
  {
   "cell_type": "markdown",
   "id": "86f5af4f-dbc9-4518-828f-8ae7dded697b",
   "metadata": {},
   "source": [
    "First convert relevant features to float from strings."
   ]
  },
  {
   "cell_type": "code",
   "execution_count": 5,
   "id": "01dc56ce-6679-4cf5-a762-a883fde42c2d",
   "metadata": {},
   "outputs": [],
   "source": [
    "for feature in features_mag:\n",
    "    photoz_features[feature] = pd.to_numeric(photoz_features[feature])"
   ]
  },
  {
   "cell_type": "code",
   "execution_count": 6,
   "id": "055751c0-94f9-4c8e-b018-f9eae76281f1",
   "metadata": {},
   "outputs": [],
   "source": [
    "# subselect by 0.1\n",
    "elgs_subselected = deepcopy(photoz_features)\n",
    "\n",
    "for feature in features_mag:\n",
    "    elgs_subselected = elgs_subselected[elgs_subselected[feature] <= (elgs_subselected[feature].max() - 0.1)]"
   ]
  },
  {
   "cell_type": "code",
   "execution_count": 7,
   "id": "f45a5b77-1c7c-4864-ba2d-71a362ea162f",
   "metadata": {},
   "outputs": [
    {
     "data": {
      "text/plain": [
       "r-z                  1.2499428\n",
       "g-r               9.918213e-05\n",
       "MAG_G                 23.82878\n",
       "MAG_R                24.225803\n",
       "MAG_Z                24.032827\n",
       "gfib                 24.099998\n",
       "rfib                 24.499212\n",
       "zfib                 24.304573\n",
       "SHAPE_R              1.4998505\n",
       "targetid     39637366360510011\n",
       "morphtype                  SER\n",
       "dtype: object"
      ]
     },
     "execution_count": 7,
     "metadata": {},
     "output_type": "execute_result"
    }
   ],
   "source": [
    "photoz_features.max()"
   ]
  },
  {
   "cell_type": "code",
   "execution_count": 8,
   "id": "3f842940-9785-4d4c-8029-39124d72039a",
   "metadata": {},
   "outputs": [
    {
     "data": {
      "text/plain": [
       "r-z                  1.2499428\n",
       "g-r               9.918213e-05\n",
       "MAG_G                23.728779\n",
       "MAG_R                24.027977\n",
       "MAG_Z                23.772005\n",
       "gfib                 23.999996\n",
       "rfib                 24.298996\n",
       "zfib                 24.043184\n",
       "SHAPE_R              1.4998505\n",
       "targetid     39637366360510006\n",
       "morphtype                  SER\n",
       "dtype: object"
      ]
     },
     "execution_count": 8,
     "metadata": {},
     "output_type": "execute_result"
    }
   ],
   "source": [
    "elgs_subselected.max()"
   ]
  },
  {
   "cell_type": "markdown",
   "id": "89fa5298-713f-4c1b-8c7a-fc6d08fcc639",
   "metadata": {},
   "source": [
    "### Fiber Magnitude Correction Factors\n",
    "Next we apply fiber magnitude correction factors according to Rongpu's table. "
   ]
  },
  {
   "cell_type": "code",
   "execution_count": 30,
   "id": "8ae4652f-d485-4ba3-b60e-2b74fa21e3bb",
   "metadata": {},
   "outputs": [],
   "source": [
    "elgs_subselected['ff_ratio'] = -99.  # FIBERFLUX / FLUX\n",
    "elgs_subselected['ff_factor'] = -99.  # Fiberflux multiplicative factor for magnification"
   ]
  },
  {
   "cell_type": "code",
   "execution_count": 31,
   "id": "491f76b8-4560-4add-aa37-4ec2b59efa7e",
   "metadata": {},
   "outputs": [],
   "source": [
    "# flags for type\n",
    "mask_psf = (elgs_subselected['morphtype']=='PSF')\n",
    "mask_rex = (elgs_subselected['morphtype']=='REX')\n",
    "mask_exp = (elgs_subselected['morphtype']=='EXP')\n",
    "mask_dev = (elgs_subselected['morphtype']=='DEV')"
   ]
  },
  {
   "cell_type": "markdown",
   "id": "33520276-de4b-466e-8086-7eb266bc94e2",
   "metadata": {},
   "source": [
    "#### PSF"
   ]
  },
  {
   "cell_type": "code",
   "execution_count": 33,
   "id": "738d26a7-8f63-42bd-a0e2-9203781f72ec",
   "metadata": {},
   "outputs": [
    {
     "name": "stdout",
     "output_type": "stream",
     "text": [
      "PSF\n",
      "8483380 0.2944791162287173\n"
     ]
    },
    {
     "name": "stderr",
     "output_type": "stream",
     "text": [
      "/global/homes/t/tanveerk/.conda/envs/myenv_perlmutter/lib/python3.7/site-packages/ipykernel_launcher.py:3: SettingWithCopyWarning: \n",
      "A value is trying to be set on a copy of a slice from a DataFrame\n",
      "\n",
      "See the caveats in the documentation: https://pandas.pydata.org/pandas-docs/stable/user_guide/indexing.html#returning-a-view-versus-a-copy\n",
      "  This is separate from the ipykernel package so we can avoid doing imports until\n"
     ]
    }
   ],
   "source": [
    "print('PSF')\n",
    "print(np.sum(mask_psf), np.sum(mask_psf)/len(mask_psf))\n",
    "elgs_subselected['ff_factor'][mask_psf] = 1. # no correction needed "
   ]
  },
  {
   "cell_type": "markdown",
   "id": "fafd678d-899a-4f58-b76b-a38bd7908519",
   "metadata": {},
   "source": [
    "#### Rounded Exponentials (REX)"
   ]
  },
  {
   "cell_type": "code",
   "execution_count": null,
   "id": "6bb61ffd-7e5c-409e-bf04-e55377ecb804",
   "metadata": {},
   "outputs": [],
   "source": [
    "print('REX')\n",
    "print(np.sum(mask_rex), np.sum(mask_rex)/len(mask_rex))\n",
    "\n",
    "data_rex = np.load('/global/homes/t/tanveerk/lselgsXplanck/src/for_tanveer/data/rex.npz')\n",
    "f_ratio_interp = interp1d(data_rex['shape_r'], data_rex['ratio'], bounds_error=False,\n",
    "                          fill_value='extrapolate', kind='quadratic')\n",
    "f_ratio = f_ratio_interp(photoz_features['SHAPE_R'][mask_rex])\n",
    "f_ratio = np.clip(f_ratio, 0, 1)\n",
    "f_factor_interp = interp1d(data_rex['shape_r'], data_rex['f_factor'], \n",
    "                           bounds_error=False, fill_value='extrapolate', kind='quadratic')\n",
    "f_factor = f_factor_interp(photoz_features['SHAPE_R'][mask_rex])\n",
    "f_factor = np.clip(f_factor, 0, 1)\n",
    "print(np.median(f_factor))\n",
    "\n",
    "photoz_features['ff_ratio'][mask_rex] = f_ratio\n",
    "photoz_features['ff_factor'][mask_rex] = f_factor"
   ]
  },
  {
   "cell_type": "code",
   "execution_count": null,
   "id": "fae72721-092d-4a18-842d-aa6db65be2b9",
   "metadata": {},
   "outputs": [],
   "source": []
  },
  {
   "cell_type": "code",
   "execution_count": null,
   "id": "18a89bda-13aa-40c1-8507-9d8705740dd3",
   "metadata": {},
   "outputs": [],
   "source": []
  },
  {
   "cell_type": "markdown",
   "id": "08b0c168-339e-4a31-a5a7-82d5040ff866",
   "metadata": {},
   "source": [
    "Now we count the number of objects that fall within our selection. "
   ]
  },
  {
   "cell_type": "code",
   "execution_count": 10,
   "id": "d5405dd9-b537-4ec8-b914-fc6377c50a98",
   "metadata": {},
   "outputs": [],
   "source": [
    "# select and order features the same way as RFC was trained\n",
    "X = elgs_subselected.iloc[:,:-3]\n",
    "X = X[['MAG_G', 'MAG_R', 'MAG_Z', 'g-r', 'r-z', 'gfib', 'rfib', 'zfib']]"
   ]
  },
  {
   "cell_type": "code",
   "execution_count": 14,
   "id": "dd304cb2-b176-47a4-bd23-47166c1d7ca3",
   "metadata": {},
   "outputs": [],
   "source": [
    "#read in trained pipeline \n",
    "pipeline = load('/pscratch/sd/t/tanveerk/final_data_products/elgXplanck/fuji_RandomForestClassifier_single_tomo.joblib') "
   ]
  },
  {
   "cell_type": "code",
   "execution_count": 17,
   "id": "8810be1c-f15b-4576-b076-ae2d2ed5d884",
   "metadata": {},
   "outputs": [
    {
     "name": "stdout",
     "output_type": "stream",
     "text": [
      "It took 129.64172554016113 seconds to predict 28808087 ELGs.\n"
     ]
    }
   ],
   "source": [
    "start = time.time()\n",
    "#predict with pipeline\n",
    "y_prd = pipeline.predict(X)\n",
    "print(f\"It took {time.time() - start} seconds to predict {len(X)} ELGs.\")"
   ]
  },
  {
   "cell_type": "code",
   "execution_count": 18,
   "id": "8e8f2dbc-ebec-4781-ae91-a937fb6deaae",
   "metadata": {},
   "outputs": [
    {
     "data": {
      "text/plain": [
       "221600.66923076924"
      ]
     },
     "execution_count": 18,
     "metadata": {},
     "output_type": "execute_result"
    }
   ],
   "source": [
    "28808087/130"
   ]
  },
  {
   "cell_type": "code",
   "execution_count": 21,
   "id": "830652b1-9248-49f3-933d-bf7408cccc31",
   "metadata": {},
   "outputs": [
    {
     "data": {
      "text/plain": [
       "3.611111111111111"
      ]
     },
     "execution_count": 21,
     "metadata": {},
     "output_type": "execute_result"
    }
   ],
   "source": [
    "(130 * 100)/3600"
   ]
  },
  {
   "cell_type": "code",
   "execution_count": 28,
   "id": "7f79bcdb-3fe5-4717-a62a-285ed7bc696e",
   "metadata": {},
   "outputs": [
    {
     "data": {
      "text/plain": [
       "13.221343020798294"
      ]
     },
     "execution_count": 28,
     "metadata": {},
     "output_type": "execute_result"
    }
   ],
   "source": [
    "np.sum(y_prd == 2)/len(y_prd) * 100"
   ]
  },
  {
   "cell_type": "code",
   "execution_count": null,
   "id": "e3aebe0c-a0fc-4cf6-ada3-93bc021dd7e2",
   "metadata": {},
   "outputs": [],
   "source": []
  },
  {
   "cell_type": "code",
   "execution_count": null,
   "id": "511a04f0-3829-4fec-8a25-e00db0bce21a",
   "metadata": {},
   "outputs": [],
   "source": []
  },
  {
   "cell_type": "code",
   "execution_count": 5,
   "id": "feb358ae-0852-40f4-8523-07e29c30de4d",
   "metadata": {},
   "outputs": [
    {
     "name": "stdout",
     "output_type": "stream",
     "text": [
      "PSF\n",
      "11178212 0.2995113593517259\n"
     ]
    },
    {
     "name": "stderr",
     "output_type": "stream",
     "text": [
      "/global/homes/t/tanveerk/.conda/envs/myenv_perlmutter/lib/python3.7/site-packages/ipykernel_launcher.py:5: SettingWithCopyWarning: \n",
      "A value is trying to be set on a copy of a slice from a DataFrame\n",
      "\n",
      "See the caveats in the documentation: https://pandas.pydata.org/pandas-docs/stable/user_guide/indexing.html#returning-a-view-versus-a-copy\n",
      "  \"\"\"\n"
     ]
    }
   ],
   "source": []
  },
  {
   "cell_type": "code",
   "execution_count": 6,
   "id": "9cef5a6f-814f-4beb-85a7-17dd3487ed70",
   "metadata": {},
   "outputs": [
    {
     "name": "stdout",
     "output_type": "stream",
     "text": [
      "REX\n",
      "20439919 0.547671481336118\n",
      "0.7998132504272224\n"
     ]
    },
    {
     "name": "stderr",
     "output_type": "stream",
     "text": [
      "/global/homes/t/tanveerk/.conda/envs/myenv_perlmutter/lib/python3.7/site-packages/ipykernel_launcher.py:17: SettingWithCopyWarning: \n",
      "A value is trying to be set on a copy of a slice from a DataFrame\n",
      "\n",
      "See the caveats in the documentation: https://pandas.pydata.org/pandas-docs/stable/user_guide/indexing.html#returning-a-view-versus-a-copy\n",
      "  app.launch_new_instance()\n",
      "/global/homes/t/tanveerk/.conda/envs/myenv_perlmutter/lib/python3.7/site-packages/ipykernel_launcher.py:18: SettingWithCopyWarning: \n",
      "A value is trying to be set on a copy of a slice from a DataFrame\n",
      "\n",
      "See the caveats in the documentation: https://pandas.pydata.org/pandas-docs/stable/user_guide/indexing.html#returning-a-view-versus-a-copy\n"
     ]
    }
   ],
   "source": []
  },
  {
   "cell_type": "code",
   "execution_count": 7,
   "id": "03e5508d-c957-4e57-8fc0-1f81c294a66b",
   "metadata": {},
   "outputs": [
    {
     "name": "stderr",
     "output_type": "stream",
     "text": [
      "/global/homes/t/tanveerk/.conda/envs/myenv_perlmutter/lib/python3.7/site-packages/ipykernel_launcher.py:3: DeprecationWarning: `np.float` is a deprecated alias for the builtin `float`. To silence this warning, use `float` by itself. Doing this will not modify any behavior and is safe. If you specifically wanted the numpy scalar type, use `np.float64` here.\n",
      "Deprecated in NumPy 1.20; for more details and guidance: https://numpy.org/devdocs/release/1.20.0-notes.html#deprecations\n",
      "  This is separate from the ipykernel package so we can avoid doing imports until\n",
      "/global/homes/t/tanveerk/.conda/envs/myenv_perlmutter/lib/python3.7/site-packages/ipykernel_launcher.py:4: DeprecationWarning: `np.float` is a deprecated alias for the builtin `float`. To silence this warning, use `float` by itself. Doing this will not modify any behavior and is safe. If you specifically wanted the numpy scalar type, use `np.float64` here.\n",
      "Deprecated in NumPy 1.20; for more details and guidance: https://numpy.org/devdocs/release/1.20.0-notes.html#deprecations\n",
      "  after removing the cwd from sys.path.\n",
      "/global/homes/t/tanveerk/.conda/envs/myenv_perlmutter/lib/python3.7/site-packages/ipykernel_launcher.py:5: DeprecationWarning: `np.float` is a deprecated alias for the builtin `float`. To silence this warning, use `float` by itself. Doing this will not modify any behavior and is safe. If you specifically wanted the numpy scalar type, use `np.float64` here.\n",
      "Deprecated in NumPy 1.20; for more details and guidance: https://numpy.org/devdocs/release/1.20.0-notes.html#deprecations\n",
      "  \"\"\"\n"
     ]
    }
   ],
   "source": [
    "for magnification in [0.99, 1., 1.01]:\n",
    "\n",
    "    gmag = photoz_features['MAG_G'].astype(np.float) - 2.5*np.log10(magnification)\n",
    "    rmag = photoz_features['MAG_R'].astype(np.float) - 2.5*np.log10(magnification)\n",
    "    zmag = photoz_features['MAG_Z'].astype(np.float) - 2.5*np.log10(magnification)"
   ]
  },
  {
   "cell_type": "code",
   "execution_count": 12,
   "id": "c472a109-9343-40ec-a2ce-9e0f2431d829",
   "metadata": {},
   "outputs": [
    {
     "name": "stderr",
     "output_type": "stream",
     "text": [
      "/global/homes/t/tanveerk/.conda/envs/myenv_perlmutter/lib/python3.7/site-packages/ipykernel_launcher.py:3: DeprecationWarning: `np.float` is a deprecated alias for the builtin `float`. To silence this warning, use `float` by itself. Doing this will not modify any behavior and is safe. If you specifically wanted the numpy scalar type, use `np.float64` here.\n",
      "Deprecated in NumPy 1.20; for more details and guidance: https://numpy.org/devdocs/release/1.20.0-notes.html#deprecations\n",
      "  This is separate from the ipykernel package so we can avoid doing imports until\n",
      "/global/homes/t/tanveerk/.conda/envs/myenv_perlmutter/lib/python3.7/site-packages/ipykernel_launcher.py:4: DeprecationWarning: `np.float` is a deprecated alias for the builtin `float`. To silence this warning, use `float` by itself. Doing this will not modify any behavior and is safe. If you specifically wanted the numpy scalar type, use `np.float64` here.\n",
      "Deprecated in NumPy 1.20; for more details and guidance: https://numpy.org/devdocs/release/1.20.0-notes.html#deprecations\n",
      "  after removing the cwd from sys.path.\n",
      "/global/homes/t/tanveerk/.conda/envs/myenv_perlmutter/lib/python3.7/site-packages/ipykernel_launcher.py:5: DeprecationWarning: `np.float` is a deprecated alias for the builtin `float`. To silence this warning, use `float` by itself. Doing this will not modify any behavior and is safe. If you specifically wanted the numpy scalar type, use `np.float64` here.\n",
      "Deprecated in NumPy 1.20; for more details and guidance: https://numpy.org/devdocs/release/1.20.0-notes.html#deprecations\n",
      "  \"\"\"\n"
     ]
    }
   ],
   "source": [
    "ff_factor = True\n",
    "if ff_factor:\n",
    "    gfibermag = photoz_features['gfib'].astype(np.float) - 2.5*np.log10(1 + (magnification - 1)*photoz_features['ff_factor']) \n",
    "    rfibermag = photoz_features['rfib'].astype(np.float) - 2.5*np.log10(1 + (magnification - 1)*photoz_features['ff_factor']) \n",
    "    zfibermag = photoz_features['zfib'].astype(np.float) - 2.5*np.log10(1 + (magnification - 1)*photoz_features['ff_factor']) \n",
    "else:\n",
    "    zfibermag = 22.5 - 2.5 * np.log10((cat['FIBERFLUX_Z'] * (1 + (magnification-1) * 1) / cat['MW_TRANSMISSION_Z']).clip(1e-7))"
   ]
  },
  {
   "cell_type": "code",
   "execution_count": 14,
   "id": "064c11ab-fefb-407a-8f83-2ce11f8a6e00",
   "metadata": {},
   "outputs": [],
   "source": [
    "magnify_low, magnify_high = 0.99, 1.01\n",
    "dmag = (-2.5 * np.log10(magnify_low)) - (-2.5 * np.log10(magnify_high))\n"
   ]
  },
  {
   "cell_type": "code",
   "execution_count": 15,
   "id": "87ebb854-23c3-465a-b598-045795d36b72",
   "metadata": {},
   "outputs": [
    {
     "data": {
      "text/plain": [
       "0.021715447962731664"
      ]
     },
     "execution_count": 15,
     "metadata": {},
     "output_type": "execute_result"
    }
   ],
   "source": [
    "dmag"
   ]
  },
  {
   "cell_type": "code",
   "execution_count": null,
   "id": "08e1c5b0-5c03-4d63-b2dc-7aaead0ae991",
   "metadata": {},
   "outputs": [],
   "source": []
  },
  {
   "cell_type": "code",
   "execution_count": null,
   "id": "554b88fd-44da-467c-9ce5-df5a04a8c5ee",
   "metadata": {},
   "outputs": [],
   "source": []
  },
  {
   "cell_type": "code",
   "execution_count": 13,
   "id": "eb6d2b8c-f916-4313-b38b-2b0ad749110a",
   "metadata": {},
   "outputs": [],
   "source": [
    "magnify_low, magnify_high = 0.99, 1.01\n",
    "dmag = (-2.5 * np.log10(magnify_low)) - (-2.5 * np.log10(magnify_high))"
   ]
  },
  {
   "cell_type": "code",
   "execution_count": null,
   "id": "40423e02-120e-41ec-80ab-25b091428961",
   "metadata": {},
   "outputs": [],
   "source": []
  }
 ],
 "metadata": {
  "kernelspec": {
   "display_name": "MyEnvP",
   "language": "python",
   "name": "myenv_perlmutter"
  },
  "language_info": {
   "codemirror_mode": {
    "name": "ipython",
    "version": 3
   },
   "file_extension": ".py",
   "mimetype": "text/x-python",
   "name": "python",
   "nbconvert_exporter": "python",
   "pygments_lexer": "ipython3",
   "version": "3.7.10"
  }
 },
 "nbformat": 4,
 "nbformat_minor": 5
}
